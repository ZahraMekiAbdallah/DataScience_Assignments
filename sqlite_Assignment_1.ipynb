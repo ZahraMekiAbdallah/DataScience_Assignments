{
 "cells": [
  {
   "cell_type": "code",
   "execution_count": 29,
   "id": "1ce7861d",
   "metadata": {},
   "outputs": [],
   "source": [
    "import sqlite3\n",
    "import pandas as pd\n",
    "import requests\n",
    "from bs4 import BeautifulSoup"
   ]
  },
  {
   "cell_type": "markdown",
   "id": "4c2ae599",
   "metadata": {},
   "source": [
    "Task\n",
    "----------\n",
    "Design and create a database for scraping All books for each category using DB Browser for sqllite from this web site (http://books.toscrape.com/)<br/>\n",
    "1- create books & categories table<br/>\n",
    "2- create notebook to scrap data and save data in the database"
   ]
  },
  {
   "cell_type": "markdown",
   "id": "5a4687ab",
   "metadata": {},
   "source": [
    "#### Create Tables"
   ]
  },
  {
   "cell_type": "code",
   "execution_count": 32,
   "id": "bdd8a880",
   "metadata": {
    "scrolled": true
   },
   "outputs": [
    {
     "name": "stdout",
     "output_type": "stream",
     "text": [
      "Tables is Ready\n"
     ]
    }
   ],
   "source": [
    "connection_obj = sqlite3.connect('task.db')\n",
    " \n",
    "cursor_obj = connection_obj.cursor()\n",
    " \n",
    "cursor_obj.execute(\"DROP TABLE IF EXISTS CATEGORY\")\n",
    "table = \"\"\" CREATE TABLE CATEGORY (\n",
    "            id INTEGER NOT NULL PRIMARY KEY AUTOINCREMENT,\n",
    "            name VARCHAR(255) NOT NULL\n",
    "        );\"\"\"\n",
    "cursor_obj.execute(table)\n",
    "\n",
    "cursor_obj.execute(\"DROP TABLE IF EXISTS BOOK\")\n",
    "table = \"\"\" CREATE TABLE BOOK (\n",
    "            id INTEGER NOT NULL PRIMARY KEY AUTOINCREMENT,\n",
    "            name VARCHAR(255) NOT NULL,\n",
    "            price FLOAT,\n",
    "            rate INT,\n",
    "            categ_id INT,\n",
    "            FOREIGN KEY (categ_id) REFERENCES CATEGORY(id)\n",
    "        ); \"\"\"\n",
    " \n",
    "cursor_obj.execute(table)\n",
    "print(\"Tables is Ready\")\n",
    "connection_obj.close()"
   ]
  },
  {
   "cell_type": "markdown",
   "id": "bc97fb53",
   "metadata": {},
   "source": [
    "#### Add Categories & Books"
   ]
  },
  {
   "cell_type": "code",
   "execution_count": 33,
   "id": "16cc3909",
   "metadata": {
    "scrolled": true
   },
   "outputs": [],
   "source": [
    "connection_obj = sqlite3.connect('task.db')\n",
    "cursor_obj = connection_obj.cursor()\n",
    "\n",
    "rate_keys={'One':1, 'Two':2, 'Three':3, 'Four':4, 'Five':5}\n",
    "\n",
    "def add_category(categ_name):\n",
    "    cursor_obj.execute('insert into category (name) values (?)',[categ_name])\n",
    "    categ_id = cursor_obj.lastrowid\n",
    "    connection_obj.commit()\n",
    "    return categ_id\n",
    "        \n",
    "def add_books(url,categ_href,categ_id):\n",
    "    categ_soup=BeautifulSoup(requests.get(str(url+categ_href)).text,'html.parser')\n",
    "    books=categ_soup.find_all('article',attrs={'class':'product_pod'})\n",
    "    for book in books:\n",
    "        name=book.find('h3').find('a').get('title')\n",
    "        price=book.find('p', attrs={'class':'price_color'}).get_text()[2:]\n",
    "        rate=rate_keys[str(book.find('p', attrs={'class':'star-rating'}).get('class')[1])]\n",
    "        cursor_obj.execute('insert into book (name,price,rate,categ_id) values (?,?,?,?)',\n",
    "                               [name,price,rate,int(categ_id)])\n",
    "        connection_obj.commit()\n",
    "    if categ_soup.find('li', attrs={'class':'next'}):\n",
    "        next_link = categ_soup.find('li', attrs={'class':'next'}).find('a').get('href')\n",
    "        url = str(url+categ_href.replace('index.html', next_link))\n",
    "        add_books(url,categ_href,categ_id)\n",
    "    \n",
    "def add_category_books():\n",
    "    url='https://books.toscrape.com/'\n",
    "    soup=BeautifulSoup(requests.get(url).text,'html.parser')\n",
    "    categ_lst=soup.find('ul',attrs={'class':''}).find_all('a')\n",
    "    for categ in categ_lst:\n",
    "        categ_name=categ.get_text().strip()\n",
    "        categ_href=categ.get('href')\n",
    "        categ_id=add_category(categ_name)\n",
    "        add_books(url,categ_href,categ_id)\n",
    "\n",
    "        \n",
    "add_category_books()\n",
    "connection_obj.close()"
   ]
  },
  {
   "cell_type": "code",
   "execution_count": 10,
   "id": "99ff95c1",
   "metadata": {},
   "outputs": [],
   "source": []
  }
 ],
 "metadata": {
  "kernelspec": {
   "display_name": "Python 3",
   "language": "python",
   "name": "python3"
  },
  "language_info": {
   "codemirror_mode": {
    "name": "ipython",
    "version": 3
   },
   "file_extension": ".py",
   "mimetype": "text/x-python",
   "name": "python",
   "nbconvert_exporter": "python",
   "pygments_lexer": "ipython3",
   "version": "3.8.8"
  }
 },
 "nbformat": 4,
 "nbformat_minor": 5
}
