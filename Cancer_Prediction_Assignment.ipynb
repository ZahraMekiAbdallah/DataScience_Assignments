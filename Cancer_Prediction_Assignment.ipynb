{
 "cells": [
  {
   "cell_type": "code",
   "execution_count": 1,
   "id": "a034d755",
   "metadata": {},
   "outputs": [],
   "source": [
    "import pandas as pd\n",
    "import numpy as np\n",
    "from sklearn import preprocessing\n",
    "import matplotlib.pyplot as plt\n",
    "import seaborn as sns\n",
    "from sklearn.preprocessing import StandardScaler, RobustScaler\n",
    "from sklearn.linear_model import LogisticRegression\n",
    "from sklearn.neighbors import KNeighborsClassifier\n",
    "from sklearn import metrics\n",
    "from sklearn.metrics import confusion_matrix\n",
    "from datasist.structdata import detect_outliers"
   ]
  },
  {
   "cell_type": "code",
   "execution_count": 2,
   "id": "7fcca76e",
   "metadata": {},
   "outputs": [],
   "source": [
    "import warnings\n",
    "warnings.filterwarnings('ignore')\n",
    "%matplotlib inline\n",
    "sns.set(rc={'figure.figsize': [8, 5]}, font_scale=1.2)\n",
    "pd.set_option('display.float_format', lambda x: '%.3f' % x)"
   ]
  },
  {
   "cell_type": "code",
   "execution_count": 3,
   "id": "45ba9293",
   "metadata": {},
   "outputs": [],
   "source": [
    "X_train = pd.read_csv('datasets/cancer_data/train_data.csv')\n",
    "y_train = pd.read_csv('datasets/cancer_data/train_labels.csv')\n",
    "X_val = pd.read_csv('datasets/cancer_data/val_data.csv')\n",
    "y_val = pd.read_csv('datasets/cancer_data/val_labels.csv')\n",
    "X_test = pd.read_csv('datasets/cancer_data/test_data.csv')\n",
    "y_test = pd.read_csv('datasets/cancer_data/test_labels.csv')"
   ]
  },
  {
   "cell_type": "code",
   "execution_count": 4,
   "id": "c6e96bd6",
   "metadata": {},
   "outputs": [
    {
     "name": "stdout",
     "output_type": "stream",
     "text": [
      "Data Len:  390   Label Len:  390\n"
     ]
    }
   ],
   "source": [
    "print('Data Len: ',len(X_train),'  Label Len: ',len(y_train))"
   ]
  },
  {
   "cell_type": "code",
   "execution_count": 5,
   "id": "e37ee5de",
   "metadata": {},
   "outputs": [],
   "source": [
    "# === merge 2 dataframes 'data' and 'labels' ===\n",
    "cancer_df = pd.concat([X_train, y_train],axis=1)"
   ]
  },
  {
   "cell_type": "code",
   "execution_count": 6,
   "id": "53513b85",
   "metadata": {},
   "outputs": [
    {
     "data": {
      "text/html": [
       "<div>\n",
       "<style scoped>\n",
       "    .dataframe tbody tr th:only-of-type {\n",
       "        vertical-align: middle;\n",
       "    }\n",
       "\n",
       "    .dataframe tbody tr th {\n",
       "        vertical-align: top;\n",
       "    }\n",
       "\n",
       "    .dataframe thead th {\n",
       "        text-align: right;\n",
       "    }\n",
       "</style>\n",
       "<table border=\"1\" class=\"dataframe\">\n",
       "  <thead>\n",
       "    <tr style=\"text-align: right;\">\n",
       "      <th></th>\n",
       "      <th>age</th>\n",
       "      <th>famhistory</th>\n",
       "      <th>marker</th>\n",
       "      <th>cancer</th>\n",
       "    </tr>\n",
       "  </thead>\n",
       "  <tbody>\n",
       "    <tr>\n",
       "      <th>0</th>\n",
       "      <td>63.789</td>\n",
       "      <td>0</td>\n",
       "      <td>0.727</td>\n",
       "      <td>1</td>\n",
       "    </tr>\n",
       "    <tr>\n",
       "      <th>1</th>\n",
       "      <td>60.211</td>\n",
       "      <td>0</td>\n",
       "      <td>0.365</td>\n",
       "      <td>0</td>\n",
       "    </tr>\n",
       "    <tr>\n",
       "      <th>2</th>\n",
       "      <td>70.187</td>\n",
       "      <td>1</td>\n",
       "      <td>1.271</td>\n",
       "      <td>1</td>\n",
       "    </tr>\n",
       "    <tr>\n",
       "      <th>3</th>\n",
       "      <td>64.857</td>\n",
       "      <td>1</td>\n",
       "      <td>1.000</td>\n",
       "      <td>0</td>\n",
       "    </tr>\n",
       "    <tr>\n",
       "      <th>4</th>\n",
       "      <td>68.658</td>\n",
       "      <td>0</td>\n",
       "      <td>0.837</td>\n",
       "      <td>0</td>\n",
       "    </tr>\n",
       "    <tr>\n",
       "      <th>...</th>\n",
       "      <td>...</td>\n",
       "      <td>...</td>\n",
       "      <td>...</td>\n",
       "      <td>...</td>\n",
       "    </tr>\n",
       "    <tr>\n",
       "      <th>385</th>\n",
       "      <td>72.496</td>\n",
       "      <td>0</td>\n",
       "      <td>1.993</td>\n",
       "      <td>1</td>\n",
       "    </tr>\n",
       "    <tr>\n",
       "      <th>386</th>\n",
       "      <td>58.663</td>\n",
       "      <td>0</td>\n",
       "      <td>0.246</td>\n",
       "      <td>0</td>\n",
       "    </tr>\n",
       "    <tr>\n",
       "      <th>387</th>\n",
       "      <td>62.632</td>\n",
       "      <td>0</td>\n",
       "      <td>0.545</td>\n",
       "      <td>0</td>\n",
       "    </tr>\n",
       "    <tr>\n",
       "      <th>388</th>\n",
       "      <td>69.776</td>\n",
       "      <td>0</td>\n",
       "      <td>2.523</td>\n",
       "      <td>1</td>\n",
       "    </tr>\n",
       "    <tr>\n",
       "      <th>389</th>\n",
       "      <td>60.475</td>\n",
       "      <td>0</td>\n",
       "      <td>0.106</td>\n",
       "      <td>0</td>\n",
       "    </tr>\n",
       "  </tbody>\n",
       "</table>\n",
       "<p>390 rows × 4 columns</p>\n",
       "</div>"
      ],
      "text/plain": [
       "       age  famhistory  marker  cancer\n",
       "0   63.789           0   0.727       1\n",
       "1   60.211           0   0.365       0\n",
       "2   70.187           1   1.271       1\n",
       "3   64.857           1   1.000       0\n",
       "4   68.658           0   0.837       0\n",
       "..     ...         ...     ...     ...\n",
       "385 72.496           0   1.993       1\n",
       "386 58.663           0   0.246       0\n",
       "387 62.632           0   0.545       0\n",
       "388 69.776           0   2.523       1\n",
       "389 60.475           0   0.106       0\n",
       "\n",
       "[390 rows x 4 columns]"
      ]
     },
     "execution_count": 6,
     "metadata": {},
     "output_type": "execute_result"
    }
   ],
   "source": [
    "cancer_df"
   ]
  },
  {
   "cell_type": "markdown",
   "id": "7ad1c63a",
   "metadata": {},
   "source": [
    "## Data Exploration"
   ]
  },
  {
   "cell_type": "code",
   "execution_count": 7,
   "id": "b85347fc",
   "metadata": {},
   "outputs": [
    {
     "name": "stdout",
     "output_type": "stream",
     "text": [
      "<class 'pandas.core.frame.DataFrame'>\n",
      "RangeIndex: 390 entries, 0 to 389\n",
      "Data columns (total 4 columns):\n",
      " #   Column      Non-Null Count  Dtype  \n",
      "---  ------      --------------  -----  \n",
      " 0   age         390 non-null    float64\n",
      " 1   famhistory  390 non-null    int64  \n",
      " 2   marker      390 non-null    float64\n",
      " 3   cancer      390 non-null    int64  \n",
      "dtypes: float64(2), int64(2)\n",
      "memory usage: 12.3 KB\n"
     ]
    }
   ],
   "source": [
    "cancer_df.info()"
   ]
  },
  {
   "cell_type": "code",
   "execution_count": 8,
   "id": "a8823473",
   "metadata": {},
   "outputs": [
    {
     "data": {
      "text/html": [
       "<div>\n",
       "<style scoped>\n",
       "    .dataframe tbody tr th:only-of-type {\n",
       "        vertical-align: middle;\n",
       "    }\n",
       "\n",
       "    .dataframe tbody tr th {\n",
       "        vertical-align: top;\n",
       "    }\n",
       "\n",
       "    .dataframe thead th {\n",
       "        text-align: right;\n",
       "    }\n",
       "</style>\n",
       "<table border=\"1\" class=\"dataframe\">\n",
       "  <thead>\n",
       "    <tr style=\"text-align: right;\">\n",
       "      <th></th>\n",
       "      <th>age</th>\n",
       "      <th>famhistory</th>\n",
       "      <th>marker</th>\n",
       "      <th>cancer</th>\n",
       "    </tr>\n",
       "  </thead>\n",
       "  <tbody>\n",
       "    <tr>\n",
       "      <th>count</th>\n",
       "      <td>390.000</td>\n",
       "      <td>390.000</td>\n",
       "      <td>390.000</td>\n",
       "      <td>390.000</td>\n",
       "    </tr>\n",
       "    <tr>\n",
       "      <th>mean</th>\n",
       "      <td>64.922</td>\n",
       "      <td>0.164</td>\n",
       "      <td>1.012</td>\n",
       "      <td>0.141</td>\n",
       "    </tr>\n",
       "    <tr>\n",
       "      <th>std</th>\n",
       "      <td>4.832</td>\n",
       "      <td>0.371</td>\n",
       "      <td>1.012</td>\n",
       "      <td>0.348</td>\n",
       "    </tr>\n",
       "    <tr>\n",
       "      <th>min</th>\n",
       "      <td>45.304</td>\n",
       "      <td>0.000</td>\n",
       "      <td>0.001</td>\n",
       "      <td>0.000</td>\n",
       "    </tr>\n",
       "    <tr>\n",
       "      <th>25%</th>\n",
       "      <td>61.764</td>\n",
       "      <td>0.000</td>\n",
       "      <td>0.301</td>\n",
       "      <td>0.000</td>\n",
       "    </tr>\n",
       "    <tr>\n",
       "      <th>50%</th>\n",
       "      <td>65.088</td>\n",
       "      <td>0.000</td>\n",
       "      <td>0.703</td>\n",
       "      <td>0.000</td>\n",
       "    </tr>\n",
       "    <tr>\n",
       "      <th>75%</th>\n",
       "      <td>68.278</td>\n",
       "      <td>0.000</td>\n",
       "      <td>1.403</td>\n",
       "      <td>0.000</td>\n",
       "    </tr>\n",
       "    <tr>\n",
       "      <th>max</th>\n",
       "      <td>79.767</td>\n",
       "      <td>1.000</td>\n",
       "      <td>6.721</td>\n",
       "      <td>1.000</td>\n",
       "    </tr>\n",
       "  </tbody>\n",
       "</table>\n",
       "</div>"
      ],
      "text/plain": [
       "          age  famhistory  marker  cancer\n",
       "count 390.000     390.000 390.000 390.000\n",
       "mean   64.922       0.164   1.012   0.141\n",
       "std     4.832       0.371   1.012   0.348\n",
       "min    45.304       0.000   0.001   0.000\n",
       "25%    61.764       0.000   0.301   0.000\n",
       "50%    65.088       0.000   0.703   0.000\n",
       "75%    68.278       0.000   1.403   0.000\n",
       "max    79.767       1.000   6.721   1.000"
      ]
     },
     "execution_count": 8,
     "metadata": {},
     "output_type": "execute_result"
    }
   ],
   "source": [
    "cancer_df.describe()"
   ]
  },
  {
   "cell_type": "code",
   "execution_count": 9,
   "id": "29d1aded",
   "metadata": {},
   "outputs": [
    {
     "data": {
      "text/plain": [
       "age           0\n",
       "famhistory    0\n",
       "marker        0\n",
       "cancer        0\n",
       "dtype: int64"
      ]
     },
     "execution_count": 9,
     "metadata": {},
     "output_type": "execute_result"
    }
   ],
   "source": [
    "cancer_df.isnull().sum()"
   ]
  },
  {
   "cell_type": "code",
   "execution_count": 10,
   "id": "4d1351e2",
   "metadata": {},
   "outputs": [],
   "source": [
    "# Display percentages on countplot charts, handle displaying of chart in case of using \"hue\"\n",
    "def display_countplot_percent(df, ax, hue=False):\n",
    "    '''\n",
    "    display_countplot_percent(): Add percentages on top of bars plots\n",
    "    args:\n",
    "        df: pandas dataframe\n",
    "        ax: Axes object (Countplot)\n",
    "        hue: boolean, False by default using in case of ploting with hue\n",
    "    '''\n",
    "    df_len = int(len(df))\n",
    "    for patch in ax.patches:\n",
    "        patch_height = patch.get_height() if not np.isnan(patch.get_height()) else 0\n",
    "        percent_txt = '{:.2f}%'.format(100 * patch_height /df_len)\n",
    "        new_x = patch.get_x() if hue else patch.get_x() + patch.get_width() / 2.7\n",
    "        new_y = patch_height\n",
    "        ax.text(new_x, new_y, percent_txt)"
   ]
  },
  {
   "cell_type": "markdown",
   "id": "d1384a2e",
   "metadata": {},
   "source": [
    "## Data Analysis\n",
    "> ### Univariate Anlaysis\n",
    "> ### Categorical attributes\n",
    "> #### famhistory, cancer"
   ]
  },
  {
   "cell_type": "markdown",
   "id": "ed08bd08",
   "metadata": {},
   "source": [
    "> ### Cancer\n",
    ">> #### What is the percentage of cancer?"
   ]
  },
  {
   "cell_type": "code",
   "execution_count": 11,
   "id": "88d33593",
   "metadata": {},
   "outputs": [
    {
     "data": {
      "image/png": "[encoded data removed]",
      "text/plain": [
       "<Figure size 576x360 with 1 Axes>"
      ]
     },
     "metadata": {},
     "output_type": "display_data"
    }
   ],
   "source": [
    "plt.title('Cancer', fontsize=15)\n",
    "explode = [0.02, 0.02]\n",
    "data = list(cancer_df['cancer'].value_counts().values)\n",
    "labels = list(cancer_df['cancer'].value_counts().index)\n",
    "colors = sns.color_palette('pastel')[0:5]\n",
    "plt.pie(data, labels = labels, colors = colors, autopct='%.0f%%', explode=explode);"
   ]
  },
  {
   "cell_type": "markdown",
   "id": "9287811b",
   "metadata": {},
   "source": [
    "- 14% only have cancer, imbalanced dataset"
   ]
  },
  {
   "cell_type": "markdown",
   "id": "9c36ded0",
   "metadata": {},
   "source": [
    "> ### Family History\n",
    ">> #### What is the percentage of family history?\n",
    ">> #### What is the percentage of positive family history and cancer?"
   ]
  },
  {
   "cell_type": "code",
   "execution_count": 12,
   "id": "96f70345",
   "metadata": {},
   "outputs": [
    {
     "data": {
      "image/png": "[encoded data removed]",
      "text/plain": [
       "<Figure size 1368x360 with 2 Axes>"
      ]
     },
     "metadata": {},
     "output_type": "display_data"
    }
   ],
   "source": [
    "fig, axes = plt.subplots(1, 2, figsize=(19, 5)) \n",
    "fig.suptitle('Family History') \n",
    "ax_0=sns.countplot(ax=axes[0], data=cancer_df, x='famhistory', palette='viridis', order=cancer_df['famhistory'].value_counts().index)\n",
    "display_countplot_percent(cancer_df, ax_0)\n",
    "ax_1=sns.countplot(ax=axes[1], x='famhistory', data=cancer_df, hue='cancer')\n",
    "display_countplot_percent(cancer_df, ax_1, True)"
   ]
  },
  {
   "cell_type": "markdown",
   "id": "cf1b2ac1",
   "metadata": {},
   "source": [
    "- 16% have positive family history\n",
    "- 13% with negative family history has cancer\n",
    "- 20% with positive family history has cancer"
   ]
  },
  {
   "cell_type": "markdown",
   "id": "f3352125",
   "metadata": {},
   "source": [
    "> ### Numeric attributes\n",
    "> #### Age, marker"
   ]
  },
  {
   "cell_type": "markdown",
   "id": "71728c0c",
   "metadata": {},
   "source": [
    "> ### Age\n",
    ">> #### What is the distribution of age?\n",
    ">> #### Is there any outliers?"
   ]
  },
  {
   "cell_type": "code",
   "execution_count": 13,
   "id": "2fa95d8b",
   "metadata": {},
   "outputs": [
    {
     "data": {
      "image/png": "[encoded data removed]",
      "text/plain": [
       "<Figure size 1080x360 with 2 Axes>"
      ]
     },
     "metadata": {},
     "output_type": "display_data"
    }
   ],
   "source": [
    "fig, axes = plt.subplots(1, 2, figsize=(15, 5)) \n",
    "sns.boxplot(cancer_df[\"age\"], ax=axes[0])\n",
    "sns.histplot(data=cancer_df, x=\"age\", kde=True, ax=axes[1]);"
   ]
  },
  {
   "cell_type": "markdown",
   "id": "97163a70",
   "metadata": {},
   "source": [
    "- Normal distribution with little left skewness\n",
    "- Age range above 50\n",
    "- Few outliers, 4 records, 3 lower and 1 upper"
   ]
  },
  {
   "cell_type": "code",
   "execution_count": 14,
   "id": "130fdfba",
   "metadata": {},
   "outputs": [
    {
     "data": {
      "text/plain": [
       "count   55.000\n",
       "mean    68.915\n",
       "std      4.262\n",
       "min     61.473\n",
       "25%     66.064\n",
       "50%     69.005\n",
       "75%     71.848\n",
       "max     79.767\n",
       "Name: age, dtype: float64"
      ]
     },
     "execution_count": 14,
     "metadata": {},
     "output_type": "execute_result"
    }
   ],
   "source": [
    "has_cancer_df=cancer_df[cancer_df['cancer']==1]\n",
    "hasnot_cancer_df=cancer_df[cancer_df['cancer']==0]\n",
    "has_cancer_df.describe()['age']"
   ]
  },
  {
   "cell_type": "code",
   "execution_count": 15,
   "id": "dcfec476",
   "metadata": {},
   "outputs": [
    {
     "data": {
      "image/png": "[encoded data removed]",
      "text/plain": [
       "<Figure size 1080x360 with 2 Axes>"
      ]
     },
     "metadata": {},
     "output_type": "display_data"
    }
   ],
   "source": [
    "fig, axes = plt.subplots(1, 2, figsize=(15, 5)) \n",
    "sns.histplot(data=cancer_df, x=\"age\", hue='cancer', kde=True, ax=axes[0]).set(title='Age')\n",
    "sns.histplot(data=has_cancer_df, x=\"age\", kde=True, ax=axes[1]).set(title='Age of has cancer');"
   ]
  },
  {
   "cell_type": "markdown",
   "id": "36b10fee",
   "metadata": {},
   "source": [
    "- Right skewness\n",
    "- Age range which has cancer strating from 61 years\n",
    "- The upper oultier which has 79 years has cancer"
   ]
  },
  {
   "cell_type": "markdown",
   "id": "cd4ccfc6",
   "metadata": {},
   "source": [
    "> ### Marker\n",
    ">> #### What is the distribution of marker?\n",
    ">> #### Is there any outliers?"
   ]
  },
  {
   "cell_type": "code",
   "execution_count": 16,
   "id": "59c07532",
   "metadata": {},
   "outputs": [
    {
     "data": {
      "image/png": "[encoded data removed]",
      "text/plain": [
       "<Figure size 1080x360 with 2 Axes>"
      ]
     },
     "metadata": {},
     "output_type": "display_data"
    }
   ],
   "source": [
    "fig, axes = plt.subplots(1, 2, figsize=(15, 5)) \n",
    "sns.boxplot(cancer_df[\"marker\"], ax=axes[0])\n",
    "sns.histplot(data=cancer_df, x=\"marker\", kde=True, ax=axes[1]);"
   ]
  },
  {
   "cell_type": "markdown",
   "id": "f4295210",
   "metadata": {},
   "source": [
    "- Strong right skewness\n",
    "- Outliers above 3 "
   ]
  },
  {
   "cell_type": "code",
   "execution_count": 17,
   "id": "290d1091",
   "metadata": {},
   "outputs": [
    {
     "data": {
      "image/png": "[encoded data removed]",
      "text/plain": [
       "<Figure size 1080x360 with 2 Axes>"
      ]
     },
     "metadata": {},
     "output_type": "display_data"
    }
   ],
   "source": [
    "fig, axes = plt.subplots(1, 2, figsize=(15, 5)) \n",
    "sns.histplot(data=cancer_df, x=\"marker\", hue='cancer', kde=True, ax=axes[0]).set(title='Markers')\n",
    "sns.histplot(data=has_cancer_df, x=\"marker\", kde=True, ax=axes[1]).set(title='Markers of has cancer');"
   ]
  },
  {
   "cell_type": "code",
   "execution_count": 18,
   "id": "8fe2bc39",
   "metadata": {},
   "outputs": [
    {
     "data": {
      "text/plain": [
       "count   55.000\n",
       "mean     1.738\n",
       "std      1.430\n",
       "min      0.013\n",
       "25%      0.726\n",
       "50%      1.487\n",
       "75%      2.326\n",
       "max      6.721\n",
       "Name: marker, dtype: float64"
      ]
     },
     "execution_count": 18,
     "metadata": {},
     "output_type": "execute_result"
    }
   ],
   "source": [
    "has_cancer_df.describe()['marker']"
   ]
  },
  {
   "cell_type": "code",
   "execution_count": 19,
   "id": "8352b700",
   "metadata": {},
   "outputs": [
    {
     "data": {
      "text/plain": [
       "count   335.000\n",
       "mean      0.893\n",
       "std       0.872\n",
       "min       0.001\n",
       "25%       0.271\n",
       "50%       0.605\n",
       "75%       1.183\n",
       "max       5.135\n",
       "Name: marker, dtype: float64"
      ]
     },
     "execution_count": 19,
     "metadata": {},
     "output_type": "execute_result"
    }
   ],
   "source": [
    "hasnot_cancer_df.describe()['marker']"
   ]
  },
  {
   "cell_type": "code",
   "execution_count": 20,
   "id": "1a701e8d",
   "metadata": {},
   "outputs": [
    {
     "data": {
      "image/png": "[encoded data removed]",
      "text/plain": [
       "<Figure size 1080x360 with 2 Axes>"
      ]
     },
     "metadata": {},
     "output_type": "display_data"
    }
   ],
   "source": [
    "fig, axes = plt.subplots(1, 2, figsize=(15, 5)) \n",
    "sns.boxplot(data=hasnot_cancer_df, x=\"marker\", ax=axes[0]).set(title='Has not cancer')\n",
    "sns.boxplot(data=has_cancer_df, x=\"marker\", ax=axes[1]).set(title='Has cancer');"
   ]
  },
  {
   "cell_type": "markdown",
   "id": "1d7b8cd7",
   "metadata": {},
   "source": [
    "- 75% of markers of patients have not cancer till 1.18 and maximum marker is 5.1\n",
    "- On the other hand patients have cancer have higher markers, 75% till 2.3 and maximum marker is 6.7\n",
    "- Range of markers of patients with cancer is greater than other"
   ]
  },
  {
   "cell_type": "markdown",
   "id": "69f1d8dc",
   "metadata": {},
   "source": [
    "> ### Bivariate and Multivariate Anlaysis"
   ]
  },
  {
   "cell_type": "markdown",
   "id": "4f3f7110",
   "metadata": {},
   "source": [
    "> #### Relation between Cancer, Family History and Markers"
   ]
  },
  {
   "cell_type": "code",
   "execution_count": 21,
   "id": "4739bd29",
   "metadata": {},
   "outputs": [
    {
     "data": {
      "image/png": "[encoded data removed]",
      "text/plain": [
       "<Figure size 490.935x360 with 1 Axes>"
      ]
     },
     "metadata": {},
     "output_type": "display_data"
    }
   ],
   "source": [
    "sns.catplot(x=\"famhistory\", y=\"marker\", data=cancer_df, height=5, aspect=1.2, hue=\"cancer\", kind=\"box\");"
   ]
  },
  {
   "cell_type": "markdown",
   "id": "db69013c",
   "metadata": {},
   "source": [
    "- Surprisingly the patients with cancer and highest markers have negative family history, all above 3 markers have negative family history"
   ]
  },
  {
   "cell_type": "markdown",
   "id": "5f36030a",
   "metadata": {},
   "source": [
    "> #### Relation between Cancer, Family History and Age"
   ]
  },
  {
   "cell_type": "code",
   "execution_count": 22,
   "id": "664d64a4",
   "metadata": {},
   "outputs": [
    {
     "data": {
      "image/png": "[encoded data removed]",
      "text/plain": [
       "<Figure size 490.935x360 with 1 Axes>"
      ]
     },
     "metadata": {},
     "output_type": "display_data"
    }
   ],
   "source": [
    "sns.catplot(x=\"famhistory\", y=\"age\", data=cancer_df, height=5, aspect=1.2, hue=\"cancer\", kind=\"box\");"
   ]
  },
  {
   "cell_type": "markdown",
   "id": "882f7c58",
   "metadata": {},
   "source": [
    "- In both cases of having positive or negative family history, ages of patients with  malignant are the highest"
   ]
  },
  {
   "cell_type": "markdown",
   "id": "ec4eca27",
   "metadata": {},
   "source": [
    "> #### Relation between all numeric features"
   ]
  },
  {
   "cell_type": "code",
   "execution_count": 23,
   "id": "29ff3ee6",
   "metadata": {},
   "outputs": [
    {
     "data": {
      "image/png": "[encoded data removed]",
      "text/plain": [
       "<Figure size 720x720 with 20 Axes>"
      ]
     },
     "metadata": {},
     "output_type": "display_data"
    }
   ],
   "source": [
    "sns.pairplot(cancer_df);"
   ]
  },
  {
   "cell_type": "markdown",
   "id": "600c7707",
   "metadata": {},
   "source": [
    "- Higher ages above 60 have cancers more\n",
    "- Highest markers have cancer"
   ]
  },
  {
   "cell_type": "markdown",
   "id": "9f75564f",
   "metadata": {},
   "source": [
    "## Data Preprocessing "
   ]
  },
  {
   "cell_type": "code",
   "execution_count": 24,
   "id": "080da0bb",
   "metadata": {},
   "outputs": [],
   "source": [
    "cp_df=cancer_df.copy()"
   ]
  },
  {
   "cell_type": "markdown",
   "id": "1e0a1e17",
   "metadata": {},
   "source": [
    "> ### Duplicated Values"
   ]
  },
  {
   "cell_type": "code",
   "execution_count": 25,
   "id": "5f0b9b74",
   "metadata": {},
   "outputs": [
    {
     "data": {
      "text/html": [
       "<div>\n",
       "<style scoped>\n",
       "    .dataframe tbody tr th:only-of-type {\n",
       "        vertical-align: middle;\n",
       "    }\n",
       "\n",
       "    .dataframe tbody tr th {\n",
       "        vertical-align: top;\n",
       "    }\n",
       "\n",
       "    .dataframe thead th {\n",
       "        text-align: right;\n",
       "    }\n",
       "</style>\n",
       "<table border=\"1\" class=\"dataframe\">\n",
       "  <thead>\n",
       "    <tr style=\"text-align: right;\">\n",
       "      <th></th>\n",
       "      <th>age</th>\n",
       "      <th>famhistory</th>\n",
       "      <th>marker</th>\n",
       "      <th>cancer</th>\n",
       "    </tr>\n",
       "  </thead>\n",
       "  <tbody>\n",
       "  </tbody>\n",
       "</table>\n",
       "</div>"
      ],
      "text/plain": [
       "Empty DataFrame\n",
       "Columns: [age, famhistory, marker, cancer]\n",
       "Index: []"
      ]
     },
     "execution_count": 25,
     "metadata": {},
     "output_type": "execute_result"
    }
   ],
   "source": [
    "cp_df[cp_df.duplicated()]"
   ]
  },
  {
   "cell_type": "markdown",
   "id": "e1cfa2d1",
   "metadata": {},
   "source": [
    "> ### Outliers"
   ]
  },
  {
   "cell_type": "code",
   "execution_count": 26,
   "id": "acaed91f",
   "metadata": {},
   "outputs": [],
   "source": [
    "def get_outliers_data(df , col):\n",
    "    outliers = detect_outliers(df, 0, [col])\n",
    "    c_len = len(list(cp_df.loc[outliers, col]))\n",
    "    c_min=cp_df.loc[outliers, col].min()\n",
    "    c_max=cp_df.loc[outliers, col].max()\n",
    "    print('MIN ',c_min,' MAX ',c_max, ' No. Of Outliers ', c_len)\n",
    "    return cp_df.iloc[outliers]"
   ]
  },
  {
   "cell_type": "markdown",
   "id": "557b3a58",
   "metadata": {},
   "source": [
    ">> #### Age"
   ]
  },
  {
   "cell_type": "code",
   "execution_count": 27,
   "id": "89810c8c",
   "metadata": {},
   "outputs": [
    {
     "name": "stdout",
     "output_type": "stream",
     "text": [
      "MIN  45.30359  MAX  79.76653  No. Of Outliers  4\n"
     ]
    }
   ],
   "source": [
    "outliers_df = get_outliers_data(cp_df , 'age')"
   ]
  },
  {
   "cell_type": "code",
   "execution_count": 28,
   "id": "6802bad4",
   "metadata": {},
   "outputs": [
    {
     "data": {
      "text/html": [
       "<div>\n",
       "<style scoped>\n",
       "    .dataframe tbody tr th:only-of-type {\n",
       "        vertical-align: middle;\n",
       "    }\n",
       "\n",
       "    .dataframe tbody tr th {\n",
       "        vertical-align: top;\n",
       "    }\n",
       "\n",
       "    .dataframe thead th {\n",
       "        text-align: right;\n",
       "    }\n",
       "</style>\n",
       "<table border=\"1\" class=\"dataframe\">\n",
       "  <thead>\n",
       "    <tr style=\"text-align: right;\">\n",
       "      <th></th>\n",
       "      <th>age</th>\n",
       "      <th>famhistory</th>\n",
       "      <th>marker</th>\n",
       "      <th>cancer</th>\n",
       "    </tr>\n",
       "  </thead>\n",
       "  <tbody>\n",
       "    <tr>\n",
       "      <th>122</th>\n",
       "      <td>45.304</td>\n",
       "      <td>0</td>\n",
       "      <td>1.219</td>\n",
       "      <td>0</td>\n",
       "    </tr>\n",
       "    <tr>\n",
       "      <th>133</th>\n",
       "      <td>51.556</td>\n",
       "      <td>0</td>\n",
       "      <td>0.371</td>\n",
       "      <td>0</td>\n",
       "    </tr>\n",
       "    <tr>\n",
       "      <th>227</th>\n",
       "      <td>50.482</td>\n",
       "      <td>0</td>\n",
       "      <td>3.203</td>\n",
       "      <td>0</td>\n",
       "    </tr>\n",
       "    <tr>\n",
       "      <th>311</th>\n",
       "      <td>79.767</td>\n",
       "      <td>1</td>\n",
       "      <td>0.534</td>\n",
       "      <td>1</td>\n",
       "    </tr>\n",
       "  </tbody>\n",
       "</table>\n",
       "</div>"
      ],
      "text/plain": [
       "       age  famhistory  marker  cancer\n",
       "122 45.304           0   1.219       0\n",
       "133 51.556           0   0.371       0\n",
       "227 50.482           0   3.203       0\n",
       "311 79.767           1   0.534       1"
      ]
     },
     "execution_count": 28,
     "metadata": {},
     "output_type": "execute_result"
    }
   ],
   "source": [
    "outliers_df"
   ]
  },
  {
   "cell_type": "code",
   "execution_count": 29,
   "id": "8d297977",
   "metadata": {},
   "outputs": [
    {
     "data": {
      "text/plain": [
       "count   390.000\n",
       "mean     64.922\n",
       "std       4.832\n",
       "min      45.304\n",
       "25%      61.764\n",
       "50%      65.088\n",
       "75%      68.278\n",
       "max      79.767\n",
       "Name: age, dtype: float64"
      ]
     },
     "execution_count": 29,
     "metadata": {},
     "output_type": "execute_result"
    }
   ],
   "source": [
    "cp_df.describe()['age']"
   ]
  },
  {
   "cell_type": "code",
   "execution_count": 30,
   "id": "0b22a01e",
   "metadata": {},
   "outputs": [
    {
     "data": {
      "text/plain": [
       "52.96059"
      ]
     },
     "execution_count": 30,
     "metadata": {},
     "output_type": "execute_result"
    }
   ],
   "source": [
    "cp_df[cp_df['age'] > 51.5556]['age'].min()"
   ]
  },
  {
   "cell_type": "code",
   "execution_count": 31,
   "id": "f8c43b62",
   "metadata": {},
   "outputs": [
    {
     "data": {
      "text/plain": [
       "248   52.961\n",
       "165   53.736\n",
       "60    54.021\n",
       "31    54.343\n",
       "243   54.456\n",
       "       ...  \n",
       "346   75.560\n",
       "222   76.000\n",
       "32    76.315\n",
       "36    76.532\n",
       "311   79.767\n",
       "Name: age, Length: 387, dtype: float64"
      ]
     },
     "execution_count": 31,
     "metadata": {},
     "output_type": "execute_result"
    }
   ],
   "source": [
    "cp_df[cp_df['age'] > 51.5556]['age'].sort_values()"
   ]
  },
  {
   "cell_type": "code",
   "execution_count": 32,
   "id": "cf26484b",
   "metadata": {},
   "outputs": [],
   "source": [
    "cp_df[\"age\"] = cp_df[\"age\"].apply(lambda x: 52.96059 if x < 52.96059 else x)"
   ]
  },
  {
   "cell_type": "code",
   "execution_count": 33,
   "id": "cde224d6",
   "metadata": {},
   "outputs": [
    {
     "data": {
      "text/plain": [
       "52.96059"
      ]
     },
     "execution_count": 33,
     "metadata": {},
     "output_type": "execute_result"
    }
   ],
   "source": [
    "cp_df['age'].min()"
   ]
  },
  {
   "cell_type": "code",
   "execution_count": 34,
   "id": "39241923",
   "metadata": {},
   "outputs": [
    {
     "data": {
      "image/png": "[encoded data removed]",
      "text/plain": [
       "<Figure size 576x360 with 1 Axes>"
      ]
     },
     "metadata": {},
     "output_type": "display_data"
    }
   ],
   "source": [
    "sns.boxplot(data=cp_df,x=cp_df['age']);"
   ]
  },
  {
   "cell_type": "markdown",
   "id": "7b8df840",
   "metadata": {},
   "source": [
    ">> #### Marker"
   ]
  },
  {
   "cell_type": "code",
   "execution_count": 35,
   "id": "dae1cebe",
   "metadata": {},
   "outputs": [
    {
     "name": "stdout",
     "output_type": "stream",
     "text": [
      "MIN  3.110172  MAX  6.721334  No. Of Outliers  19\n"
     ]
    }
   ],
   "source": [
    "outliers_df = get_outliers_data(cp_df , 'marker')"
   ]
  },
  {
   "cell_type": "code",
   "execution_count": 36,
   "id": "08104c6f",
   "metadata": {},
   "outputs": [
    {
     "data": {
      "text/plain": [
       "0    11\n",
       "1     8\n",
       "Name: cancer, dtype: int64"
      ]
     },
     "execution_count": 36,
     "metadata": {},
     "output_type": "execute_result"
    }
   ],
   "source": [
    "outliers_df['cancer'].value_counts()"
   ]
  },
  {
   "cell_type": "code",
   "execution_count": 37,
   "id": "d85e9ab9",
   "metadata": {},
   "outputs": [
    {
     "data": {
      "text/html": [
       "<div>\n",
       "<style scoped>\n",
       "    .dataframe tbody tr th:only-of-type {\n",
       "        vertical-align: middle;\n",
       "    }\n",
       "\n",
       "    .dataframe tbody tr th {\n",
       "        vertical-align: top;\n",
       "    }\n",
       "\n",
       "    .dataframe thead th {\n",
       "        text-align: right;\n",
       "    }\n",
       "</style>\n",
       "<table border=\"1\" class=\"dataframe\">\n",
       "  <thead>\n",
       "    <tr style=\"text-align: right;\">\n",
       "      <th></th>\n",
       "      <th>age</th>\n",
       "      <th>famhistory</th>\n",
       "      <th>marker</th>\n",
       "      <th>cancer</th>\n",
       "    </tr>\n",
       "  </thead>\n",
       "  <tbody>\n",
       "    <tr>\n",
       "      <th>80</th>\n",
       "      <td>63.700</td>\n",
       "      <td>0</td>\n",
       "      <td>4.074</td>\n",
       "      <td>1</td>\n",
       "    </tr>\n",
       "    <tr>\n",
       "      <th>129</th>\n",
       "      <td>64.171</td>\n",
       "      <td>0</td>\n",
       "      <td>3.258</td>\n",
       "      <td>1</td>\n",
       "    </tr>\n",
       "    <tr>\n",
       "      <th>146</th>\n",
       "      <td>65.244</td>\n",
       "      <td>0</td>\n",
       "      <td>4.105</td>\n",
       "      <td>1</td>\n",
       "    </tr>\n",
       "    <tr>\n",
       "      <th>162</th>\n",
       "      <td>69.963</td>\n",
       "      <td>0</td>\n",
       "      <td>3.866</td>\n",
       "      <td>1</td>\n",
       "    </tr>\n",
       "    <tr>\n",
       "      <th>182</th>\n",
       "      <td>74.577</td>\n",
       "      <td>0</td>\n",
       "      <td>6.721</td>\n",
       "      <td>1</td>\n",
       "    </tr>\n",
       "    <tr>\n",
       "      <th>225</th>\n",
       "      <td>65.087</td>\n",
       "      <td>0</td>\n",
       "      <td>3.184</td>\n",
       "      <td>1</td>\n",
       "    </tr>\n",
       "    <tr>\n",
       "      <th>236</th>\n",
       "      <td>68.833</td>\n",
       "      <td>0</td>\n",
       "      <td>4.524</td>\n",
       "      <td>1</td>\n",
       "    </tr>\n",
       "    <tr>\n",
       "      <th>314</th>\n",
       "      <td>66.417</td>\n",
       "      <td>0</td>\n",
       "      <td>5.630</td>\n",
       "      <td>1</td>\n",
       "    </tr>\n",
       "  </tbody>\n",
       "</table>\n",
       "</div>"
      ],
      "text/plain": [
       "       age  famhistory  marker  cancer\n",
       "80  63.700           0   4.074       1\n",
       "129 64.171           0   3.258       1\n",
       "146 65.244           0   4.105       1\n",
       "162 69.963           0   3.866       1\n",
       "182 74.577           0   6.721       1\n",
       "225 65.087           0   3.184       1\n",
       "236 68.833           0   4.524       1\n",
       "314 66.417           0   5.630       1"
      ]
     },
     "execution_count": 37,
     "metadata": {},
     "output_type": "execute_result"
    }
   ],
   "source": [
    "outliers_df[outliers_df['cancer']==1]"
   ]
  },
  {
   "cell_type": "code",
   "execution_count": 38,
   "id": "b26ad1db",
   "metadata": {},
   "outputs": [
    {
     "data": {
      "text/html": [
       "<div>\n",
       "<style scoped>\n",
       "    .dataframe tbody tr th:only-of-type {\n",
       "        vertical-align: middle;\n",
       "    }\n",
       "\n",
       "    .dataframe tbody tr th {\n",
       "        vertical-align: top;\n",
       "    }\n",
       "\n",
       "    .dataframe thead th {\n",
       "        text-align: right;\n",
       "    }\n",
       "</style>\n",
       "<table border=\"1\" class=\"dataframe\">\n",
       "  <thead>\n",
       "    <tr style=\"text-align: right;\">\n",
       "      <th></th>\n",
       "      <th>age</th>\n",
       "      <th>famhistory</th>\n",
       "      <th>marker</th>\n",
       "      <th>cancer</th>\n",
       "    </tr>\n",
       "  </thead>\n",
       "  <tbody>\n",
       "    <tr>\n",
       "      <th>44</th>\n",
       "      <td>70.398</td>\n",
       "      <td>0</td>\n",
       "      <td>5.135</td>\n",
       "      <td>0</td>\n",
       "    </tr>\n",
       "    <tr>\n",
       "      <th>92</th>\n",
       "      <td>61.691</td>\n",
       "      <td>0</td>\n",
       "      <td>3.630</td>\n",
       "      <td>0</td>\n",
       "    </tr>\n",
       "    <tr>\n",
       "      <th>178</th>\n",
       "      <td>63.965</td>\n",
       "      <td>0</td>\n",
       "      <td>3.116</td>\n",
       "      <td>0</td>\n",
       "    </tr>\n",
       "    <tr>\n",
       "      <th>184</th>\n",
       "      <td>62.240</td>\n",
       "      <td>0</td>\n",
       "      <td>3.110</td>\n",
       "      <td>0</td>\n",
       "    </tr>\n",
       "    <tr>\n",
       "      <th>197</th>\n",
       "      <td>59.294</td>\n",
       "      <td>0</td>\n",
       "      <td>4.509</td>\n",
       "      <td>0</td>\n",
       "    </tr>\n",
       "    <tr>\n",
       "      <th>227</th>\n",
       "      <td>52.961</td>\n",
       "      <td>0</td>\n",
       "      <td>3.203</td>\n",
       "      <td>0</td>\n",
       "    </tr>\n",
       "    <tr>\n",
       "      <th>244</th>\n",
       "      <td>63.628</td>\n",
       "      <td>0</td>\n",
       "      <td>4.030</td>\n",
       "      <td>0</td>\n",
       "    </tr>\n",
       "    <tr>\n",
       "      <th>265</th>\n",
       "      <td>65.349</td>\n",
       "      <td>0</td>\n",
       "      <td>4.818</td>\n",
       "      <td>0</td>\n",
       "    </tr>\n",
       "    <tr>\n",
       "      <th>266</th>\n",
       "      <td>55.695</td>\n",
       "      <td>0</td>\n",
       "      <td>3.514</td>\n",
       "      <td>0</td>\n",
       "    </tr>\n",
       "    <tr>\n",
       "      <th>328</th>\n",
       "      <td>63.319</td>\n",
       "      <td>0</td>\n",
       "      <td>3.210</td>\n",
       "      <td>0</td>\n",
       "    </tr>\n",
       "    <tr>\n",
       "      <th>352</th>\n",
       "      <td>74.291</td>\n",
       "      <td>0</td>\n",
       "      <td>3.455</td>\n",
       "      <td>0</td>\n",
       "    </tr>\n",
       "  </tbody>\n",
       "</table>\n",
       "</div>"
      ],
      "text/plain": [
       "       age  famhistory  marker  cancer\n",
       "44  70.398           0   5.135       0\n",
       "92  61.691           0   3.630       0\n",
       "178 63.965           0   3.116       0\n",
       "184 62.240           0   3.110       0\n",
       "197 59.294           0   4.509       0\n",
       "227 52.961           0   3.203       0\n",
       "244 63.628           0   4.030       0\n",
       "265 65.349           0   4.818       0\n",
       "266 55.695           0   3.514       0\n",
       "328 63.319           0   3.210       0\n",
       "352 74.291           0   3.455       0"
      ]
     },
     "execution_count": 38,
     "metadata": {},
     "output_type": "execute_result"
    }
   ],
   "source": [
    "outliers_df[outliers_df['cancer']==0]"
   ]
  },
  {
   "cell_type": "code",
   "execution_count": 39,
   "id": "6c99bd1a",
   "metadata": {},
   "outputs": [],
   "source": [
    "cp_df[\"marker\"] = cp_df[\"marker\"].apply(lambda x: 5.630 if x >= 6.721 else x)"
   ]
  },
  {
   "cell_type": "code",
   "execution_count": 40,
   "id": "442e05f0",
   "metadata": {},
   "outputs": [
    {
     "data": {
      "text/plain": [
       "5.630261"
      ]
     },
     "execution_count": 40,
     "metadata": {},
     "output_type": "execute_result"
    }
   ],
   "source": [
    "cp_df[\"marker\"].max()"
   ]
  },
  {
   "cell_type": "code",
   "execution_count": 41,
   "id": "0cbcbafa",
   "metadata": {},
   "outputs": [
    {
     "data": {
      "image/png": "[encoded data removed]",
      "text/plain": [
       "<Figure size 576x360 with 1 Axes>"
      ]
     },
     "metadata": {},
     "output_type": "display_data"
    }
   ],
   "source": [
    "sns.boxplot(data=cp_df,x=cp_df['marker']);"
   ]
  },
  {
   "cell_type": "markdown",
   "id": "b978181b",
   "metadata": {},
   "source": [
    "> ### Correlation "
   ]
  },
  {
   "cell_type": "code",
   "execution_count": 42,
   "id": "fd8336d8",
   "metadata": {},
   "outputs": [
    {
     "data": {
      "image/png": "[encoded data removed]",
      "text/plain": [
       "<Figure size 576x360 with 2 Axes>"
      ]
     },
     "metadata": {},
     "output_type": "display_data"
    }
   ],
   "source": [
    "sns.heatmap(cp_df.corr(), annot=True);"
   ]
  },
  {
   "cell_type": "markdown",
   "id": "22ce8bf2",
   "metadata": {},
   "source": [
    "- weak positive correlation between age and cancer 0.34, marker and cancer 0.29"
   ]
  },
  {
   "cell_type": "markdown",
   "id": "b1ec29d6",
   "metadata": {},
   "source": [
    "> ### Feature Scaling"
   ]
  },
  {
   "cell_type": "code",
   "execution_count": 43,
   "id": "65a88932",
   "metadata": {},
   "outputs": [],
   "source": [
    "cols = list(cp_df.columns)\n",
    "cols.remove('cancer')\n",
    "\n",
    "X_train = cp_df[cols]\n",
    "y_train = cp_df['cancer']\n",
    "\n",
    "scaler = StandardScaler().fit(X_train)\n",
    "X_train = scaler.transform(X_train)\n",
    "\n",
    "scaler = StandardScaler().fit(X_val)\n",
    "X_val = scaler.transform(X_val)\n",
    "\n",
    "scaler = StandardScaler().fit(X_test)\n",
    "X_test = scaler.transform(X_test)"
   ]
  },
  {
   "cell_type": "code",
   "execution_count": 44,
   "id": "73180c50",
   "metadata": {},
   "outputs": [
    {
     "data": {
      "text/plain": [
       "array([[-0.24566687, -0.44307902, -0.28313888],\n",
       "       [-1.00142242, -0.44307902, -0.64741025],\n",
       "       [ 1.10604096,  2.25693376,  0.26269036],\n",
       "       ...,\n",
       "       [-0.48998687, -0.44307902, -0.46608785],\n",
       "       [ 1.01929538, -0.44307902,  1.52007194],\n",
       "       [-0.94564413, -0.44307902, -0.90719204]])"
      ]
     },
     "execution_count": 44,
     "metadata": {},
     "output_type": "execute_result"
    }
   ],
   "source": [
    "X_train"
   ]
  },
  {
   "cell_type": "code",
   "execution_count": 45,
   "id": "715fa2b0",
   "metadata": {},
   "outputs": [
    {
     "data": {
      "text/plain": [
       "array([[-4.43079020e-01, -2.83138880e-01],\n",
       "       [-4.43079020e-01, -6.47410252e-01],\n",
       "       [ 2.25693376e+00,  2.62690358e-01],\n",
       "       [ 2.25693376e+00, -9.77567036e-03],\n",
       "       [-4.43079020e-01, -1.73278161e-01],\n",
       "       [-4.43079020e-01,  5.38189631e-01],\n",
       "       [-4.43079020e-01, -1.00374878e+00],\n",
       "       [-4.43079020e-01, -6.16213262e-01],\n",
       "       [-4.43079020e-01, -9.01256168e-02],\n",
       "       [ 2.25693376e+00,  9.87463839e-01],\n",
       "       [-4.43079020e-01,  3.02267730e-01],\n",
       "       [-4.43079020e-01,  7.71748839e-01],\n",
       "       [-4.43079020e-01, -4.14781361e-01],\n",
       "       [-4.43079020e-01, -9.15117256e-01],\n",
       "       [-4.43079020e-01, -7.83424569e-01],\n",
       "       [ 2.25693376e+00,  4.58622195e-01],\n",
       "       [-4.43079020e-01, -4.10490356e-01],\n",
       "       [-4.43079020e-01, -1.57608675e-01],\n",
       "       [-4.43079020e-01,  9.61440797e-02],\n",
       "       [ 2.25693376e+00, -3.10985123e-01],\n",
       "       [ 2.25693376e+00, -1.08346148e-02],\n",
       "       [ 2.25693376e+00, -9.91401623e-01],\n",
       "       [-4.43079020e-01, -6.10993046e-01],\n",
       "       [-4.43079020e-01,  2.74810081e-01],\n",
       "       [-4.43079020e-01,  3.41472573e-01],\n",
       "       [-4.43079020e-01, -5.60392852e-01],\n",
       "       [-4.43079020e-01, -8.93083861e-01],\n",
       "       [-4.43079020e-01,  1.39512432e+00],\n",
       "       [-4.43079020e-01, -4.98056107e-01],\n",
       "       [ 2.25693376e+00, -6.14442899e-01],\n",
       "       [-4.43079020e-01,  8.13995884e-02],\n",
       "       [-4.43079020e-01,  1.59433561e+00],\n",
       "       [-4.43079020e-01, -8.15865864e-01],\n",
       "       [-4.43079020e-01, -7.08946111e-01],\n",
       "       [ 2.25693376e+00, -6.82264948e-01],\n",
       "       [-4.43079020e-01, -1.37012376e-01],\n",
       "       [-4.43079020e-01,  5.77282013e-01],\n",
       "       [-4.43079020e-01, -4.99893445e-01],\n",
       "       [-4.43079020e-01, -3.04527931e-01],\n",
       "       [-4.43079020e-01,  3.33050018e-01],\n",
       "       [-4.43079020e-01, -5.79547335e-01],\n",
       "       [-4.43079020e-01,  8.40370368e-01],\n",
       "       [-4.43079020e-01, -1.00377920e+00],\n",
       "       [-4.43079020e-01, -9.43912191e-01],\n",
       "       [-4.43079020e-01,  4.14264339e+00],\n",
       "       [-4.43079020e-01, -1.42296153e-01],\n",
       "       [-4.43079020e-01, -7.02082653e-01],\n",
       "       [-4.43079020e-01,  4.90865477e-01],\n",
       "       [-4.43079020e-01,  8.71277168e-01],\n",
       "       [-4.43079020e-01, -7.19210121e-01],\n",
       "       [ 2.25693376e+00,  5.82454233e-01],\n",
       "       [ 2.25693376e+00,  1.16830276e+00],\n",
       "       [-4.43079020e-01,  1.58597431e+00],\n",
       "       [-4.43079020e-01, -3.27780407e-02],\n",
       "       [ 2.25693376e+00,  1.04623395e+00],\n",
       "       [-4.43079020e-01, -2.21502508e-01],\n",
       "       [-4.43079020e-01, -9.39278079e-01],\n",
       "       [-4.43079020e-01, -4.79502086e-01],\n",
       "       [-4.43079020e-01, -4.74934045e-01],\n",
       "       [-4.43079020e-01,  9.91604548e-02],\n",
       "       [-4.43079020e-01, -7.24168463e-01],\n",
       "       [-4.43079020e-01, -9.64597757e-01],\n",
       "       [-4.43079020e-01, -7.47577703e-01],\n",
       "       [-4.43079020e-01,  1.95420101e+00],\n",
       "       [-4.43079020e-01,  1.58785073e-01],\n",
       "       [-4.43079020e-01, -8.47717540e-01],\n",
       "       [-4.43079020e-01,  1.16761393e+00],\n",
       "       [-4.43079020e-01, -1.80954655e-01],\n",
       "       [ 2.25693376e+00, -4.27854495e-01],\n",
       "       [-4.43079020e-01,  1.48634428e-01],\n",
       "       [-4.43079020e-01, -7.96150680e-01],\n",
       "       [-4.43079020e-01, -8.22663050e-01],\n",
       "       [-4.43079020e-01,  5.87113347e-01],\n",
       "       [-4.43079020e-01, -8.27429305e-01],\n",
       "       [-4.43079020e-01,  5.32965197e-01],\n",
       "       [ 2.25693376e+00,  1.77455671e-01],\n",
       "       [-4.43079020e-01, -6.69209164e-02],\n",
       "       [-4.43079020e-01, -2.02465808e-01],\n",
       "       [ 2.25693376e+00,  6.60044277e-02],\n",
       "       [-4.43079020e-01,  1.23165969e+00],\n",
       "       [-4.43079020e-01,  3.07718721e+00],\n",
       "       [-4.43079020e-01, -6.12341578e-01],\n",
       "       [ 2.25693376e+00, -4.66552760e-01],\n",
       "       [ 2.25693376e+00, -9.95227699e-02],\n",
       "       [ 2.25693376e+00,  6.41492445e-01],\n",
       "       [-4.43079020e-01, -6.80690288e-01],\n",
       "       [-4.43079020e-01, -3.34508631e-01],\n",
       "       [-4.43079020e-01, -4.72613525e-01],\n",
       "       [-4.43079020e-01,  3.25630579e-01],\n",
       "       [ 2.25693376e+00, -6.10638190e-01],\n",
       "       [-4.43079020e-01, -8.87958233e-01],\n",
       "       [-4.43079020e-01,  2.01089633e-01],\n",
       "       [-4.43079020e-01,  2.63131195e+00],\n",
       "       [-4.43079020e-01, -8.31918924e-01],\n",
       "       [ 2.25693376e+00,  6.40281477e-01],\n",
       "       [ 2.25693376e+00,  6.28492109e-01],\n",
       "       [-4.43079020e-01, -9.13970250e-01],\n",
       "       [-4.43079020e-01, -9.87643204e-01],\n",
       "       [-4.43079020e-01,  3.74428780e-01],\n",
       "       [-4.43079020e-01, -9.14929586e-01],\n",
       "       [-4.43079020e-01, -6.73246248e-01],\n",
       "       [-4.43079020e-01, -8.29898635e-01],\n",
       "       [-4.43079020e-01, -5.45073401e-01],\n",
       "       [ 2.25693376e+00, -2.85876210e-01],\n",
       "       [-4.43079020e-01,  4.54950130e-01],\n",
       "       [-4.43079020e-01, -3.67965693e-01],\n",
       "       [-4.43079020e-01, -8.36294475e-01],\n",
       "       [-4.43079020e-01, -5.12724988e-01],\n",
       "       [-4.43079020e-01, -9.89491989e-01],\n",
       "       [-4.43079020e-01,  5.56429462e-01],\n",
       "       [-4.43079020e-01, -1.56428533e-01],\n",
       "       [-4.43079020e-01, -7.51000445e-01],\n",
       "       [-4.43079020e-01, -5.67333125e-01],\n",
       "       [-4.43079020e-01, -4.44220338e-01],\n",
       "       [-4.43079020e-01,  2.28022127e-01],\n",
       "       [-4.43079020e-01, -6.26918582e-01],\n",
       "       [-4.43079020e-01, -8.31744408e-01],\n",
       "       [-4.43079020e-01, -3.25519753e-01],\n",
       "       [ 2.25693376e+00, -5.84660714e-01],\n",
       "       [-4.43079020e-01,  5.00931495e-02],\n",
       "       [-4.43079020e-01, -6.53444508e-01],\n",
       "       [-4.43079020e-01, -8.01002987e-01],\n",
       "       [-4.43079020e-01,  2.10130725e-01],\n",
       "       [-4.43079020e-01,  4.85751497e-01],\n",
       "       [-4.43079020e-01, -8.39633373e-01],\n",
       "       [-4.43079020e-01, -6.74750900e-02],\n",
       "       [ 2.25693376e+00, -1.81072940e-01],\n",
       "       [-4.43079020e-01,  8.36953349e-01],\n",
       "       [-4.43079020e-01, -8.24872113e-01],\n",
       "       [-4.43079020e-01,  2.25740494e+00],\n",
       "       [-4.43079020e-01,  1.44073243e+00],\n",
       "       [ 2.25693376e+00,  1.16022763e+00],\n",
       "       [-4.43079020e-01, -6.82112824e-01],\n",
       "       [-4.43079020e-01, -6.41552922e-01],\n",
       "       [-4.43079020e-01, -2.58559238e-01],\n",
       "       [-4.43079020e-01,  6.16545095e-01],\n",
       "       [ 2.25693376e+00, -5.59947625e-01],\n",
       "       [-4.43079020e-01, -9.93697141e-01],\n",
       "       [-4.43079020e-01, -7.46791276e-01],\n",
       "       [-4.43079020e-01, -5.55923013e-01],\n",
       "       [-4.43079020e-01,  2.02212568e+00],\n",
       "       [-4.43079020e-01,  1.81181385e+00],\n",
       "       [-4.43079020e-01, -1.64800280e-01],\n",
       "       [-4.43079020e-01,  1.00389324e+00],\n",
       "       [-4.43079020e-01,  2.02006422e+00],\n",
       "       [-4.43079020e-01,  1.06604925e+00],\n",
       "       [-4.43079020e-01,  3.10864326e+00],\n",
       "       [-4.43079020e-01, -6.22935541e-01],\n",
       "       [-4.43079020e-01, -1.33798570e-02],\n",
       "       [-4.43079020e-01, -7.21006691e-01],\n",
       "       [ 2.25693376e+00,  1.34177115e-01],\n",
       "       [-4.43079020e-01, -7.21519395e-01],\n",
       "       [ 2.25693376e+00,  1.11467474e+00],\n",
       "       [-4.43079020e-01, -8.23631122e-01],\n",
       "       [-4.43079020e-01, -3.18829685e-02],\n",
       "       [-4.43079020e-01, -1.15285740e-01],\n",
       "       [-4.43079020e-01, -7.56063416e-01],\n",
       "       [-4.43079020e-01,  6.79107767e-01],\n",
       "       [-4.43079020e-01, -4.05956455e-01],\n",
       "       [ 2.25693376e+00, -2.08277350e-01],\n",
       "       [-4.43079020e-01, -6.59418417e-01],\n",
       "       [-4.43079020e-01, -8.96746789e-01],\n",
       "       [-4.43079020e-01,  2.86791263e+00],\n",
       "       [-4.43079020e-01, -8.11661515e-01],\n",
       "       [-4.43079020e-01,  6.47962991e-01],\n",
       "       [-4.43079020e-01, -1.00968082e+00],\n",
       "       [-4.43079020e-01, -3.21857227e-01],\n",
       "       [-4.43079020e-01, -1.01304733e+00],\n",
       "       [-4.43079020e-01, -7.13468967e-01],\n",
       "       [-4.43079020e-01, -7.78463917e-01],\n",
       "       [-4.43079020e-01, -3.26020909e-01],\n",
       "       [-4.43079020e-01, -1.55486268e-01],\n",
       "       [-4.43079020e-01,  3.34083257e-01],\n",
       "       [-4.43079020e-01, -5.24034988e-01],\n",
       "       [-4.43079020e-01, -9.43545888e-01],\n",
       "       [-4.43079020e-01, -5.69417978e-01],\n",
       "       [-4.43079020e-01,  1.20705848e-01],\n",
       "       [-4.43079020e-01, -5.53477982e-01],\n",
       "       [-4.43079020e-01,  2.11523065e+00],\n",
       "       [-4.43079020e-01, -2.63802952e-01],\n",
       "       [-4.43079020e-01, -6.42538666e-01],\n",
       "       [ 2.25693376e+00, -9.97907514e-01],\n",
       "       [-4.43079020e-01,  4.63961227e+00],\n",
       "       [-4.43079020e-01, -5.14982650e-01],\n",
       "       [-4.43079020e-01,  2.10940375e+00],\n",
       "       [-4.43079020e-01,  8.56640841e-02],\n",
       "       [-4.43079020e-01, -3.49873367e-01],\n",
       "       [-4.43079020e-01,  1.51455000e-01],\n",
       "       [-4.43079020e-01, -2.20473085e-01],\n",
       "       [-4.43079020e-01, -2.34073683e-01],\n",
       "       [-4.43079020e-01, -9.23052210e-01],\n",
       "       [-4.43079020e-01, -9.01048839e-01],\n",
       "       [-4.43079020e-01,  1.80185592e-02],\n",
       "       [ 2.25693376e+00, -1.88426610e-01],\n",
       "       [ 2.25693376e+00, -4.17934095e-01],\n",
       "       [-4.43079020e-01, -8.30170752e-01],\n",
       "       [-4.43079020e-01,  6.91591985e-01],\n",
       "       [-4.43079020e-01,  3.51425835e+00],\n",
       "       [-4.43079020e-01, -6.74354294e-01],\n",
       "       [-4.43079020e-01, -8.84305547e-01],\n",
       "       [-4.43079020e-01,  1.44472883e+00],\n",
       "       [-4.43079020e-01, -1.00501184e-01],\n",
       "       [-4.43079020e-01, -4.71893571e-01],\n",
       "       [-4.43079020e-01,  1.37552290e+00],\n",
       "       [ 2.25693376e+00,  6.39780421e-01],\n",
       "       [ 2.25693376e+00,  4.62728040e-01],\n",
       "       [-4.43079020e-01, -6.74907162e-01],\n",
       "       [-4.43079020e-01, -8.43484172e-01],\n",
       "       [-4.43079020e-01, -5.53603096e-01],\n",
       "       [ 2.25693376e+00,  1.36806531e+00],\n",
       "       [ 2.25693376e+00,  1.02600496e+00],\n",
       "       [ 2.25693376e+00, -7.89442860e-01],\n",
       "       [ 2.25693376e+00,  2.09224729e-02],\n",
       "       [-4.43079020e-01, -8.81168376e-01],\n",
       "       [-4.43079020e-01, -1.43902444e-01],\n",
       "       [-4.43079020e-01, -6.34814075e-01],\n",
       "       [-4.43079020e-01, -3.54513705e-01],\n",
       "       [-4.43079020e-01, -6.72372141e-02],\n",
       "       [-4.43079020e-01, -9.25201327e-01],\n",
       "       [-4.43079020e-01, -6.00136104e-01],\n",
       "       [ 2.25693376e+00, -9.65971794e-01],\n",
       "       [ 2.25693376e+00, -8.91183665e-01],\n",
       "       [-4.43079020e-01,  1.75544832e-01],\n",
       "       [-4.43079020e-01, -7.35989661e-01],\n",
       "       [-4.43079020e-01, -4.57893835e-01],\n",
       "       [-4.43079020e-01,  2.18351179e+00],\n",
       "       [-4.43079020e-01, -4.39099730e-01],\n",
       "       [-4.43079020e-01,  2.20241635e+00],\n",
       "       [-4.43079020e-01,  1.26367074e-01],\n",
       "       [-4.43079020e-01, -1.00872911e+00],\n",
       "       [-4.43079020e-01, -9.97877571e-02],\n",
       "       [-4.43079020e-01,  1.30051116e+00],\n",
       "       [-4.43079020e-01, -7.91071341e-01],\n",
       "       [-4.43079020e-01, -7.94441769e-01],\n",
       "       [-4.43079020e-01, -7.12406809e-01],\n",
       "       [ 2.25693376e+00,  5.81124778e-01],\n",
       "       [-4.43079020e-01,  3.52943863e+00],\n",
       "       [-4.43079020e-01, -1.00539624e+00],\n",
       "       [-4.43079020e-01,  6.76334389e-01],\n",
       "       [ 2.25693376e+00,  3.72711736e-01],\n",
       "       [-4.43079020e-01, -1.37662422e-02],\n",
       "       [-4.43079020e-01, -8.85820663e-01],\n",
       "       [-4.43079020e-01,  1.94091048e+00],\n",
       "       [-4.43079020e-01,  1.03610713e-01],\n",
       "       [-4.43079020e-01,  3.03317565e+00],\n",
       "       [-4.43079020e-01, -3.56101519e-01],\n",
       "       [-4.43079020e-01,  1.35795583e+00],\n",
       "       [-4.43079020e-01, -9.28439111e-01],\n",
       "       [-4.43079020e-01, -5.24080576e-01],\n",
       "       [-4.43079020e-01,  1.68890359e+00],\n",
       "       [-4.43079020e-01, -4.94316866e-01],\n",
       "       [-4.43079020e-01, -4.90822630e-01],\n",
       "       [-4.43079020e-01, -1.26269100e-01],\n",
       "       [ 2.25693376e+00, -5.73570013e-01],\n",
       "       [ 2.25693376e+00,  4.80001908e-01],\n",
       "       [-4.43079020e-01,  4.05500255e-01],\n",
       "       [-4.43079020e-01, -7.25316875e-01],\n",
       "       [-4.43079020e-01, -9.63372630e-01],\n",
       "       [-4.43079020e-01, -8.21229871e-01],\n",
       "       [-4.43079020e-01,  3.53681662e-01],\n",
       "       [-4.43079020e-01, -7.46010071e-01],\n",
       "       [-4.43079020e-01, -6.04270365e-01],\n",
       "       [-4.43079020e-01, -7.06398359e-01],\n",
       "       [-4.43079020e-01, -8.32852454e-01],\n",
       "       [-4.43079020e-01, -2.06349039e-01],\n",
       "       [-4.43079020e-01,  3.82396396e+00],\n",
       "       [-4.43079020e-01,  2.51515741e+00],\n",
       "       [ 2.25693376e+00,  4.02862433e-01],\n",
       "       [-4.43079020e-01, -1.00021669e+00],\n",
       "       [-4.43079020e-01, -9.15477032e-01],\n",
       "       [-4.43079020e-01, -9.54834602e-01],\n",
       "       [-4.43079020e-01, -6.38751729e-01],\n",
       "       [-4.43079020e-01,  3.88141037e-01],\n",
       "       [-4.43079020e-01, -3.56290193e-01],\n",
       "       [ 2.25693376e+00, -4.27403344e-01],\n",
       "       [-4.43079020e-01,  1.34465828e+00],\n",
       "       [-4.43079020e-01, -6.80033995e-01],\n",
       "       [-4.43079020e-01,  1.22882779e-01],\n",
       "       [ 2.25693376e+00,  6.33615127e-01],\n",
       "       [-4.43079020e-01,  3.76069231e-02],\n",
       "       [-4.43079020e-01, -8.18927123e-01],\n",
       "       [-4.43079020e-01, -1.03949933e-01],\n",
       "       [-4.43079020e-01, -8.65704132e-01],\n",
       "       [ 2.25693376e+00,  4.08301468e-02],\n",
       "       [ 2.25693376e+00, -1.93229916e-01],\n",
       "       [-4.43079020e-01, -9.14805176e-01],\n",
       "       [-4.43079020e-01, -4.60717821e-01],\n",
       "       [ 2.25693376e+00, -8.30728820e-02],\n",
       "       [-4.43079020e-01, -9.50666602e-01],\n",
       "       [-4.43079020e-01, -4.76015582e-01],\n",
       "       [-4.43079020e-01, -4.92409340e-01],\n",
       "       [-4.43079020e-01,  2.91409181e-01],\n",
       "       [-4.43079020e-01, -6.53753376e-01],\n",
       "       [-4.43079020e-01, -9.06533139e-01],\n",
       "       [-4.43079020e-01, -5.41135747e-01],\n",
       "       [-4.43079020e-01,  1.04495342e-01],\n",
       "       [-4.43079020e-01,  1.36152218e-01],\n",
       "       [-4.43079020e-01, -6.17803988e-01],\n",
       "       [-4.43079020e-01,  1.20881396e+00],\n",
       "       [ 2.25693376e+00, -3.25703909e-01],\n",
       "       [-4.43079020e-01,  1.95021666e+00],\n",
       "       [-4.43079020e-01, -8.38652650e-01],\n",
       "       [-4.43079020e-01, -8.68264436e-01],\n",
       "       [-4.43079020e-01, -2.47764351e-01],\n",
       "       [-4.43079020e-01, -9.20534180e-01],\n",
       "       [-4.43079020e-01, -1.00427062e+00],\n",
       "       [ 2.25693376e+00,  4.73047376e-01],\n",
       "       [-4.43079020e-01, -3.61353265e-01],\n",
       "       [-4.43079020e-01, -5.94952035e-01],\n",
       "       [-4.43079020e-01, -2.90825716e-01],\n",
       "       [-4.43079020e-01,  1.74797393e+00],\n",
       "       [ 2.25693376e+00, -4.76961363e-01],\n",
       "       [-4.43079020e-01, -2.71764214e-01],\n",
       "       [-4.43079020e-01,  1.77123027e-02],\n",
       "       [-4.43079020e-01,  4.63987435e+00],\n",
       "       [ 2.25693376e+00,  7.65003164e-01],\n",
       "       [-4.43079020e-01, -3.62822292e-01],\n",
       "       [-4.43079020e-01, -9.92763109e-01],\n",
       "       [-4.43079020e-01, -6.29117504e-01],\n",
       "       [-4.43079020e-01, -4.46497581e-01],\n",
       "       [-4.43079020e-01, -1.13301270e-03],\n",
       "       [-4.43079020e-01, -4.67954511e-01],\n",
       "       [-4.43079020e-01, -1.51724133e-01],\n",
       "       [-4.43079020e-01,  8.16761510e-01],\n",
       "       [-4.43079020e-01,  4.90852424e-01],\n",
       "       [-4.43079020e-01, -6.90957611e-01],\n",
       "       [-4.43079020e-01, -2.37548840e-01],\n",
       "       [-4.43079020e-01, -7.97257219e-01],\n",
       "       [-4.43079020e-01,  2.20922930e+00],\n",
       "       [-4.43079020e-01, -4.75112377e-01],\n",
       "       [-4.43079020e-01,  4.32210839e-01],\n",
       "       [-4.43079020e-01,  1.59429244e+00],\n",
       "       [ 2.25693376e+00, -7.64572325e-01],\n",
       "       [-4.43079020e-01, -6.80989716e-01],\n",
       "       [-4.43079020e-01, -9.92145475e-01],\n",
       "       [-4.43079020e-01, -1.36168916e-01],\n",
       "       [-4.43079020e-01, -2.24718201e-01],\n",
       "       [-4.43079020e-01, -8.17761039e-01],\n",
       "       [-4.43079020e-01, -9.59301227e-01],\n",
       "       [-4.43079020e-01, -4.62062316e-02],\n",
       "       [ 2.25693376e+00, -1.00302551e+00],\n",
       "       [ 2.25693376e+00,  1.12842588e-01],\n",
       "       [-4.43079020e-01,  6.75198729e-01],\n",
       "       [-4.43079020e-01,  2.46035027e-01],\n",
       "       [ 2.25693376e+00, -9.69810543e-01],\n",
       "       [-4.43079020e-01,  3.97437175e-01],\n",
       "       [ 2.25693376e+00,  1.20738409e+00],\n",
       "       [-4.43079020e-01,  9.69541309e-01],\n",
       "       [-4.43079020e-01, -9.42718394e-01],\n",
       "       [-4.43079020e-01, -1.61288673e-01],\n",
       "       [-4.43079020e-01, -9.83590878e-01],\n",
       "       [-4.43079020e-01,  6.45241827e-01],\n",
       "       [-4.43079020e-01,  2.45603485e+00],\n",
       "       [-4.43079020e-01, -5.86409488e-01],\n",
       "       [ 2.25693376e+00, -3.00522197e-01],\n",
       "       [-4.43079020e-01, -6.16261159e-01],\n",
       "       [-4.43079020e-01,  9.74510697e-01],\n",
       "       [-4.43079020e-01, -7.48291531e-01],\n",
       "       [-4.43079020e-01, -6.49925973e-01],\n",
       "       [-4.43079020e-01, -6.00857764e-01],\n",
       "       [-4.43079020e-01,  1.73165069e-01],\n",
       "       [-4.43079020e-01, -4.54403616e-01],\n",
       "       [-4.43079020e-01, -7.51744397e-01],\n",
       "       [-4.43079020e-01,  1.90598520e+00],\n",
       "       [ 2.25693376e+00, -9.01433316e-01],\n",
       "       [-4.43079020e-01, -1.55870042e-01],\n",
       "       [-4.43079020e-01,  1.73264476e-01],\n",
       "       [-4.43079020e-01, -8.32602428e-01],\n",
       "       [-4.43079020e-01,  9.89074447e-01],\n",
       "       [ 2.25693376e+00,  1.17089840e+00],\n",
       "       [-4.43079020e-01, -6.46310340e-01],\n",
       "       [-4.43079020e-01,  2.53172309e-01],\n",
       "       [-4.43079020e-01, -2.95426291e-01],\n",
       "       [-4.43079020e-01, -7.64102096e-01],\n",
       "       [-4.43079020e-01, -3.42360243e-01],\n",
       "       [-4.43079020e-01, -5.07086254e-01],\n",
       "       [-4.43079020e-01, -9.13965029e-01],\n",
       "       [-4.43079020e-01, -7.50534132e-01],\n",
       "       [-4.43079020e-01, -3.86405244e-01],\n",
       "       [ 2.25693376e+00,  1.30496644e+00],\n",
       "       [-4.43079020e-01,  9.17706651e-01],\n",
       "       [-4.43079020e-01, -6.97368513e-01],\n",
       "       [-4.43079020e-01,  1.77317834e+00],\n",
       "       [-4.43079020e-01,  1.27571141e+00],\n",
       "       [ 2.25693376e+00, -9.19329316e-02],\n",
       "       [-4.43079020e-01,  9.87921718e-01],\n",
       "       [-4.43079020e-01, -7.66738814e-01],\n",
       "       [-4.43079020e-01, -4.66087853e-01],\n",
       "       [-4.43079020e-01,  1.52007194e+00],\n",
       "       [-4.43079020e-01, -9.07192042e-01]])"
      ]
     },
     "execution_count": 45,
     "metadata": {},
     "output_type": "execute_result"
    }
   ],
   "source": [
    "# === famhistory & marker ===\n",
    "X_train[:,1:]"
   ]
  },
  {
   "cell_type": "markdown",
   "id": "28fa0f50",
   "metadata": {},
   "source": [
    "### Buiding Model"
   ]
  },
  {
   "cell_type": "code",
   "execution_count": 46,
   "id": "7f91f2a0",
   "metadata": {},
   "outputs": [],
   "source": [
    "def eval_model(model, X_train, y_train, X_val, y_val):\n",
    "    y_pred = model.predict(X_val)\n",
    "    scores_dic={\"Classifier\": type(model).__name__,\n",
    "        \"Training Score\" : model.score(X_train, y_train),\n",
    "        \"Testing Score\" : model.score(X_val, y_val)}\n",
    "    scores_df = pd.DataFrame([scores_dic]).set_index(['Classifier'])\n",
    "    return scores_df, y_pred\n",
    "\n",
    "\n",
    "def plot_confusion_matrix(y, y_pred):\n",
    "    cm = confusion_matrix(y, y_pred)\n",
    "    sns.heatmap(cm, annot=True, fmt=\".0f\")\n",
    "    plt.xlabel('Prediction')\n",
    "    plt.ylabel('Actual')\n",
    "    plt.show()"
   ]
  },
  {
   "cell_type": "markdown",
   "id": "4ad14c8d",
   "metadata": {},
   "source": [
    "> ### Logistic Regression\n",
    ">> #### Without \"Age\""
   ]
  },
  {
   "cell_type": "code",
   "execution_count": 47,
   "id": "13355d77",
   "metadata": {},
   "outputs": [
    {
     "data": {
      "text/html": [
       "<div>\n",
       "<style scoped>\n",
       "    .dataframe tbody tr th:only-of-type {\n",
       "        vertical-align: middle;\n",
       "    }\n",
       "\n",
       "    .dataframe tbody tr th {\n",
       "        vertical-align: top;\n",
       "    }\n",
       "\n",
       "    .dataframe thead th {\n",
       "        text-align: right;\n",
       "    }\n",
       "</style>\n",
       "<table border=\"1\" class=\"dataframe\">\n",
       "  <thead>\n",
       "    <tr style=\"text-align: right;\">\n",
       "      <th></th>\n",
       "      <th>Training Score</th>\n",
       "      <th>Testing Score</th>\n",
       "    </tr>\n",
       "    <tr>\n",
       "      <th>Classifier</th>\n",
       "      <th></th>\n",
       "      <th></th>\n",
       "    </tr>\n",
       "  </thead>\n",
       "  <tbody>\n",
       "    <tr>\n",
       "      <th>LogisticRegression</th>\n",
       "      <td>0.859</td>\n",
       "      <td>0.867</td>\n",
       "    </tr>\n",
       "  </tbody>\n",
       "</table>\n",
       "</div>"
      ],
      "text/plain": [
       "                    Training Score  Testing Score\n",
       "Classifier                                       \n",
       "LogisticRegression           0.859          0.867"
      ]
     },
     "execution_count": 47,
     "metadata": {},
     "output_type": "execute_result"
    }
   ],
   "source": [
    "log_model = LogisticRegression().fit(X_train[:,1:], y_train)\n",
    "log_data = eval_model(log_model, X_train[:,1:], y_train, X_val[:,1:], y_val)\n",
    "log_data[0]"
   ]
  },
  {
   "cell_type": "code",
   "execution_count": 48,
   "id": "88c7aa38",
   "metadata": {},
   "outputs": [
    {
     "data": {
      "image/png": "[encoded data removed]",
      "text/plain": [
       "<Figure size 576x360 with 2 Axes>"
      ]
     },
     "metadata": {},
     "output_type": "display_data"
    }
   ],
   "source": [
    "plot_confusion_matrix(y_val, log_data[1])"
   ]
  },
  {
   "cell_type": "markdown",
   "id": "97ff13b7",
   "metadata": {},
   "source": [
    ">> #### All Features"
   ]
  },
  {
   "cell_type": "code",
   "execution_count": 49,
   "id": "e318c81a",
   "metadata": {},
   "outputs": [
    {
     "data": {
      "text/html": [
       "<div>\n",
       "<style scoped>\n",
       "    .dataframe tbody tr th:only-of-type {\n",
       "        vertical-align: middle;\n",
       "    }\n",
       "\n",
       "    .dataframe tbody tr th {\n",
       "        vertical-align: top;\n",
       "    }\n",
       "\n",
       "    .dataframe thead th {\n",
       "        text-align: right;\n",
       "    }\n",
       "</style>\n",
       "<table border=\"1\" class=\"dataframe\">\n",
       "  <thead>\n",
       "    <tr style=\"text-align: right;\">\n",
       "      <th></th>\n",
       "      <th>Training Score</th>\n",
       "      <th>Testing Score</th>\n",
       "    </tr>\n",
       "    <tr>\n",
       "      <th>Classifier</th>\n",
       "      <th></th>\n",
       "      <th></th>\n",
       "    </tr>\n",
       "  </thead>\n",
       "  <tbody>\n",
       "    <tr>\n",
       "      <th>LogisticRegression</th>\n",
       "      <td>0.864</td>\n",
       "      <td>0.894</td>\n",
       "    </tr>\n",
       "  </tbody>\n",
       "</table>\n",
       "</div>"
      ],
      "text/plain": [
       "                    Training Score  Testing Score\n",
       "Classifier                                       \n",
       "LogisticRegression           0.864          0.894"
      ]
     },
     "execution_count": 49,
     "metadata": {},
     "output_type": "execute_result"
    }
   ],
   "source": [
    "log_model = LogisticRegression().fit(X_train, y_train)\n",
    "log_data = eval_model(log_model, X_train, y_train, X_val, y_val)\n",
    "log_data[0]"
   ]
  },
  {
   "cell_type": "code",
   "execution_count": 50,
   "id": "a99cbc36",
   "metadata": {},
   "outputs": [
    {
     "data": {
      "image/png": "[encoded data removed]",
      "text/plain": [
       "<Figure size 576x360 with 2 Axes>"
      ]
     },
     "metadata": {},
     "output_type": "display_data"
    }
   ],
   "source": [
    "plot_confusion_matrix(y_val, log_data[1])"
   ]
  },
  {
   "cell_type": "markdown",
   "id": "9fcfdb9a",
   "metadata": {},
   "source": [
    "- Increasing in training and testing scores after training on all featuers without excluding \"Age\""
   ]
  },
  {
   "cell_type": "markdown",
   "id": "47a6d2db",
   "metadata": {},
   "source": [
    "> ### KNN Classifier\n",
    ">> #### Without \"Age\""
   ]
  },
  {
   "cell_type": "code",
   "execution_count": 51,
   "id": "4c25073b",
   "metadata": {},
   "outputs": [
    {
     "data": {
      "text/html": [
       "<div>\n",
       "<style scoped>\n",
       "    .dataframe tbody tr th:only-of-type {\n",
       "        vertical-align: middle;\n",
       "    }\n",
       "\n",
       "    .dataframe tbody tr th {\n",
       "        vertical-align: top;\n",
       "    }\n",
       "\n",
       "    .dataframe thead th {\n",
       "        text-align: right;\n",
       "    }\n",
       "</style>\n",
       "<table border=\"1\" class=\"dataframe\">\n",
       "  <thead>\n",
       "    <tr style=\"text-align: right;\">\n",
       "      <th></th>\n",
       "      <th>Training Score</th>\n",
       "      <th>Testing Score</th>\n",
       "    </tr>\n",
       "    <tr>\n",
       "      <th>Classifier</th>\n",
       "      <th></th>\n",
       "      <th></th>\n",
       "    </tr>\n",
       "  </thead>\n",
       "  <tbody>\n",
       "    <tr>\n",
       "      <th>KNeighborsClassifier</th>\n",
       "      <td>0.864</td>\n",
       "      <td>0.844</td>\n",
       "    </tr>\n",
       "  </tbody>\n",
       "</table>\n",
       "</div>"
      ],
      "text/plain": [
       "                      Training Score  Testing Score\n",
       "Classifier                                         \n",
       "KNeighborsClassifier           0.864          0.844"
      ]
     },
     "execution_count": 51,
     "metadata": {},
     "output_type": "execute_result"
    }
   ],
   "source": [
    "knn_model = KNeighborsClassifier().fit(X_train[:,1:], y_train)\n",
    "knn_data = eval_model(knn_model, X_train[:,1:], y_train, X_val[:,1:], y_val)\n",
    "knn_data[0]"
   ]
  },
  {
   "cell_type": "code",
   "execution_count": 52,
   "id": "db030adc",
   "metadata": {},
   "outputs": [
    {
     "data": {
      "image/png": "[encoded data removed]",
      "text/plain": [
       "<Figure size 576x360 with 2 Axes>"
      ]
     },
     "metadata": {},
     "output_type": "display_data"
    }
   ],
   "source": [
    "plot_confusion_matrix(y_val, knn_data[1])"
   ]
  },
  {
   "cell_type": "markdown",
   "id": "a216bdfd",
   "metadata": {},
   "source": [
    ">> #### All Features"
   ]
  },
  {
   "cell_type": "code",
   "execution_count": 53,
   "id": "49a36924",
   "metadata": {},
   "outputs": [
    {
     "data": {
      "text/html": [
       "<div>\n",
       "<style scoped>\n",
       "    .dataframe tbody tr th:only-of-type {\n",
       "        vertical-align: middle;\n",
       "    }\n",
       "\n",
       "    .dataframe tbody tr th {\n",
       "        vertical-align: top;\n",
       "    }\n",
       "\n",
       "    .dataframe thead th {\n",
       "        text-align: right;\n",
       "    }\n",
       "</style>\n",
       "<table border=\"1\" class=\"dataframe\">\n",
       "  <thead>\n",
       "    <tr style=\"text-align: right;\">\n",
       "      <th></th>\n",
       "      <th>Training Score</th>\n",
       "      <th>Testing Score</th>\n",
       "    </tr>\n",
       "    <tr>\n",
       "      <th>Classifier</th>\n",
       "      <th></th>\n",
       "      <th></th>\n",
       "    </tr>\n",
       "  </thead>\n",
       "  <tbody>\n",
       "    <tr>\n",
       "      <th>KNeighborsClassifier</th>\n",
       "      <td>0.885</td>\n",
       "      <td>0.889</td>\n",
       "    </tr>\n",
       "  </tbody>\n",
       "</table>\n",
       "</div>"
      ],
      "text/plain": [
       "                      Training Score  Testing Score\n",
       "Classifier                                         \n",
       "KNeighborsClassifier           0.885          0.889"
      ]
     },
     "execution_count": 53,
     "metadata": {},
     "output_type": "execute_result"
    }
   ],
   "source": [
    "knn_model = KNeighborsClassifier().fit(X_train, y_train)\n",
    "knn_data = eval_model(knn_model, X_train, y_train, X_val, y_val)\n",
    "knn_data[0]"
   ]
  },
  {
   "cell_type": "code",
   "execution_count": 54,
   "id": "a091da65",
   "metadata": {},
   "outputs": [
    {
     "data": {
      "image/png": "[encoded data removed]",
      "text/plain": [
       "<Figure size 576x360 with 2 Axes>"
      ]
     },
     "metadata": {},
     "output_type": "display_data"
    }
   ],
   "source": [
    "plot_confusion_matrix(y_val, knn_data[1])"
   ]
  },
  {
   "cell_type": "markdown",
   "id": "58e56342",
   "metadata": {},
   "source": [
    "- Increasing in training and testing scores after training on all featuers without excluding \"Age\""
   ]
  },
  {
   "cell_type": "markdown",
   "id": "e3be4efd",
   "metadata": {},
   "source": [
    ">> #### KNN Hyper-parameter"
   ]
  },
  {
   "cell_type": "code",
   "execution_count": 55,
   "id": "1bffa905",
   "metadata": {},
   "outputs": [
    {
     "name": "stdout",
     "output_type": "stream",
     "text": [
      "K =  5\n",
      "                      Training Score  Testing Score\n",
      "Classifier                                         \n",
      "KNeighborsClassifier           0.885          0.889\n",
      "========================================================\n",
      "K =  10\n",
      "                      Training Score  Testing Score\n",
      "Classifier                                         \n",
      "KNeighborsClassifier           0.885          0.872\n",
      "========================================================\n",
      "K =  15\n",
      "                      Training Score  Testing Score\n",
      "Classifier                                         \n",
      "KNeighborsClassifier           0.874          0.867\n",
      "========================================================\n",
      "K =  20\n",
      "                      Training Score  Testing Score\n",
      "Classifier                                         \n",
      "KNeighborsClassifier           0.864          0.861\n",
      "========================================================\n",
      "K =  25\n",
      "                      Training Score  Testing Score\n",
      "Classifier                                         \n",
      "KNeighborsClassifier           0.856          0.861\n",
      "========================================================\n",
      "K =  30\n",
      "                      Training Score  Testing Score\n",
      "Classifier                                         \n",
      "KNeighborsClassifier           0.859          0.861\n",
      "========================================================\n",
      "K =  35\n",
      "                      Training Score  Testing Score\n",
      "Classifier                                         \n",
      "KNeighborsClassifier           0.859          0.861\n",
      "========================================================\n",
      "K =  40\n",
      "                      Training Score  Testing Score\n",
      "Classifier                                         \n",
      "KNeighborsClassifier           0.859          0.861\n",
      "========================================================\n",
      "K =  45\n",
      "                      Training Score  Testing Score\n",
      "Classifier                                         \n",
      "KNeighborsClassifier           0.859          0.861\n",
      "========================================================\n"
     ]
    }
   ],
   "source": [
    "test_score_dic={}\n",
    "for i in range(5, 50, 5):\n",
    "    print('K = ',i)\n",
    "    knn_model = KNeighborsClassifier(n_neighbors=i).fit(X_train, y_train)\n",
    "    knn_data = eval_model(knn_model, X_train, y_train, X_val, y_val)\n",
    "    print(knn_data[0])\n",
    "    print('========================================================')\n",
    "    if test_score_dic:\n",
    "        if knn_data[0]['Testing Score'].values[0] > list(test_score_dic.values())[0]:\n",
    "            test_score_dic[i] = knn_data[0]['Testing Score'].values[0]\n",
    "    else:\n",
    "        test_score_dic[i] = knn_data[0]['Testing Score'].values[0]"
   ]
  },
  {
   "cell_type": "code",
   "execution_count": 56,
   "id": "95150869",
   "metadata": {},
   "outputs": [
    {
     "name": "stdout",
     "output_type": "stream",
     "text": [
      "Best Testing Score:  0.8888888888888888  ,K= 5\n"
     ]
    }
   ],
   "source": [
    "k=list(test_score_dic.keys())[0]\n",
    "print('Best Testing Score: ',test_score_dic[k], ' ,K=', k)"
   ]
  },
  {
   "cell_type": "markdown",
   "id": "cf144345",
   "metadata": {},
   "source": [
    "- By increasing number of \"K\" both training and testing scores decreased"
   ]
  },
  {
   "cell_type": "markdown",
   "id": "1cbdc472",
   "metadata": {},
   "source": [
    "> ### Comparing Models"
   ]
  },
  {
   "cell_type": "code",
   "execution_count": 57,
   "id": "02ee3d74",
   "metadata": {},
   "outputs": [
    {
     "data": {
      "text/html": [
       "<div>\n",
       "<style scoped>\n",
       "    .dataframe tbody tr th:only-of-type {\n",
       "        vertical-align: middle;\n",
       "    }\n",
       "\n",
       "    .dataframe tbody tr th {\n",
       "        vertical-align: top;\n",
       "    }\n",
       "\n",
       "    .dataframe thead th {\n",
       "        text-align: right;\n",
       "    }\n",
       "</style>\n",
       "<table border=\"1\" class=\"dataframe\">\n",
       "  <thead>\n",
       "    <tr style=\"text-align: right;\">\n",
       "      <th></th>\n",
       "      <th>Training Score</th>\n",
       "      <th>Testing Score</th>\n",
       "    </tr>\n",
       "    <tr>\n",
       "      <th>Classifier</th>\n",
       "      <th></th>\n",
       "      <th></th>\n",
       "    </tr>\n",
       "  </thead>\n",
       "  <tbody>\n",
       "    <tr>\n",
       "      <th>LogisticRegression</th>\n",
       "      <td>0.864</td>\n",
       "      <td>0.894</td>\n",
       "    </tr>\n",
       "    <tr>\n",
       "      <th>KNeighborsClassifier</th>\n",
       "      <td>0.885</td>\n",
       "      <td>0.889</td>\n",
       "    </tr>\n",
       "  </tbody>\n",
       "</table>\n",
       "</div>"
      ],
      "text/plain": [
       "                      Training Score  Testing Score\n",
       "Classifier                                         \n",
       "LogisticRegression             0.864          0.894\n",
       "KNeighborsClassifier           0.885          0.889"
      ]
     },
     "execution_count": 57,
     "metadata": {},
     "output_type": "execute_result"
    }
   ],
   "source": [
    "knn_model = KNeighborsClassifier(n_neighbors=k).fit(X_train, y_train)\n",
    "knn_data = eval_model(knn_model, X_train, y_train, X_val, y_val)\n",
    "pd.concat([log_data[0], knn_data[0]])"
   ]
  },
  {
   "cell_type": "code",
   "execution_count": 58,
   "id": "692fceb8",
   "metadata": {},
   "outputs": [
    {
     "data": {
      "image/png": "[encoded data removed]",
      "text/plain": [
       "<Figure size 576x360 with 2 Axes>"
      ]
     },
     "metadata": {},
     "output_type": "display_data"
    },
    {
     "data": {
      "image/png": "[encoded data removed]",
      "text/plain": [
       "<Figure size 576x360 with 2 Axes>"
      ]
     },
     "metadata": {},
     "output_type": "display_data"
    }
   ],
   "source": [
    "plot_confusion_matrix(y_val, log_data[1])\n",
    "plot_confusion_matrix(y_val, knn_data[1])"
   ]
  },
  {
   "cell_type": "markdown",
   "id": "b9107227",
   "metadata": {},
   "source": [
    "- No big difference between testing scores of logistic and KNN models, but there is a diffrence in training scores as KNN training score increased by 1.8% "
   ]
  },
  {
   "cell_type": "markdown",
   "id": "2599a2b9",
   "metadata": {},
   "source": [
    "> ### Testing Model \n",
    ">> #### KNN"
   ]
  },
  {
   "cell_type": "code",
   "execution_count": 59,
   "id": "e52ec051",
   "metadata": {},
   "outputs": [],
   "source": [
    "knn_model = KNeighborsClassifier(n_neighbors=k).fit(X_train, y_train)\n",
    "knn_data = eval_model(knn_model, X_train, y_train, X_test, y_test)"
   ]
  },
  {
   "cell_type": "code",
   "execution_count": 60,
   "id": "1a88c2cf",
   "metadata": {},
   "outputs": [
    {
     "data": {
      "text/html": [
       "<div>\n",
       "<style scoped>\n",
       "    .dataframe tbody tr th:only-of-type {\n",
       "        vertical-align: middle;\n",
       "    }\n",
       "\n",
       "    .dataframe tbody tr th {\n",
       "        vertical-align: top;\n",
       "    }\n",
       "\n",
       "    .dataframe thead th {\n",
       "        text-align: right;\n",
       "    }\n",
       "</style>\n",
       "<table border=\"1\" class=\"dataframe\">\n",
       "  <thead>\n",
       "    <tr style=\"text-align: right;\">\n",
       "      <th></th>\n",
       "      <th>Training Score</th>\n",
       "      <th>Testing Score</th>\n",
       "    </tr>\n",
       "    <tr>\n",
       "      <th>Classifier</th>\n",
       "      <th></th>\n",
       "      <th></th>\n",
       "    </tr>\n",
       "  </thead>\n",
       "  <tbody>\n",
       "    <tr>\n",
       "      <th>KNeighborsClassifier</th>\n",
       "      <td>0.885</td>\n",
       "      <td>0.883</td>\n",
       "    </tr>\n",
       "  </tbody>\n",
       "</table>\n",
       "</div>"
      ],
      "text/plain": [
       "                      Training Score  Testing Score\n",
       "Classifier                                         \n",
       "KNeighborsClassifier           0.885          0.883"
      ]
     },
     "execution_count": 60,
     "metadata": {},
     "output_type": "execute_result"
    }
   ],
   "source": [
    "knn_data[0]"
   ]
  },
  {
   "cell_type": "code",
   "execution_count": 61,
   "id": "a8069bd4",
   "metadata": {},
   "outputs": [
    {
     "data": {
      "image/png": "[encoded data removed]",
      "text/plain": [
       "<Figure size 576x360 with 2 Axes>"
      ]
     },
     "metadata": {},
     "output_type": "display_data"
    }
   ],
   "source": [
    "plot_confusion_matrix(y_test, knn_data[1])"
   ]
  },
  {
   "cell_type": "code",
   "execution_count": null,
   "id": "2cbd0821",
   "metadata": {},
   "outputs": [],
   "source": []
  }
 ],
 "metadata": {
  "kernelspec": {
   "display_name": "Python 3",
   "language": "python",
   "name": "python3"
  },
  "language_info": {
   "codemirror_mode": {
    "name": "ipython",
    "version": 3
   },
   "file_extension": ".py",
   "mimetype": "text/x-python",
   "name": "python",
   "nbconvert_exporter": "python",
   "pygments_lexer": "ipython3",
   "version": "3.8.8"
  }
 },
 "nbformat": 4,
 "nbformat_minor": 5
}
