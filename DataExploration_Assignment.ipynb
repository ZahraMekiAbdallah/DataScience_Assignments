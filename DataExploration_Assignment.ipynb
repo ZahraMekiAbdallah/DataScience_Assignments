{
 "cells": [
  {
   "cell_type": "code",
   "execution_count": 37,
   "id": "fe80b24b",
   "metadata": {},
   "outputs": [],
   "source": [
    "import pandas as pd\n",
    "import seaborn as sns\n",
    "import matplotlib.pyplot as plt"
   ]
  },
  {
   "cell_type": "markdown",
   "id": "88391c0b",
   "metadata": {},
   "source": [
    "Task 1\n",
    "------------\n",
    "Apply data analysis on 'Salaries.csv' dataset.<br/>\n",
    "here is some questions to think about "
   ]
  },
  {
   "cell_type": "markdown",
   "id": "dd47a125",
   "metadata": {},
   "source": [
    "### What is the average BasePay ?"
   ]
  },
  {
   "cell_type": "code",
   "execution_count": 38,
   "id": "48576c3e",
   "metadata": {},
   "outputs": [],
   "source": [
    "df = pd.read_csv('datasets/Salaries.csv')"
   ]
  },
  {
   "cell_type": "code",
   "execution_count": 39,
   "id": "0a7f91b7",
   "metadata": {},
   "outputs": [
    {
     "data": {
      "text/plain": [
       "66325.44884050643"
      ]
     },
     "execution_count": 39,
     "metadata": {},
     "output_type": "execute_result"
    }
   ],
   "source": [
    "df['BasePay'].mean()"
   ]
  },
  {
   "cell_type": "markdown",
   "id": "0e56f0f7",
   "metadata": {},
   "source": [
    "### What is the highest amount of OvertimePay in the dataset ?"
   ]
  },
  {
   "cell_type": "code",
   "execution_count": 5,
   "id": "f3bc6e60",
   "metadata": {},
   "outputs": [
    {
     "data": {
      "text/plain": [
       "245131.88"
      ]
     },
     "execution_count": 5,
     "metadata": {},
     "output_type": "execute_result"
    }
   ],
   "source": [
    "df['OvertimePay'].max()"
   ]
  },
  {
   "cell_type": "markdown",
   "id": "99865cb1",
   "metadata": {},
   "source": [
    "### What is the job title of JOSEPH DRISCOLL ? \n",
    "Note: Use all caps, otherwise you may get an answer that doesn't match up (there is also a lowercase Joseph Driscoll)."
   ]
  },
  {
   "cell_type": "code",
   "execution_count": 6,
   "id": "e150356c",
   "metadata": {},
   "outputs": [
    {
     "data": {
      "text/plain": [
       "Index(['Id', 'EmployeeName', 'JobTitle', 'BasePay', 'OvertimePay', 'OtherPay',\n",
       "       'Benefits', 'TotalPay', 'TotalPayBenefits', 'Year', 'Notes', 'Agency',\n",
       "       'Status'],\n",
       "      dtype='object')"
      ]
     },
     "execution_count": 6,
     "metadata": {},
     "output_type": "execute_result"
    }
   ],
   "source": [
    "df.columns"
   ]
  },
  {
   "cell_type": "code",
   "execution_count": 7,
   "id": "e82df09e",
   "metadata": {},
   "outputs": [
    {
     "data": {
      "text/plain": [
       "'CAPTAIN, FIRE SUPPRESSION'"
      ]
     },
     "execution_count": 7,
     "metadata": {},
     "output_type": "execute_result"
    }
   ],
   "source": [
    "df[df['EmployeeName'] == 'JOSEPH DRISCOLL']['JobTitle'][24]"
   ]
  },
  {
   "cell_type": "markdown",
   "id": "50186c01",
   "metadata": {},
   "source": [
    "### How much does JOSEPH DRISCOLL make (including benefits)?"
   ]
  },
  {
   "cell_type": "code",
   "execution_count": 8,
   "id": "7efb0d0e",
   "metadata": {},
   "outputs": [
    {
     "data": {
      "text/plain": [
       "270324.91"
      ]
     },
     "execution_count": 8,
     "metadata": {},
     "output_type": "execute_result"
    }
   ],
   "source": [
    "df[df['EmployeeName'] == 'JOSEPH DRISCOLL']['TotalPayBenefits'][24]"
   ]
  },
  {
   "cell_type": "markdown",
   "id": "e6837afb",
   "metadata": {},
   "source": [
    "### What is the name of highest paid person (including benefits)?"
   ]
  },
  {
   "cell_type": "code",
   "execution_count": 9,
   "id": "31f84ab4",
   "metadata": {},
   "outputs": [
    {
     "data": {
      "text/plain": [
       "'NATHANIEL FORD'"
      ]
     },
     "execution_count": 9,
     "metadata": {},
     "output_type": "execute_result"
    }
   ],
   "source": [
    "df.loc[df['TotalPayBenefits'] == df['TotalPayBenefits'].max()]['EmployeeName'][0]"
   ]
  },
  {
   "cell_type": "markdown",
   "id": "e0e5bdf2",
   "metadata": {},
   "source": [
    "### What is the name of lowest paid person (including benefits)? "
   ]
  },
  {
   "cell_type": "code",
   "execution_count": 10,
   "id": "faf646ab",
   "metadata": {},
   "outputs": [
    {
     "data": {
      "text/plain": [
       "'Joe Lopez'"
      ]
     },
     "execution_count": 10,
     "metadata": {},
     "output_type": "execute_result"
    }
   ],
   "source": [
    "df.loc[df['TotalPayBenefits'] == df['TotalPayBenefits'].min()]['EmployeeName'][148653]"
   ]
  },
  {
   "cell_type": "markdown",
   "id": "5c70ddfb",
   "metadata": {},
   "source": [
    "### What was the average (mean) BasePay of all employees per year? (2011-2014) ?"
   ]
  },
  {
   "cell_type": "code",
   "execution_count": 11,
   "id": "30d40b1f",
   "metadata": {},
   "outputs": [
    {
     "data": {
      "text/plain": [
       "EmployeeName           Year\n",
       "A BERNARD FATOOH       2011    19969.37\n",
       "A Bernard  Fatooh      2013    23908.50\n",
       "A Bernard Fatooh       2012    18472.35\n",
       "                       2014    24061.35\n",
       "A ELIZABETH MARCHASIN  2011    23591.80\n",
       "                                 ...   \n",
       "Zuna T Luu             2013    55026.00\n",
       "                       2014    54703.00\n",
       "Zuri  Jones            2013    71986.90\n",
       "Zuri Jones             2012    86588.52\n",
       "                       2014    66667.54\n",
       "Name: BasePay, Length: 141061, dtype: float64"
      ]
     },
     "execution_count": 11,
     "metadata": {},
     "output_type": "execute_result"
    }
   ],
   "source": [
    "df.groupby(['EmployeeName', 'Year'])['BasePay'].mean()"
   ]
  },
  {
   "cell_type": "code",
   "execution_count": 12,
   "id": "0aaaae6c",
   "metadata": {},
   "outputs": [
    {
     "data": {
      "text/html": [
       "<div>\n",
       "<style scoped>\n",
       "    .dataframe tbody tr th:only-of-type {\n",
       "        vertical-align: middle;\n",
       "    }\n",
       "\n",
       "    .dataframe tbody tr th {\n",
       "        vertical-align: top;\n",
       "    }\n",
       "\n",
       "    .dataframe thead th {\n",
       "        text-align: right;\n",
       "    }\n",
       "</style>\n",
       "<table border=\"1\" class=\"dataframe\">\n",
       "  <thead>\n",
       "    <tr style=\"text-align: right;\">\n",
       "      <th>Year</th>\n",
       "      <th>2011</th>\n",
       "      <th>2012</th>\n",
       "      <th>2013</th>\n",
       "      <th>2014</th>\n",
       "    </tr>\n",
       "    <tr>\n",
       "      <th>EmployeeName</th>\n",
       "      <th></th>\n",
       "      <th></th>\n",
       "      <th></th>\n",
       "      <th></th>\n",
       "    </tr>\n",
       "  </thead>\n",
       "  <tbody>\n",
       "    <tr>\n",
       "      <th>A BERNARD FATOOH</th>\n",
       "      <td>19969.37</td>\n",
       "      <td>NaN</td>\n",
       "      <td>NaN</td>\n",
       "      <td>NaN</td>\n",
       "    </tr>\n",
       "    <tr>\n",
       "      <th>A Bernard  Fatooh</th>\n",
       "      <td>NaN</td>\n",
       "      <td>NaN</td>\n",
       "      <td>23908.5</td>\n",
       "      <td>NaN</td>\n",
       "    </tr>\n",
       "    <tr>\n",
       "      <th>A Bernard Fatooh</th>\n",
       "      <td>NaN</td>\n",
       "      <td>18472.35</td>\n",
       "      <td>NaN</td>\n",
       "      <td>24061.35</td>\n",
       "    </tr>\n",
       "    <tr>\n",
       "      <th>A ELIZABETH MARCHASIN</th>\n",
       "      <td>23591.80</td>\n",
       "      <td>NaN</td>\n",
       "      <td>NaN</td>\n",
       "      <td>NaN</td>\n",
       "    </tr>\n",
       "    <tr>\n",
       "      <th>A JAMIL NIAZI</th>\n",
       "      <td>69058.19</td>\n",
       "      <td>NaN</td>\n",
       "      <td>NaN</td>\n",
       "      <td>NaN</td>\n",
       "    </tr>\n",
       "    <tr>\n",
       "      <th>...</th>\n",
       "      <td>...</td>\n",
       "      <td>...</td>\n",
       "      <td>...</td>\n",
       "      <td>...</td>\n",
       "    </tr>\n",
       "    <tr>\n",
       "      <th>Zun Jin Zhang He</th>\n",
       "      <td>NaN</td>\n",
       "      <td>51492.80</td>\n",
       "      <td>NaN</td>\n",
       "      <td>53732.21</td>\n",
       "    </tr>\n",
       "    <tr>\n",
       "      <th>Zuna Luu</th>\n",
       "      <td>NaN</td>\n",
       "      <td>51502.86</td>\n",
       "      <td>NaN</td>\n",
       "      <td>NaN</td>\n",
       "    </tr>\n",
       "    <tr>\n",
       "      <th>Zuna T Luu</th>\n",
       "      <td>NaN</td>\n",
       "      <td>NaN</td>\n",
       "      <td>55026.0</td>\n",
       "      <td>54703.00</td>\n",
       "    </tr>\n",
       "    <tr>\n",
       "      <th>Zuri  Jones</th>\n",
       "      <td>NaN</td>\n",
       "      <td>NaN</td>\n",
       "      <td>71986.9</td>\n",
       "      <td>NaN</td>\n",
       "    </tr>\n",
       "    <tr>\n",
       "      <th>Zuri Jones</th>\n",
       "      <td>NaN</td>\n",
       "      <td>86588.52</td>\n",
       "      <td>NaN</td>\n",
       "      <td>66667.54</td>\n",
       "    </tr>\n",
       "  </tbody>\n",
       "</table>\n",
       "<p>110313 rows × 4 columns</p>\n",
       "</div>"
      ],
      "text/plain": [
       "Year                       2011      2012     2013      2014\n",
       "EmployeeName                                                \n",
       "A BERNARD FATOOH       19969.37       NaN      NaN       NaN\n",
       "A Bernard  Fatooh           NaN       NaN  23908.5       NaN\n",
       "A Bernard Fatooh            NaN  18472.35      NaN  24061.35\n",
       "A ELIZABETH MARCHASIN  23591.80       NaN      NaN       NaN\n",
       "A JAMIL NIAZI          69058.19       NaN      NaN       NaN\n",
       "...                         ...       ...      ...       ...\n",
       "Zun Jin Zhang He            NaN  51492.80      NaN  53732.21\n",
       "Zuna Luu                    NaN  51502.86      NaN       NaN\n",
       "Zuna T Luu                  NaN       NaN  55026.0  54703.00\n",
       "Zuri  Jones                 NaN       NaN  71986.9       NaN\n",
       "Zuri Jones                  NaN  86588.52      NaN  66667.54\n",
       "\n",
       "[110313 rows x 4 columns]"
      ]
     },
     "execution_count": 12,
     "metadata": {},
     "output_type": "execute_result"
    }
   ],
   "source": [
    "pd.pivot_table(df, index='EmployeeName', columns='Year', values='BasePay')"
   ]
  },
  {
   "cell_type": "markdown",
   "id": "b56a2210",
   "metadata": {},
   "source": [
    "### How many unique job titles are there?"
   ]
  },
  {
   "cell_type": "code",
   "execution_count": 13,
   "id": "0082b6eb",
   "metadata": {},
   "outputs": [
    {
     "data": {
      "text/plain": [
       "2159"
      ]
     },
     "execution_count": 13,
     "metadata": {},
     "output_type": "execute_result"
    }
   ],
   "source": [
    "df['JobTitle'].nunique()"
   ]
  },
  {
   "cell_type": "code",
   "execution_count": 14,
   "id": "85aba5bf",
   "metadata": {},
   "outputs": [
    {
     "data": {
      "text/plain": [
       "2159"
      ]
     },
     "execution_count": 14,
     "metadata": {},
     "output_type": "execute_result"
    }
   ],
   "source": [
    "df['JobTitle'].value_counts().count()"
   ]
  },
  {
   "cell_type": "markdown",
   "id": "7246aa60",
   "metadata": {},
   "source": [
    "### What are the top 5 most common jobs?"
   ]
  },
  {
   "cell_type": "code",
   "execution_count": 15,
   "id": "e8807ac9",
   "metadata": {},
   "outputs": [
    {
     "data": {
      "text/plain": [
       "Transit Operator                7036\n",
       "Special Nurse                   4389\n",
       "Registered Nurse                3736\n",
       "Public Svc Aide-Public Works    2518\n",
       "Police Officer 3                2421\n",
       "Name: JobTitle, dtype: int64"
      ]
     },
     "execution_count": 15,
     "metadata": {},
     "output_type": "execute_result"
    }
   ],
   "source": [
    "df['JobTitle'].value_counts()[:5]"
   ]
  },
  {
   "cell_type": "markdown",
   "id": "c2982811",
   "metadata": {},
   "source": [
    "### How many Job Titles were represented by only one person in 2013? (e.g. Job Titles with only one occurence in 2013?)"
   ]
  },
  {
   "cell_type": "code",
   "execution_count": 16,
   "id": "9b1fea61",
   "metadata": {},
   "outputs": [
    {
     "data": {
      "text/plain": [
       "202"
      ]
     },
     "execution_count": 16,
     "metadata": {},
     "output_type": "execute_result"
    }
   ],
   "source": [
    "df_2013 = df[df['Year'] == 2013]\n",
    "(df_2013.groupby('JobTitle')['JobTitle'].count() == 1).sum()"
   ]
  },
  {
   "cell_type": "code",
   "execution_count": 17,
   "id": "93af0210",
   "metadata": {},
   "outputs": [
    {
     "data": {
      "text/plain": [
       "202"
      ]
     },
     "execution_count": 17,
     "metadata": {},
     "output_type": "execute_result"
    }
   ],
   "source": [
    "((df['Year']==2013) & (df.groupby(['JobTitle','Year'])['JobTitle'].transform('size')==1)).sum()"
   ]
  },
  {
   "cell_type": "markdown",
   "id": "093fb3f5",
   "metadata": {},
   "source": [
    "### How many people have the word Chief in their job title? (This is pretty tricky)"
   ]
  },
  {
   "cell_type": "code",
   "execution_count": 18,
   "id": "d4238b18",
   "metadata": {},
   "outputs": [
    {
     "data": {
      "text/plain": [
       "423"
      ]
     },
     "execution_count": 18,
     "metadata": {},
     "output_type": "execute_result"
    }
   ],
   "source": [
    "#=== capital (case sensitive)===\n",
    "df.query('JobTitle.str.contains(\"Chief\")', engine='python')['Id'].count()"
   ]
  },
  {
   "cell_type": "code",
   "execution_count": 19,
   "id": "d0360fda",
   "metadata": {},
   "outputs": [
    {
     "data": {
      "text/plain": [
       "627"
      ]
     },
     "execution_count": 19,
     "metadata": {},
     "output_type": "execute_result"
    }
   ],
   "source": [
    "#=== lower and upper case ===\n",
    "df[df.JobTitle.str.contains('Chief', case=False)]['Id'].count()"
   ]
  },
  {
   "cell_type": "markdown",
   "id": "e05a96c3",
   "metadata": {},
   "source": [
    "### Is there a correlation between length of the Job Title string and Salary?"
   ]
  },
  {
   "cell_type": "code",
   "execution_count": 41,
   "id": "2297f8ac",
   "metadata": {},
   "outputs": [],
   "source": [
    "df['JobTitleLen'] = df['JobTitle'].str.len()"
   ]
  },
  {
   "cell_type": "code",
   "execution_count": 42,
   "id": "275b0b6f",
   "metadata": {},
   "outputs": [
    {
     "data": {
      "text/plain": [
       "-0.036878445932606675"
      ]
     },
     "execution_count": 42,
     "metadata": {},
     "output_type": "execute_result"
    }
   ],
   "source": [
    "df['JobTitleLen'].corr(df['TotalPayBenefits'])"
   ]
  },
  {
   "cell_type": "code",
   "execution_count": 43,
   "id": "78b518fa",
   "metadata": {},
   "outputs": [
    {
     "data": {
      "image/png": "[encoded data removed]",
      "text/plain": [
       "<Figure size 432x288 with 2 Axes>"
      ]
     },
     "metadata": {
      "needs_background": "light"
     },
     "output_type": "display_data"
    }
   ],
   "source": [
    "corr=df[['JobTitleLen', 'TotalPayBenefits']].corr()\n",
    "ax1 = sns.heatmap(corr, annot=True)\n",
    "plt.show()\n",
    "# no correllation"
   ]
  },
  {
   "cell_type": "markdown",
   "id": "f932df68",
   "metadata": {},
   "source": [
    "------------------------------------------------------------------------------------------------------------\n",
    "\n",
    "Task 2\n",
    "------------\n",
    "Apply data analysis on 'Ecommerce Purchases.csv' dataset.\n",
    "here is some questions to think about"
   ]
  },
  {
   "cell_type": "markdown",
   "id": "7a8b51b4",
   "metadata": {},
   "source": [
    "### What is the average Purchase Price?"
   ]
  },
  {
   "cell_type": "code",
   "execution_count": 45,
   "id": "62543081",
   "metadata": {},
   "outputs": [],
   "source": [
    "pur_df = pd.read_csv('datasets/Ecommerce Purchases.csv')"
   ]
  },
  {
   "cell_type": "code",
   "execution_count": 46,
   "id": "5ba706f4",
   "metadata": {},
   "outputs": [
    {
     "data": {
      "text/plain": [
       "Index(['Address', 'Lot', 'AM or PM', 'Browser Info', 'Company', 'Credit Card',\n",
       "       'CC Exp Date', 'CC Security Code', 'CC Provider', 'Email', 'Job',\n",
       "       'IP Address', 'Language', 'Purchase Price'],\n",
       "      dtype='object')"
      ]
     },
     "execution_count": 46,
     "metadata": {},
     "output_type": "execute_result"
    }
   ],
   "source": [
    "pur_df.columns"
   ]
  },
  {
   "cell_type": "code",
   "execution_count": 47,
   "id": "a6ffbd77",
   "metadata": {},
   "outputs": [
    {
     "data": {
      "text/plain": [
       "50.34730200000025"
      ]
     },
     "execution_count": 47,
     "metadata": {},
     "output_type": "execute_result"
    }
   ],
   "source": [
    "pur_df['Purchase Price'].mean()"
   ]
  },
  {
   "cell_type": "markdown",
   "id": "cf22ef33",
   "metadata": {},
   "source": [
    "### What were the highest and lowest purchase prices?"
   ]
  },
  {
   "cell_type": "code",
   "execution_count": 48,
   "id": "f94182d5",
   "metadata": {},
   "outputs": [
    {
     "name": "stdout",
     "output_type": "stream",
     "text": [
      "99.99\n"
     ]
    },
    {
     "data": {
      "text/plain": [
       "0.0"
      ]
     },
     "execution_count": 48,
     "metadata": {},
     "output_type": "execute_result"
    }
   ],
   "source": [
    "print(pur_df['Purchase Price'].max())\n",
    "pur_df['Purchase Price'].min()"
   ]
  },
  {
   "cell_type": "markdown",
   "id": "e8fbea9a",
   "metadata": {},
   "source": [
    "### How many people have English 'en' as their Language of choice on the website?"
   ]
  },
  {
   "cell_type": "code",
   "execution_count": 49,
   "id": "0603c7c5",
   "metadata": {},
   "outputs": [
    {
     "data": {
      "text/plain": [
       "1098"
      ]
     },
     "execution_count": 49,
     "metadata": {},
     "output_type": "execute_result"
    }
   ],
   "source": [
    "pur_df[pur_df['Language'] == 'en']['Language'].count()"
   ]
  },
  {
   "cell_type": "markdown",
   "id": "20b90134",
   "metadata": {},
   "source": [
    "### How many people have the job title of \"Lawyer\" ?"
   ]
  },
  {
   "cell_type": "code",
   "execution_count": 50,
   "id": "48853dd0",
   "metadata": {},
   "outputs": [
    {
     "data": {
      "text/plain": [
       "30"
      ]
     },
     "execution_count": 50,
     "metadata": {},
     "output_type": "execute_result"
    }
   ],
   "source": [
    "pur_df[pur_df['Job'].str.contains('Lawyer', case=False)].count()['Job']"
   ]
  },
  {
   "cell_type": "markdown",
   "id": "6b7afbdd",
   "metadata": {},
   "source": [
    "### How many people made the purchase during the AM and how many people made the purchase during PM ?"
   ]
  },
  {
   "cell_type": "code",
   "execution_count": 51,
   "id": "823a560a",
   "metadata": {},
   "outputs": [
    {
     "data": {
      "text/plain": [
       "PM    5068\n",
       "AM    4932\n",
       "Name: AM or PM, dtype: int64"
      ]
     },
     "execution_count": 51,
     "metadata": {},
     "output_type": "execute_result"
    }
   ],
   "source": [
    "pur_df['AM or PM'].value_counts()"
   ]
  },
  {
   "cell_type": "markdown",
   "id": "d8706e55",
   "metadata": {},
   "source": [
    "### What are the 5 most common Job Titles?"
   ]
  },
  {
   "cell_type": "code",
   "execution_count": 52,
   "id": "2b62938c",
   "metadata": {},
   "outputs": [
    {
     "data": {
      "text/plain": [
       "Interior and spatial designer        31\n",
       "Lawyer                               30\n",
       "Social researcher                    28\n",
       "Research officer, political party    27\n",
       "Designer, jewellery                  27\n",
       "Name: Job, dtype: int64"
      ]
     },
     "execution_count": 52,
     "metadata": {},
     "output_type": "execute_result"
    }
   ],
   "source": [
    "pur_df['Job'].value_counts()[:5]"
   ]
  },
  {
   "cell_type": "markdown",
   "id": "8a4e0c16",
   "metadata": {},
   "source": [
    "### Someone made a purchase that came from Lot: \"90 WT\" , what was the Purchase Price for this transaction?"
   ]
  },
  {
   "cell_type": "code",
   "execution_count": 77,
   "id": "a24be123",
   "metadata": {},
   "outputs": [
    {
     "data": {
      "text/plain": [
       "75.1"
      ]
     },
     "execution_count": 77,
     "metadata": {},
     "output_type": "execute_result"
    }
   ],
   "source": [
    "pur_df[pur_df['Lot'] == '90 WT']['Purchase Price'].values[0]"
   ]
  },
  {
   "cell_type": "markdown",
   "id": "e1529796",
   "metadata": {},
   "source": [
    "### What is the email of the person with the following Credit Card Number: 4926535242672853"
   ]
  },
  {
   "cell_type": "code",
   "execution_count": 78,
   "id": "6ac38c13",
   "metadata": {},
   "outputs": [
    {
     "data": {
      "text/plain": [
       "'bondellen@williams-garza.com'"
      ]
     },
     "execution_count": 78,
     "metadata": {},
     "output_type": "execute_result"
    }
   ],
   "source": [
    "pur_df[pur_df['Credit Card'] == 4926535242672853]['Email'].values[0]"
   ]
  },
  {
   "cell_type": "markdown",
   "id": "49a90c9d",
   "metadata": {},
   "source": [
    "### How many people have American Express as their Credit Card Provider and made a purchase above $95 ?"
   ]
  },
  {
   "cell_type": "code",
   "execution_count": 33,
   "id": "aad9929d",
   "metadata": {},
   "outputs": [
    {
     "data": {
      "text/plain": [
       "39"
      ]
     },
     "execution_count": 33,
     "metadata": {},
     "output_type": "execute_result"
    }
   ],
   "source": [
    "pur_df[(pur_df['CC Provider'] == 'American Express') & (pur_df['Purchase Price'] > 95)].count()['Email']"
   ]
  },
  {
   "cell_type": "markdown",
   "id": "b85c04c5",
   "metadata": {},
   "source": [
    "### Hard: How many people have a credit card that expires in 2025?"
   ]
  },
  {
   "cell_type": "code",
   "execution_count": 34,
   "id": "4e51b694",
   "metadata": {},
   "outputs": [
    {
     "data": {
      "text/plain": [
       "1033"
      ]
     },
     "execution_count": 34,
     "metadata": {},
     "output_type": "execute_result"
    }
   ],
   "source": [
    "pur_df[pur_df['CC Exp Date'].str.contains('/25')]['CC Exp Date'].count()"
   ]
  },
  {
   "cell_type": "markdown",
   "id": "28b4dc6a",
   "metadata": {},
   "source": [
    "### Hard: What are the top 5 most popular email providers/hosts (e.g. gmail.com, yahoo.com, etc...)"
   ]
  },
  {
   "cell_type": "code",
   "execution_count": 35,
   "id": "a7f4f810",
   "metadata": {},
   "outputs": [
    {
     "data": {
      "text/plain": [
       "hotmail.com     1638\n",
       "yahoo.com       1616\n",
       "gmail.com       1605\n",
       "smith.com         42\n",
       "williams.com      37\n",
       "Name: Email Provider, dtype: int64"
      ]
     },
     "execution_count": 35,
     "metadata": {},
     "output_type": "execute_result"
    }
   ],
   "source": [
    "pur_df['Email Provider'] = pur_df['Email'].str.split('@',expand=True)[1]\n",
    "pur_df['Email Provider'].value_counts()[:5]"
   ]
  },
  {
   "cell_type": "code",
   "execution_count": null,
   "id": "e743190f",
   "metadata": {},
   "outputs": [],
   "source": []
  }
 ],
 "metadata": {
  "kernelspec": {
   "display_name": "Python 3",
   "language": "python",
   "name": "python3"
  },
  "language_info": {
   "codemirror_mode": {
    "name": "ipython",
    "version": 3
   },
   "file_extension": ".py",
   "mimetype": "text/x-python",
   "name": "python",
   "nbconvert_exporter": "python",
   "pygments_lexer": "ipython3",
   "version": "3.8.8"
  }
 },
 "nbformat": 4,
 "nbformat_minor": 5
}
