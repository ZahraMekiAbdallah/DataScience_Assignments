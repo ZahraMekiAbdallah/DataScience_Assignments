{
 "cells": [
  {
   "cell_type": "code",
   "execution_count": 229,
   "id": "a6a9a4d4",
   "metadata": {},
   "outputs": [],
   "source": [
    "import numpy as np\n",
    "import pandas as pd\n",
    "from sklearn.impute import SimpleImputer\n",
    "import matplotlib.pyplot as plt\n",
    "import seaborn as sns\n",
    "from geopy.distance import great_circle\n",
    "from ip2geotools.databases.noncommercial import DbIpCity as ip2geo\n",
    "from geopy.geocoders import Nominatim\n",
    "from datasist.structdata import detect_outliers"
   ]
  },
  {
   "cell_type": "code",
   "execution_count": 248,
   "id": "8f72f0d1",
   "metadata": {},
   "outputs": [],
   "source": [
    "import warnings\n",
    "warnings.filterwarnings('ignore')\n",
    "%matplotlib inline\n",
    "sns.set(rc={'figure.figsize': [8, 5]}, font_scale=1.2)"
   ]
  },
  {
   "cell_type": "markdown",
   "id": "754fb072",
   "metadata": {},
   "source": [
    "Task 5\n",
    "-------------\n",
    "1) Using visitor-interests.csv dataset, from the first 50 row extract latitude, longitude from 'IP' column and use it to create new 'Dist_From_Egypt' column calculating distance with Egypt Lat/Lonng, you can get this location from google."
   ]
  },
  {
   "cell_type": "code",
   "execution_count": 2,
   "id": "398ab2dc",
   "metadata": {},
   "outputs": [],
   "source": [
    "visitor_df = pd.read_csv('datasets/visitor-interests.csv')"
   ]
  },
  {
   "cell_type": "code",
   "execution_count": 3,
   "id": "85df8b63",
   "metadata": {},
   "outputs": [
    {
     "data": {
      "text/html": [
       "<div>\n",
       "<style scoped>\n",
       "    .dataframe tbody tr th:only-of-type {\n",
       "        vertical-align: middle;\n",
       "    }\n",
       "\n",
       "    .dataframe tbody tr th {\n",
       "        vertical-align: top;\n",
       "    }\n",
       "\n",
       "    .dataframe thead th {\n",
       "        text-align: right;\n",
       "    }\n",
       "</style>\n",
       "<table border=\"1\" class=\"dataframe\">\n",
       "  <thead>\n",
       "    <tr style=\"text-align: right;\">\n",
       "      <th></th>\n",
       "      <th>IP</th>\n",
       "      <th>UserAgent</th>\n",
       "      <th>Country</th>\n",
       "      <th>Languages</th>\n",
       "      <th>Interests</th>\n",
       "    </tr>\n",
       "  </thead>\n",
       "  <tbody>\n",
       "    <tr>\n",
       "      <th>0</th>\n",
       "      <td>1.10.195.126</td>\n",
       "      <td>Mozilla/5.0 (Windows NT 6.1; Win64; x64) Apple...</td>\n",
       "      <td>TH</td>\n",
       "      <td>english</td>\n",
       "      <td>other</td>\n",
       "    </tr>\n",
       "    <tr>\n",
       "      <th>1</th>\n",
       "      <td>1.1.217.211</td>\n",
       "      <td>Mozilla/5.0 (Windows NT 10.0; Win64; x64) Appl...</td>\n",
       "      <td>TH</td>\n",
       "      <td>thai</td>\n",
       "      <td>blog/personal homepage</td>\n",
       "    </tr>\n",
       "    <tr>\n",
       "      <th>2</th>\n",
       "      <td>1.115.198.107</td>\n",
       "      <td>Mozilla/5.0 (Windows NT 6.1) AppleWebKit/537.3...</td>\n",
       "      <td>JP</td>\n",
       "      <td>english</td>\n",
       "      <td>shop/online shopping website</td>\n",
       "    </tr>\n",
       "    <tr>\n",
       "      <th>3</th>\n",
       "      <td>1.121.152.143</td>\n",
       "      <td>Mozilla/5.0 (Linux; Android 7.0; Nexus 9 Build...</td>\n",
       "      <td>AU</td>\n",
       "      <td>english</td>\n",
       "      <td>company</td>\n",
       "    </tr>\n",
       "    <tr>\n",
       "      <th>4</th>\n",
       "      <td>1.123.135.213</td>\n",
       "      <td>Mozilla/5.0 (iPad; CPU OS 9_3_5 like Mac OS X)...</td>\n",
       "      <td>AU</td>\n",
       "      <td>english</td>\n",
       "      <td>company</td>\n",
       "    </tr>\n",
       "    <tr>\n",
       "      <th>...</th>\n",
       "      <td>...</td>\n",
       "      <td>...</td>\n",
       "      <td>...</td>\n",
       "      <td>...</td>\n",
       "      <td>...</td>\n",
       "    </tr>\n",
       "    <tr>\n",
       "      <th>19921</th>\n",
       "      <td>223.62.3.2</td>\n",
       "      <td>Mozilla/5.0 (Linux; Android 6.0.1; SM-N920S Bu...</td>\n",
       "      <td>KR</td>\n",
       "      <td>english</td>\n",
       "      <td>shop/online shopping website</td>\n",
       "    </tr>\n",
       "    <tr>\n",
       "      <th>19922</th>\n",
       "      <td>223.62.67.192</td>\n",
       "      <td>Mozilla/5.0 (Linux; Android 6.0.1; SM-N920S Bu...</td>\n",
       "      <td>KR</td>\n",
       "      <td>english</td>\n",
       "      <td>shop/online shopping website</td>\n",
       "    </tr>\n",
       "    <tr>\n",
       "      <th>19923</th>\n",
       "      <td>223.73.243.82</td>\n",
       "      <td>Mozilla/5.0 (Linux; U; Android 5.1.1; zh-cn; v...</td>\n",
       "      <td>CN</td>\n",
       "      <td>chinese</td>\n",
       "      <td>educational institution</td>\n",
       "    </tr>\n",
       "    <tr>\n",
       "      <th>19924</th>\n",
       "      <td>223.73.66.65</td>\n",
       "      <td>Mozilla/5.0 (Macintosh; Intel Mac OS X 10.11; ...</td>\n",
       "      <td>CN</td>\n",
       "      <td>english</td>\n",
       "      <td>magazine</td>\n",
       "    </tr>\n",
       "    <tr>\n",
       "      <th>19925</th>\n",
       "      <td>223.81.193.148</td>\n",
       "      <td>Mozilla/5.0 (Windows NT 5.1) AppleWebKit/537.3...</td>\n",
       "      <td>CN</td>\n",
       "      <td>chinese</td>\n",
       "      <td>social network/forum</td>\n",
       "    </tr>\n",
       "  </tbody>\n",
       "</table>\n",
       "<p>19926 rows × 5 columns</p>\n",
       "</div>"
      ],
      "text/plain": [
       "                   IP                                          UserAgent  \\\n",
       "0        1.10.195.126  Mozilla/5.0 (Windows NT 6.1; Win64; x64) Apple...   \n",
       "1         1.1.217.211  Mozilla/5.0 (Windows NT 10.0; Win64; x64) Appl...   \n",
       "2       1.115.198.107  Mozilla/5.0 (Windows NT 6.1) AppleWebKit/537.3...   \n",
       "3       1.121.152.143  Mozilla/5.0 (Linux; Android 7.0; Nexus 9 Build...   \n",
       "4       1.123.135.213  Mozilla/5.0 (iPad; CPU OS 9_3_5 like Mac OS X)...   \n",
       "...               ...                                                ...   \n",
       "19921      223.62.3.2  Mozilla/5.0 (Linux; Android 6.0.1; SM-N920S Bu...   \n",
       "19922   223.62.67.192  Mozilla/5.0 (Linux; Android 6.0.1; SM-N920S Bu...   \n",
       "19923   223.73.243.82  Mozilla/5.0 (Linux; U; Android 5.1.1; zh-cn; v...   \n",
       "19924    223.73.66.65  Mozilla/5.0 (Macintosh; Intel Mac OS X 10.11; ...   \n",
       "19925  223.81.193.148  Mozilla/5.0 (Windows NT 5.1) AppleWebKit/537.3...   \n",
       "\n",
       "      Country Languages                     Interests  \n",
       "0          TH   english                         other  \n",
       "1          TH      thai        blog/personal homepage  \n",
       "2          JP   english  shop/online shopping website  \n",
       "3          AU   english                       company  \n",
       "4          AU   english                       company  \n",
       "...       ...       ...                           ...  \n",
       "19921      KR   english  shop/online shopping website  \n",
       "19922      KR   english  shop/online shopping website  \n",
       "19923      CN   chinese       educational institution  \n",
       "19924      CN   english                      magazine  \n",
       "19925      CN   chinese          social network/forum  \n",
       "\n",
       "[19926 rows x 5 columns]"
      ]
     },
     "execution_count": 3,
     "metadata": {},
     "output_type": "execute_result"
    }
   ],
   "source": [
    "visitor_df"
   ]
  },
  {
   "cell_type": "code",
   "execution_count": 14,
   "id": "99f96ae5",
   "metadata": {},
   "outputs": [],
   "source": [
    "def get_lat_long(place):\n",
    "    try:\n",
    "        geolocator = Nominatim(user_agent=\"Assignment\")\n",
    "        location = geolocator.geocode(place)\n",
    "        return (location.raw['lat'], location.raw['lon'])\n",
    "    except Exception as e:\n",
    "        return(e)"
   ]
  },
  {
   "cell_type": "code",
   "execution_count": 28,
   "id": "a0f57e15",
   "metadata": {},
   "outputs": [],
   "source": [
    "egypt_lat_long = get_lat_long(\"Egypt\")\n",
    "\n",
    "def get_user_ip_data(ip):\n",
    "    try:\n",
    "        response = ip2geo.get(ip, api_key='free')\n",
    "        distance = great_circle(egypt_lat_long, (response.latitude, response.longitude)).kilometers if response.latitude and response.longitude else np.nan\n",
    "        return pd.Series((response.latitude, response.longitude, distance))\n",
    "    except Exception as e:\n",
    "        return(e)\n",
    "    \n",
    "visitor_df[['latitude', 'longitude', 'distance']] = visitor_df['IP'][0:51].apply(get_user_ip_data)"
   ]
  },
  {
   "cell_type": "code",
   "execution_count": 29,
   "id": "41e81d8c",
   "metadata": {},
   "outputs": [
    {
     "data": {
      "text/html": [
       "<div>\n",
       "<style scoped>\n",
       "    .dataframe tbody tr th:only-of-type {\n",
       "        vertical-align: middle;\n",
       "    }\n",
       "\n",
       "    .dataframe tbody tr th {\n",
       "        vertical-align: top;\n",
       "    }\n",
       "\n",
       "    .dataframe thead th {\n",
       "        text-align: right;\n",
       "    }\n",
       "</style>\n",
       "<table border=\"1\" class=\"dataframe\">\n",
       "  <thead>\n",
       "    <tr style=\"text-align: right;\">\n",
       "      <th></th>\n",
       "      <th>latitude</th>\n",
       "      <th>longitude</th>\n",
       "      <th>distance</th>\n",
       "    </tr>\n",
       "  </thead>\n",
       "  <tbody>\n",
       "    <tr>\n",
       "      <th>7</th>\n",
       "      <td>-30.784484</td>\n",
       "      <td>125.171489</td>\n",
       "      <td>11986.541244</td>\n",
       "    </tr>\n",
       "    <tr>\n",
       "      <th>24</th>\n",
       "      <td>-37.814218</td>\n",
       "      <td>144.963161</td>\n",
       "      <td>13937.050903</td>\n",
       "    </tr>\n",
       "    <tr>\n",
       "      <th>14</th>\n",
       "      <td>-33.869844</td>\n",
       "      <td>151.208285</td>\n",
       "      <td>14436.183336</td>\n",
       "    </tr>\n",
       "    <tr>\n",
       "      <th>16</th>\n",
       "      <td>-33.869844</td>\n",
       "      <td>151.208285</td>\n",
       "      <td>14436.183336</td>\n",
       "    </tr>\n",
       "    <tr>\n",
       "      <th>19</th>\n",
       "      <td>-33.869844</td>\n",
       "      <td>151.208285</td>\n",
       "      <td>14436.183336</td>\n",
       "    </tr>\n",
       "    <tr>\n",
       "      <th>40</th>\n",
       "      <td>25.119312</td>\n",
       "      <td>121.798774</td>\n",
       "      <td>9035.921890</td>\n",
       "    </tr>\n",
       "    <tr>\n",
       "      <th>38</th>\n",
       "      <td>24.806633</td>\n",
       "      <td>120.968683</td>\n",
       "      <td>8974.598419</td>\n",
       "    </tr>\n",
       "    <tr>\n",
       "      <th>49</th>\n",
       "      <td>19.008301</td>\n",
       "      <td>72.825146</td>\n",
       "      <td>4521.462630</td>\n",
       "    </tr>\n",
       "    <tr>\n",
       "      <th>6</th>\n",
       "      <td>-34.928181</td>\n",
       "      <td>138.599931</td>\n",
       "      <td>13319.054816</td>\n",
       "    </tr>\n",
       "    <tr>\n",
       "      <th>3</th>\n",
       "      <td>-33.869844</td>\n",
       "      <td>151.208285</td>\n",
       "      <td>14436.183336</td>\n",
       "    </tr>\n",
       "  </tbody>\n",
       "</table>\n",
       "</div>"
      ],
      "text/plain": [
       "     latitude   longitude      distance\n",
       "7  -30.784484  125.171489  11986.541244\n",
       "24 -37.814218  144.963161  13937.050903\n",
       "14 -33.869844  151.208285  14436.183336\n",
       "16 -33.869844  151.208285  14436.183336\n",
       "19 -33.869844  151.208285  14436.183336\n",
       "40  25.119312  121.798774   9035.921890\n",
       "38  24.806633  120.968683   8974.598419\n",
       "49  19.008301   72.825146   4521.462630\n",
       "6  -34.928181  138.599931  13319.054816\n",
       "3  -33.869844  151.208285  14436.183336"
      ]
     },
     "execution_count": 29,
     "metadata": {},
     "output_type": "execute_result"
    }
   ],
   "source": [
    "visitor_df[['latitude', 'longitude', 'distance']][:51].sample(10)"
   ]
  },
  {
   "cell_type": "markdown",
   "id": "00afd3c2",
   "metadata": {},
   "source": [
    "--------------------------------------------------------------------------------------------------------------"
   ]
  },
  {
   "cell_type": "markdown",
   "id": "37174bbf",
   "metadata": {},
   "source": [
    "On Credit_Card.csv dataset, do the following:\n",
    "- 1- Read your dataset.\n",
    "- 2- Make the appropriate cleansing for your columns based on logic and consistency.\n",
    "- 3- Deal with the missing values with the both techniques (Once with pandas and once with scikit learn).\n",
    "- 4- Find the columns that have outliers and find the indecies of those outliers and remove them."
   ]
  },
  {
   "cell_type": "code",
   "execution_count": 379,
   "id": "762b0ce4",
   "metadata": {},
   "outputs": [],
   "source": [
    "credit_df = pd.read_csv('datasets/Credit_Card.csv')"
   ]
  },
  {
   "cell_type": "code",
   "execution_count": 380,
   "id": "44e0d2cb",
   "metadata": {},
   "outputs": [
    {
     "data": {
      "text/html": [
       "<div>\n",
       "<style scoped>\n",
       "    .dataframe tbody tr th:only-of-type {\n",
       "        vertical-align: middle;\n",
       "    }\n",
       "\n",
       "    .dataframe tbody tr th {\n",
       "        vertical-align: top;\n",
       "    }\n",
       "\n",
       "    .dataframe thead th {\n",
       "        text-align: right;\n",
       "    }\n",
       "</style>\n",
       "<table border=\"1\" class=\"dataframe\">\n",
       "  <thead>\n",
       "    <tr style=\"text-align: right;\">\n",
       "      <th></th>\n",
       "      <th>Male</th>\n",
       "      <th>Age</th>\n",
       "      <th>Debt</th>\n",
       "      <th>Married</th>\n",
       "      <th>BankCustomer</th>\n",
       "      <th>EducationLevel</th>\n",
       "      <th>Ethnicity</th>\n",
       "      <th>YearsEmployed</th>\n",
       "      <th>PriorDefault</th>\n",
       "      <th>Employed</th>\n",
       "      <th>CreditScore</th>\n",
       "      <th>DriversLicense</th>\n",
       "      <th>Citizen</th>\n",
       "      <th>ZipCode</th>\n",
       "      <th>Income</th>\n",
       "      <th>Approved</th>\n",
       "    </tr>\n",
       "  </thead>\n",
       "  <tbody>\n",
       "    <tr>\n",
       "      <th>0</th>\n",
       "      <td>b</td>\n",
       "      <td>30.83</td>\n",
       "      <td>0.000</td>\n",
       "      <td>u</td>\n",
       "      <td>g</td>\n",
       "      <td>w</td>\n",
       "      <td>v</td>\n",
       "      <td>1.25</td>\n",
       "      <td>t</td>\n",
       "      <td>t</td>\n",
       "      <td>1</td>\n",
       "      <td>f</td>\n",
       "      <td>g</td>\n",
       "      <td>00202</td>\n",
       "      <td>0</td>\n",
       "      <td>+</td>\n",
       "    </tr>\n",
       "    <tr>\n",
       "      <th>1</th>\n",
       "      <td>a</td>\n",
       "      <td>58.67</td>\n",
       "      <td>4.460</td>\n",
       "      <td>u</td>\n",
       "      <td>g</td>\n",
       "      <td>q</td>\n",
       "      <td>h</td>\n",
       "      <td>3.04</td>\n",
       "      <td>t</td>\n",
       "      <td>t</td>\n",
       "      <td>6</td>\n",
       "      <td>f</td>\n",
       "      <td>g</td>\n",
       "      <td>00043</td>\n",
       "      <td>560</td>\n",
       "      <td>+</td>\n",
       "    </tr>\n",
       "    <tr>\n",
       "      <th>2</th>\n",
       "      <td>a</td>\n",
       "      <td>24.50</td>\n",
       "      <td>0.500</td>\n",
       "      <td>u</td>\n",
       "      <td>g</td>\n",
       "      <td>q</td>\n",
       "      <td>h</td>\n",
       "      <td>1.50</td>\n",
       "      <td>t</td>\n",
       "      <td>f</td>\n",
       "      <td>0</td>\n",
       "      <td>f</td>\n",
       "      <td>g</td>\n",
       "      <td>00280</td>\n",
       "      <td>824</td>\n",
       "      <td>+</td>\n",
       "    </tr>\n",
       "    <tr>\n",
       "      <th>3</th>\n",
       "      <td>b</td>\n",
       "      <td>27.83</td>\n",
       "      <td>1.540</td>\n",
       "      <td>u</td>\n",
       "      <td>g</td>\n",
       "      <td>w</td>\n",
       "      <td>v</td>\n",
       "      <td>3.75</td>\n",
       "      <td>t</td>\n",
       "      <td>t</td>\n",
       "      <td>5</td>\n",
       "      <td>t</td>\n",
       "      <td>g</td>\n",
       "      <td>00100</td>\n",
       "      <td>3</td>\n",
       "      <td>+</td>\n",
       "    </tr>\n",
       "    <tr>\n",
       "      <th>4</th>\n",
       "      <td>b</td>\n",
       "      <td>20.17</td>\n",
       "      <td>5.625</td>\n",
       "      <td>u</td>\n",
       "      <td>g</td>\n",
       "      <td>w</td>\n",
       "      <td>v</td>\n",
       "      <td>1.71</td>\n",
       "      <td>t</td>\n",
       "      <td>f</td>\n",
       "      <td>0</td>\n",
       "      <td>f</td>\n",
       "      <td>s</td>\n",
       "      <td>00120</td>\n",
       "      <td>0</td>\n",
       "      <td>+</td>\n",
       "    </tr>\n",
       "    <tr>\n",
       "      <th>...</th>\n",
       "      <td>...</td>\n",
       "      <td>...</td>\n",
       "      <td>...</td>\n",
       "      <td>...</td>\n",
       "      <td>...</td>\n",
       "      <td>...</td>\n",
       "      <td>...</td>\n",
       "      <td>...</td>\n",
       "      <td>...</td>\n",
       "      <td>...</td>\n",
       "      <td>...</td>\n",
       "      <td>...</td>\n",
       "      <td>...</td>\n",
       "      <td>...</td>\n",
       "      <td>...</td>\n",
       "      <td>...</td>\n",
       "    </tr>\n",
       "    <tr>\n",
       "      <th>685</th>\n",
       "      <td>b</td>\n",
       "      <td>21.08</td>\n",
       "      <td>10.085</td>\n",
       "      <td>y</td>\n",
       "      <td>p</td>\n",
       "      <td>e</td>\n",
       "      <td>h</td>\n",
       "      <td>1.25</td>\n",
       "      <td>f</td>\n",
       "      <td>f</td>\n",
       "      <td>0</td>\n",
       "      <td>f</td>\n",
       "      <td>g</td>\n",
       "      <td>00260</td>\n",
       "      <td>0</td>\n",
       "      <td>-</td>\n",
       "    </tr>\n",
       "    <tr>\n",
       "      <th>686</th>\n",
       "      <td>a</td>\n",
       "      <td>22.67</td>\n",
       "      <td>0.750</td>\n",
       "      <td>u</td>\n",
       "      <td>g</td>\n",
       "      <td>c</td>\n",
       "      <td>v</td>\n",
       "      <td>2.00</td>\n",
       "      <td>f</td>\n",
       "      <td>t</td>\n",
       "      <td>2</td>\n",
       "      <td>t</td>\n",
       "      <td>g</td>\n",
       "      <td>00200</td>\n",
       "      <td>394</td>\n",
       "      <td>-</td>\n",
       "    </tr>\n",
       "    <tr>\n",
       "      <th>687</th>\n",
       "      <td>a</td>\n",
       "      <td>25.25</td>\n",
       "      <td>13.500</td>\n",
       "      <td>y</td>\n",
       "      <td>p</td>\n",
       "      <td>ff</td>\n",
       "      <td>ff</td>\n",
       "      <td>2.00</td>\n",
       "      <td>f</td>\n",
       "      <td>t</td>\n",
       "      <td>1</td>\n",
       "      <td>t</td>\n",
       "      <td>g</td>\n",
       "      <td>00200</td>\n",
       "      <td>1</td>\n",
       "      <td>-</td>\n",
       "    </tr>\n",
       "    <tr>\n",
       "      <th>688</th>\n",
       "      <td>b</td>\n",
       "      <td>17.92</td>\n",
       "      <td>0.205</td>\n",
       "      <td>u</td>\n",
       "      <td>g</td>\n",
       "      <td>aa</td>\n",
       "      <td>v</td>\n",
       "      <td>0.04</td>\n",
       "      <td>f</td>\n",
       "      <td>f</td>\n",
       "      <td>0</td>\n",
       "      <td>f</td>\n",
       "      <td>g</td>\n",
       "      <td>00280</td>\n",
       "      <td>750</td>\n",
       "      <td>-</td>\n",
       "    </tr>\n",
       "    <tr>\n",
       "      <th>689</th>\n",
       "      <td>b</td>\n",
       "      <td>35.00</td>\n",
       "      <td>3.375</td>\n",
       "      <td>u</td>\n",
       "      <td>g</td>\n",
       "      <td>c</td>\n",
       "      <td>h</td>\n",
       "      <td>8.29</td>\n",
       "      <td>f</td>\n",
       "      <td>f</td>\n",
       "      <td>0</td>\n",
       "      <td>t</td>\n",
       "      <td>g</td>\n",
       "      <td>00000</td>\n",
       "      <td>0</td>\n",
       "      <td>-</td>\n",
       "    </tr>\n",
       "  </tbody>\n",
       "</table>\n",
       "<p>690 rows × 16 columns</p>\n",
       "</div>"
      ],
      "text/plain": [
       "    Male    Age    Debt Married BankCustomer EducationLevel Ethnicity  \\\n",
       "0      b  30.83   0.000       u            g              w         v   \n",
       "1      a  58.67   4.460       u            g              q         h   \n",
       "2      a  24.50   0.500       u            g              q         h   \n",
       "3      b  27.83   1.540       u            g              w         v   \n",
       "4      b  20.17   5.625       u            g              w         v   \n",
       "..   ...    ...     ...     ...          ...            ...       ...   \n",
       "685    b  21.08  10.085       y            p              e         h   \n",
       "686    a  22.67   0.750       u            g              c         v   \n",
       "687    a  25.25  13.500       y            p             ff        ff   \n",
       "688    b  17.92   0.205       u            g             aa         v   \n",
       "689    b  35.00   3.375       u            g              c         h   \n",
       "\n",
       "     YearsEmployed PriorDefault Employed  CreditScore DriversLicense Citizen  \\\n",
       "0             1.25            t        t            1              f       g   \n",
       "1             3.04            t        t            6              f       g   \n",
       "2             1.50            t        f            0              f       g   \n",
       "3             3.75            t        t            5              t       g   \n",
       "4             1.71            t        f            0              f       s   \n",
       "..             ...          ...      ...          ...            ...     ...   \n",
       "685           1.25            f        f            0              f       g   \n",
       "686           2.00            f        t            2              t       g   \n",
       "687           2.00            f        t            1              t       g   \n",
       "688           0.04            f        f            0              f       g   \n",
       "689           8.29            f        f            0              t       g   \n",
       "\n",
       "    ZipCode  Income Approved  \n",
       "0     00202       0        +  \n",
       "1     00043     560        +  \n",
       "2     00280     824        +  \n",
       "3     00100       3        +  \n",
       "4     00120       0        +  \n",
       "..      ...     ...      ...  \n",
       "685   00260       0        -  \n",
       "686   00200     394        -  \n",
       "687   00200       1        -  \n",
       "688   00280     750        -  \n",
       "689   00000       0        -  \n",
       "\n",
       "[690 rows x 16 columns]"
      ]
     },
     "execution_count": 380,
     "metadata": {},
     "output_type": "execute_result"
    }
   ],
   "source": [
    "credit_df"
   ]
  },
  {
   "cell_type": "code",
   "execution_count": 381,
   "id": "75e74dbc",
   "metadata": {},
   "outputs": [
    {
     "name": "stdout",
     "output_type": "stream",
     "text": [
      "<class 'pandas.core.frame.DataFrame'>\n",
      "RangeIndex: 690 entries, 0 to 689\n",
      "Data columns (total 16 columns):\n",
      " #   Column          Non-Null Count  Dtype  \n",
      "---  ------          --------------  -----  \n",
      " 0   Male            690 non-null    object \n",
      " 1   Age             690 non-null    object \n",
      " 2   Debt            690 non-null    float64\n",
      " 3   Married         690 non-null    object \n",
      " 4   BankCustomer    690 non-null    object \n",
      " 5   EducationLevel  690 non-null    object \n",
      " 6   Ethnicity       690 non-null    object \n",
      " 7   YearsEmployed   690 non-null    float64\n",
      " 8   PriorDefault    690 non-null    object \n",
      " 9   Employed        690 non-null    object \n",
      " 10  CreditScore     690 non-null    int64  \n",
      " 11  DriversLicense  690 non-null    object \n",
      " 12  Citizen         690 non-null    object \n",
      " 13  ZipCode         690 non-null    object \n",
      " 14  Income          690 non-null    int64  \n",
      " 15  Approved        690 non-null    object \n",
      "dtypes: float64(2), int64(2), object(12)\n",
      "memory usage: 86.4+ KB\n"
     ]
    }
   ],
   "source": [
    "credit_df.info()"
   ]
  },
  {
   "cell_type": "code",
   "execution_count": 382,
   "id": "36b57af7",
   "metadata": {},
   "outputs": [
    {
     "data": {
      "text/html": [
       "<div>\n",
       "<style scoped>\n",
       "    .dataframe tbody tr th:only-of-type {\n",
       "        vertical-align: middle;\n",
       "    }\n",
       "\n",
       "    .dataframe tbody tr th {\n",
       "        vertical-align: top;\n",
       "    }\n",
       "\n",
       "    .dataframe thead th {\n",
       "        text-align: right;\n",
       "    }\n",
       "</style>\n",
       "<table border=\"1\" class=\"dataframe\">\n",
       "  <thead>\n",
       "    <tr style=\"text-align: right;\">\n",
       "      <th></th>\n",
       "      <th>Debt</th>\n",
       "      <th>YearsEmployed</th>\n",
       "      <th>CreditScore</th>\n",
       "      <th>Income</th>\n",
       "    </tr>\n",
       "  </thead>\n",
       "  <tbody>\n",
       "    <tr>\n",
       "      <th>count</th>\n",
       "      <td>690.000000</td>\n",
       "      <td>690.000000</td>\n",
       "      <td>690.00000</td>\n",
       "      <td>690.000000</td>\n",
       "    </tr>\n",
       "    <tr>\n",
       "      <th>mean</th>\n",
       "      <td>4.758725</td>\n",
       "      <td>2.223406</td>\n",
       "      <td>2.40000</td>\n",
       "      <td>1017.385507</td>\n",
       "    </tr>\n",
       "    <tr>\n",
       "      <th>std</th>\n",
       "      <td>4.978163</td>\n",
       "      <td>3.346513</td>\n",
       "      <td>4.86294</td>\n",
       "      <td>5210.102598</td>\n",
       "    </tr>\n",
       "    <tr>\n",
       "      <th>min</th>\n",
       "      <td>0.000000</td>\n",
       "      <td>0.000000</td>\n",
       "      <td>0.00000</td>\n",
       "      <td>0.000000</td>\n",
       "    </tr>\n",
       "    <tr>\n",
       "      <th>25%</th>\n",
       "      <td>1.000000</td>\n",
       "      <td>0.165000</td>\n",
       "      <td>0.00000</td>\n",
       "      <td>0.000000</td>\n",
       "    </tr>\n",
       "    <tr>\n",
       "      <th>50%</th>\n",
       "      <td>2.750000</td>\n",
       "      <td>1.000000</td>\n",
       "      <td>0.00000</td>\n",
       "      <td>5.000000</td>\n",
       "    </tr>\n",
       "    <tr>\n",
       "      <th>75%</th>\n",
       "      <td>7.207500</td>\n",
       "      <td>2.625000</td>\n",
       "      <td>3.00000</td>\n",
       "      <td>395.500000</td>\n",
       "    </tr>\n",
       "    <tr>\n",
       "      <th>max</th>\n",
       "      <td>28.000000</td>\n",
       "      <td>28.500000</td>\n",
       "      <td>67.00000</td>\n",
       "      <td>100000.000000</td>\n",
       "    </tr>\n",
       "  </tbody>\n",
       "</table>\n",
       "</div>"
      ],
      "text/plain": [
       "             Debt  YearsEmployed  CreditScore         Income\n",
       "count  690.000000     690.000000    690.00000     690.000000\n",
       "mean     4.758725       2.223406      2.40000    1017.385507\n",
       "std      4.978163       3.346513      4.86294    5210.102598\n",
       "min      0.000000       0.000000      0.00000       0.000000\n",
       "25%      1.000000       0.165000      0.00000       0.000000\n",
       "50%      2.750000       1.000000      0.00000       5.000000\n",
       "75%      7.207500       2.625000      3.00000     395.500000\n",
       "max     28.000000      28.500000     67.00000  100000.000000"
      ]
     },
     "execution_count": 382,
     "metadata": {},
     "output_type": "execute_result"
    }
   ],
   "source": [
    "credit_df.describe()"
   ]
  },
  {
   "cell_type": "code",
   "execution_count": 383,
   "id": "bc63b82f",
   "metadata": {},
   "outputs": [
    {
     "data": {
      "text/html": [
       "<div>\n",
       "<style scoped>\n",
       "    .dataframe tbody tr th:only-of-type {\n",
       "        vertical-align: middle;\n",
       "    }\n",
       "\n",
       "    .dataframe tbody tr th {\n",
       "        vertical-align: top;\n",
       "    }\n",
       "\n",
       "    .dataframe thead th {\n",
       "        text-align: right;\n",
       "    }\n",
       "</style>\n",
       "<table border=\"1\" class=\"dataframe\">\n",
       "  <thead>\n",
       "    <tr style=\"text-align: right;\">\n",
       "      <th></th>\n",
       "      <th>Male</th>\n",
       "      <th>Age</th>\n",
       "      <th>Married</th>\n",
       "      <th>BankCustomer</th>\n",
       "      <th>EducationLevel</th>\n",
       "      <th>Ethnicity</th>\n",
       "      <th>PriorDefault</th>\n",
       "      <th>Employed</th>\n",
       "      <th>DriversLicense</th>\n",
       "      <th>Citizen</th>\n",
       "      <th>ZipCode</th>\n",
       "      <th>Approved</th>\n",
       "    </tr>\n",
       "  </thead>\n",
       "  <tbody>\n",
       "    <tr>\n",
       "      <th>count</th>\n",
       "      <td>690</td>\n",
       "      <td>690</td>\n",
       "      <td>690</td>\n",
       "      <td>690</td>\n",
       "      <td>690</td>\n",
       "      <td>690</td>\n",
       "      <td>690</td>\n",
       "      <td>690</td>\n",
       "      <td>690</td>\n",
       "      <td>690</td>\n",
       "      <td>690</td>\n",
       "      <td>690</td>\n",
       "    </tr>\n",
       "    <tr>\n",
       "      <th>unique</th>\n",
       "      <td>3</td>\n",
       "      <td>350</td>\n",
       "      <td>4</td>\n",
       "      <td>4</td>\n",
       "      <td>15</td>\n",
       "      <td>10</td>\n",
       "      <td>2</td>\n",
       "      <td>2</td>\n",
       "      <td>2</td>\n",
       "      <td>3</td>\n",
       "      <td>171</td>\n",
       "      <td>2</td>\n",
       "    </tr>\n",
       "    <tr>\n",
       "      <th>top</th>\n",
       "      <td>b</td>\n",
       "      <td>?</td>\n",
       "      <td>u</td>\n",
       "      <td>g</td>\n",
       "      <td>c</td>\n",
       "      <td>v</td>\n",
       "      <td>t</td>\n",
       "      <td>f</td>\n",
       "      <td>f</td>\n",
       "      <td>g</td>\n",
       "      <td>00000</td>\n",
       "      <td>-</td>\n",
       "    </tr>\n",
       "    <tr>\n",
       "      <th>freq</th>\n",
       "      <td>468</td>\n",
       "      <td>12</td>\n",
       "      <td>519</td>\n",
       "      <td>519</td>\n",
       "      <td>137</td>\n",
       "      <td>399</td>\n",
       "      <td>361</td>\n",
       "      <td>395</td>\n",
       "      <td>374</td>\n",
       "      <td>625</td>\n",
       "      <td>132</td>\n",
       "      <td>383</td>\n",
       "    </tr>\n",
       "  </tbody>\n",
       "</table>\n",
       "</div>"
      ],
      "text/plain": [
       "       Male  Age Married BankCustomer EducationLevel Ethnicity PriorDefault  \\\n",
       "count   690  690     690          690            690       690          690   \n",
       "unique    3  350       4            4             15        10            2   \n",
       "top       b    ?       u            g              c         v            t   \n",
       "freq    468   12     519          519            137       399          361   \n",
       "\n",
       "       Employed DriversLicense Citizen ZipCode Approved  \n",
       "count       690            690     690     690      690  \n",
       "unique        2              2       3     171        2  \n",
       "top           f              f       g   00000        -  \n",
       "freq        395            374     625     132      383  "
      ]
     },
     "execution_count": 383,
     "metadata": {},
     "output_type": "execute_result"
    }
   ],
   "source": [
    "credit_df.describe(exclude=[np.number])"
   ]
  },
  {
   "cell_type": "code",
   "execution_count": 384,
   "id": "c986b489",
   "metadata": {},
   "outputs": [
    {
     "data": {
      "text/plain": [
       "Male              0\n",
       "Age               0\n",
       "Debt              0\n",
       "Married           0\n",
       "BankCustomer      0\n",
       "EducationLevel    0\n",
       "Ethnicity         0\n",
       "YearsEmployed     0\n",
       "PriorDefault      0\n",
       "Employed          0\n",
       "CreditScore       0\n",
       "DriversLicense    0\n",
       "Citizen           0\n",
       "ZipCode           0\n",
       "Income            0\n",
       "Approved          0\n",
       "dtype: int64"
      ]
     },
     "execution_count": 384,
     "metadata": {},
     "output_type": "execute_result"
    }
   ],
   "source": [
    "credit_df.isnull().sum()"
   ]
  },
  {
   "cell_type": "markdown",
   "id": "40b5b55e",
   "metadata": {},
   "source": [
    "#### Cleaning Data\n",
    "- Replace \"?\" values with Nan\n",
    "- Change \"Age\" datatype to float\n",
    "- Change (f, t) and (-, +) values to (0, 1) then change columns datatype to integer "
   ]
  },
  {
   "cell_type": "code",
   "execution_count": 385,
   "id": "7f19f3a3",
   "metadata": {},
   "outputs": [
    {
     "data": {
      "text/plain": [
       "b    468\n",
       "a    210\n",
       "?     12\n",
       "Name: Male, dtype: int64"
      ]
     },
     "execution_count": 385,
     "metadata": {},
     "output_type": "execute_result"
    }
   ],
   "source": [
    "credit_df['Male'].value_counts()"
   ]
  },
  {
   "cell_type": "code",
   "execution_count": 386,
   "id": "5ef125ab",
   "metadata": {},
   "outputs": [
    {
     "data": {
      "text/plain": [
       "b    468\n",
       "a    210\n",
       "Name: Male, dtype: int64"
      ]
     },
     "execution_count": 386,
     "metadata": {},
     "output_type": "execute_result"
    }
   ],
   "source": [
    "credit_df['Male'].replace('?', np.nan, inplace=True)\n",
    "credit_df['Male'].value_counts()"
   ]
  },
  {
   "cell_type": "code",
   "execution_count": 387,
   "id": "fcfad624",
   "metadata": {},
   "outputs": [
    {
     "data": {
      "text/plain": [
       "?        12\n",
       "22.67     9\n",
       "20.42     7\n",
       "25.00     6\n",
       "22.50     6\n",
       "         ..\n",
       "62.75     1\n",
       "33.50     1\n",
       "47.33     1\n",
       "54.83     1\n",
       "21.42     1\n",
       "Name: Age, Length: 350, dtype: int64"
      ]
     },
     "execution_count": 387,
     "metadata": {},
     "output_type": "execute_result"
    }
   ],
   "source": [
    "credit_df['Age'].value_counts()"
   ]
  },
  {
   "cell_type": "code",
   "execution_count": 388,
   "id": "d0fe18aa",
   "metadata": {},
   "outputs": [
    {
     "data": {
      "text/plain": [
       "22.67    9\n",
       "20.42    7\n",
       "18.83    6\n",
       "24.50    6\n",
       "22.50    6\n",
       "        ..\n",
       "62.75    1\n",
       "33.50    1\n",
       "54.83    1\n",
       "26.83    1\n",
       "21.42    1\n",
       "Name: Age, Length: 349, dtype: int64"
      ]
     },
     "execution_count": 388,
     "metadata": {},
     "output_type": "execute_result"
    }
   ],
   "source": [
    "credit_df['Age'].replace('?', np.nan, inplace=True)\n",
    "credit_df['Age'].value_counts()"
   ]
  },
  {
   "cell_type": "code",
   "execution_count": 389,
   "id": "5b7f5fd4",
   "metadata": {},
   "outputs": [],
   "source": [
    "credit_df['Age'] = credit_df['Age'].astype('float')"
   ]
  },
  {
   "cell_type": "code",
   "execution_count": 390,
   "id": "c1ce8681",
   "metadata": {},
   "outputs": [
    {
     "name": "stdout",
     "output_type": "stream",
     "text": [
      "<class 'pandas.core.frame.DataFrame'>\n",
      "RangeIndex: 690 entries, 0 to 689\n",
      "Data columns (total 16 columns):\n",
      " #   Column          Non-Null Count  Dtype  \n",
      "---  ------          --------------  -----  \n",
      " 0   Male            678 non-null    object \n",
      " 1   Age             678 non-null    float64\n",
      " 2   Debt            690 non-null    float64\n",
      " 3   Married         690 non-null    object \n",
      " 4   BankCustomer    690 non-null    object \n",
      " 5   EducationLevel  690 non-null    object \n",
      " 6   Ethnicity       690 non-null    object \n",
      " 7   YearsEmployed   690 non-null    float64\n",
      " 8   PriorDefault    690 non-null    object \n",
      " 9   Employed        690 non-null    object \n",
      " 10  CreditScore     690 non-null    int64  \n",
      " 11  DriversLicense  690 non-null    object \n",
      " 12  Citizen         690 non-null    object \n",
      " 13  ZipCode         690 non-null    object \n",
      " 14  Income          690 non-null    int64  \n",
      " 15  Approved        690 non-null    object \n",
      "dtypes: float64(3), int64(2), object(11)\n",
      "memory usage: 86.4+ KB\n"
     ]
    }
   ],
   "source": [
    "credit_df.info()"
   ]
  },
  {
   "cell_type": "code",
   "execution_count": 391,
   "id": "5c5bc607",
   "metadata": {},
   "outputs": [
    {
     "data": {
      "text/plain": [
       "u    519\n",
       "y    163\n",
       "?      6\n",
       "l      2\n",
       "Name: Married, dtype: int64"
      ]
     },
     "execution_count": 391,
     "metadata": {},
     "output_type": "execute_result"
    }
   ],
   "source": [
    "credit_df['Married'].value_counts()"
   ]
  },
  {
   "cell_type": "code",
   "execution_count": 392,
   "id": "0b128019",
   "metadata": {},
   "outputs": [
    {
     "data": {
      "text/plain": [
       "u    519\n",
       "y    163\n",
       "l      2\n",
       "Name: Married, dtype: int64"
      ]
     },
     "execution_count": 392,
     "metadata": {},
     "output_type": "execute_result"
    }
   ],
   "source": [
    "credit_df['Married'].replace('?', np.nan, inplace=True)\n",
    "credit_df['Married'].value_counts()"
   ]
  },
  {
   "cell_type": "code",
   "execution_count": 393,
   "id": "eb9c9cb7",
   "metadata": {},
   "outputs": [
    {
     "data": {
      "text/plain": [
       "g     519\n",
       "p     163\n",
       "?       6\n",
       "gg      2\n",
       "Name: BankCustomer, dtype: int64"
      ]
     },
     "execution_count": 393,
     "metadata": {},
     "output_type": "execute_result"
    }
   ],
   "source": [
    "credit_df['BankCustomer'].value_counts()"
   ]
  },
  {
   "cell_type": "code",
   "execution_count": 394,
   "id": "b2739735",
   "metadata": {},
   "outputs": [
    {
     "data": {
      "text/plain": [
       "g     519\n",
       "p     163\n",
       "gg      2\n",
       "Name: BankCustomer, dtype: int64"
      ]
     },
     "execution_count": 394,
     "metadata": {},
     "output_type": "execute_result"
    }
   ],
   "source": [
    "credit_df['BankCustomer'].replace('?', np.nan, inplace=True)\n",
    "credit_df['BankCustomer'].value_counts()"
   ]
  },
  {
   "cell_type": "code",
   "execution_count": 395,
   "id": "5755c7c1",
   "metadata": {},
   "outputs": [
    {
     "data": {
      "text/plain": [
       "c     137\n",
       "q      78\n",
       "w      64\n",
       "i      59\n",
       "aa     54\n",
       "ff     53\n",
       "k      51\n",
       "cc     41\n",
       "m      38\n",
       "x      38\n",
       "d      30\n",
       "e      25\n",
       "j      10\n",
       "?       9\n",
       "r       3\n",
       "Name: EducationLevel, dtype: int64"
      ]
     },
     "execution_count": 395,
     "metadata": {},
     "output_type": "execute_result"
    }
   ],
   "source": [
    "credit_df['EducationLevel'].value_counts()"
   ]
  },
  {
   "cell_type": "code",
   "execution_count": 396,
   "id": "03873cdf",
   "metadata": {},
   "outputs": [
    {
     "data": {
      "text/plain": [
       "c     137\n",
       "q      78\n",
       "w      64\n",
       "i      59\n",
       "aa     54\n",
       "ff     53\n",
       "k      51\n",
       "cc     41\n",
       "m      38\n",
       "x      38\n",
       "d      30\n",
       "e      25\n",
       "j      10\n",
       "r       3\n",
       "Name: EducationLevel, dtype: int64"
      ]
     },
     "execution_count": 396,
     "metadata": {},
     "output_type": "execute_result"
    }
   ],
   "source": [
    "credit_df['EducationLevel'].replace('?', np.nan, inplace=True)\n",
    "credit_df['EducationLevel'].value_counts()"
   ]
  },
  {
   "cell_type": "code",
   "execution_count": 397,
   "id": "ce910854",
   "metadata": {},
   "outputs": [
    {
     "data": {
      "text/plain": [
       "v     399\n",
       "h     138\n",
       "bb     59\n",
       "ff     57\n",
       "?       9\n",
       "z       8\n",
       "j       8\n",
       "dd      6\n",
       "n       4\n",
       "o       2\n",
       "Name: Ethnicity, dtype: int64"
      ]
     },
     "execution_count": 397,
     "metadata": {},
     "output_type": "execute_result"
    }
   ],
   "source": [
    "credit_df['Ethnicity'].value_counts()"
   ]
  },
  {
   "cell_type": "code",
   "execution_count": 398,
   "id": "a82daf97",
   "metadata": {},
   "outputs": [
    {
     "data": {
      "text/plain": [
       "v     399\n",
       "h     138\n",
       "bb     59\n",
       "ff     57\n",
       "z       8\n",
       "j       8\n",
       "dd      6\n",
       "n       4\n",
       "o       2\n",
       "Name: Ethnicity, dtype: int64"
      ]
     },
     "execution_count": 398,
     "metadata": {},
     "output_type": "execute_result"
    }
   ],
   "source": [
    "credit_df['Ethnicity'].replace('?', np.nan, inplace=True)\n",
    "credit_df['Ethnicity'].value_counts()"
   ]
  },
  {
   "cell_type": "code",
   "execution_count": 399,
   "id": "afcc0795",
   "metadata": {},
   "outputs": [
    {
     "data": {
      "text/plain": [
       "g    625\n",
       "s     57\n",
       "p      8\n",
       "Name: Citizen, dtype: int64"
      ]
     },
     "execution_count": 399,
     "metadata": {},
     "output_type": "execute_result"
    }
   ],
   "source": [
    "credit_df['Citizen'].value_counts()"
   ]
  },
  {
   "cell_type": "code",
   "execution_count": 400,
   "id": "0403e684",
   "metadata": {},
   "outputs": [
    {
     "data": {
      "text/plain": [
       "f    395\n",
       "t    295\n",
       "Name: Employed, dtype: int64"
      ]
     },
     "execution_count": 400,
     "metadata": {},
     "output_type": "execute_result"
    }
   ],
   "source": [
    "credit_df['Employed'].value_counts()"
   ]
  },
  {
   "cell_type": "code",
   "execution_count": 401,
   "id": "34159c46",
   "metadata": {},
   "outputs": [
    {
     "data": {
      "text/plain": [
       "0    395\n",
       "1    295\n",
       "Name: Employed, dtype: int64"
      ]
     },
     "execution_count": 401,
     "metadata": {},
     "output_type": "execute_result"
    }
   ],
   "source": [
    "credit_df['Employed'] = credit_df['Employed'].map({'f':0, 't':1}).astype('int')\n",
    "credit_df['Employed'].value_counts()"
   ]
  },
  {
   "cell_type": "code",
   "execution_count": 402,
   "id": "74198d3a",
   "metadata": {},
   "outputs": [
    {
     "data": {
      "text/plain": [
       "t    361\n",
       "f    329\n",
       "Name: PriorDefault, dtype: int64"
      ]
     },
     "execution_count": 402,
     "metadata": {},
     "output_type": "execute_result"
    }
   ],
   "source": [
    "credit_df['PriorDefault'].value_counts()"
   ]
  },
  {
   "cell_type": "code",
   "execution_count": 403,
   "id": "d3b8b727",
   "metadata": {},
   "outputs": [
    {
     "data": {
      "text/plain": [
       "1    361\n",
       "0    329\n",
       "Name: PriorDefault, dtype: int64"
      ]
     },
     "execution_count": 403,
     "metadata": {},
     "output_type": "execute_result"
    }
   ],
   "source": [
    "credit_df['PriorDefault'] = credit_df['PriorDefault'].map({'f':0, 't':1}).astype('int')\n",
    "credit_df['PriorDefault'].value_counts()"
   ]
  },
  {
   "cell_type": "code",
   "execution_count": 404,
   "id": "8177c752",
   "metadata": {},
   "outputs": [
    {
     "data": {
      "text/plain": [
       "-    383\n",
       "+    307\n",
       "Name: Approved, dtype: int64"
      ]
     },
     "execution_count": 404,
     "metadata": {},
     "output_type": "execute_result"
    }
   ],
   "source": [
    "credit_df['Approved'].value_counts()"
   ]
  },
  {
   "cell_type": "code",
   "execution_count": 405,
   "id": "9613cfda",
   "metadata": {},
   "outputs": [
    {
     "data": {
      "text/plain": [
       "0    383\n",
       "1    307\n",
       "Name: Approved, dtype: int64"
      ]
     },
     "execution_count": 405,
     "metadata": {},
     "output_type": "execute_result"
    }
   ],
   "source": [
    "credit_df['Approved'] = credit_df['Approved'].map({'-':0, '+':1}).astype('int')\n",
    "credit_df['Approved'].value_counts()"
   ]
  },
  {
   "cell_type": "code",
   "execution_count": 406,
   "id": "4bcaa4a7",
   "metadata": {},
   "outputs": [
    {
     "data": {
      "text/plain": [
       "f    374\n",
       "t    316\n",
       "Name: DriversLicense, dtype: int64"
      ]
     },
     "execution_count": 406,
     "metadata": {},
     "output_type": "execute_result"
    }
   ],
   "source": [
    "credit_df['DriversLicense'].value_counts()"
   ]
  },
  {
   "cell_type": "code",
   "execution_count": 407,
   "id": "8fefc93b",
   "metadata": {},
   "outputs": [
    {
     "data": {
      "text/plain": [
       "0    374\n",
       "1    316\n",
       "Name: DriversLicense, dtype: int64"
      ]
     },
     "execution_count": 407,
     "metadata": {},
     "output_type": "execute_result"
    }
   ],
   "source": [
    "credit_df['DriversLicense'] = credit_df['DriversLicense'].map({'f':0, 't':1}).astype('int')\n",
    "credit_df['DriversLicense'].value_counts()"
   ]
  },
  {
   "cell_type": "code",
   "execution_count": 408,
   "id": "82a690be",
   "metadata": {},
   "outputs": [],
   "source": [
    "credit_df.rename(columns={'DriversLicense':'HasDriverLicense'}, inplace = True)"
   ]
  },
  {
   "cell_type": "code",
   "execution_count": 409,
   "id": "146b583a",
   "metadata": {},
   "outputs": [
    {
     "data": {
      "text/plain": [
       "0      0\n",
       "1      0\n",
       "2      0\n",
       "3      1\n",
       "4      0\n",
       "      ..\n",
       "685    0\n",
       "686    1\n",
       "687    1\n",
       "688    0\n",
       "689    1\n",
       "Name: HasDriverLicense, Length: 690, dtype: int64"
      ]
     },
     "execution_count": 409,
     "metadata": {},
     "output_type": "execute_result"
    }
   ],
   "source": [
    "credit_df['HasDriverLicense']"
   ]
  },
  {
   "cell_type": "code",
   "execution_count": 410,
   "id": "4dafb166",
   "metadata": {},
   "outputs": [
    {
     "name": "stdout",
     "output_type": "stream",
     "text": [
      "<class 'pandas.core.frame.DataFrame'>\n",
      "RangeIndex: 690 entries, 0 to 689\n",
      "Data columns (total 16 columns):\n",
      " #   Column            Non-Null Count  Dtype  \n",
      "---  ------            --------------  -----  \n",
      " 0   Male              678 non-null    object \n",
      " 1   Age               678 non-null    float64\n",
      " 2   Debt              690 non-null    float64\n",
      " 3   Married           684 non-null    object \n",
      " 4   BankCustomer      684 non-null    object \n",
      " 5   EducationLevel    681 non-null    object \n",
      " 6   Ethnicity         681 non-null    object \n",
      " 7   YearsEmployed     690 non-null    float64\n",
      " 8   PriorDefault      690 non-null    int64  \n",
      " 9   Employed          690 non-null    int64  \n",
      " 10  CreditScore       690 non-null    int64  \n",
      " 11  HasDriverLicense  690 non-null    int64  \n",
      " 12  Citizen           690 non-null    object \n",
      " 13  ZipCode           690 non-null    object \n",
      " 14  Income            690 non-null    int64  \n",
      " 15  Approved          690 non-null    int64  \n",
      "dtypes: float64(3), int64(6), object(7)\n",
      "memory usage: 86.4+ KB\n"
     ]
    }
   ],
   "source": [
    "credit_df.info()"
   ]
  },
  {
   "cell_type": "markdown",
   "id": "3f97b4ac",
   "metadata": {},
   "source": [
    "----------------------------------------------------------------------------------------------------------------"
   ]
  },
  {
   "cell_type": "markdown",
   "id": "f2483b10",
   "metadata": {},
   "source": [
    "#### Missing Values"
   ]
  },
  {
   "cell_type": "code",
   "execution_count": 411,
   "id": "758321a7",
   "metadata": {},
   "outputs": [
    {
     "data": {
      "text/plain": [
       "Male                12\n",
       "Age                 12\n",
       "Debt                 0\n",
       "Married              6\n",
       "BankCustomer         6\n",
       "EducationLevel       9\n",
       "Ethnicity            9\n",
       "YearsEmployed        0\n",
       "PriorDefault         0\n",
       "Employed             0\n",
       "CreditScore          0\n",
       "HasDriverLicense     0\n",
       "Citizen              0\n",
       "ZipCode              0\n",
       "Income               0\n",
       "Approved             0\n",
       "dtype: int64"
      ]
     },
     "execution_count": 411,
     "metadata": {},
     "output_type": "execute_result"
    }
   ],
   "source": [
    "credit_df.isnull().sum()"
   ]
  },
  {
   "cell_type": "code",
   "execution_count": 412,
   "id": "b201c4e2",
   "metadata": {},
   "outputs": [
    {
     "name": "stdout",
     "output_type": "stream",
     "text": [
      "Missing values in column Male: 1.76991%\n",
      "Missing values in column Age: 1.76991%\n",
      "Missing values in column Married: 0.87719%\n",
      "Missing values in column BankCustomer: 0.87719%\n",
      "Missing values in column EducationLevel: 1.32159%\n",
      "Missing values in column Ethnicity: 1.32159%\n"
     ]
    }
   ],
   "source": [
    "for col in ['Male', 'Age', 'Married', 'BankCustomer', 'EducationLevel', 'Ethnicity']:\n",
    "    proportion = credit_df.isnull()[col].sum()/credit_df[col].count()\n",
    "    print('Missing values in column {}: {:.5%}'.format(col, proportion))"
   ]
  },
  {
   "cell_type": "code",
   "execution_count": 413,
   "id": "32ec8c6b",
   "metadata": {},
   "outputs": [
    {
     "data": {
      "text/html": [
       "<div>\n",
       "<style scoped>\n",
       "    .dataframe tbody tr th:only-of-type {\n",
       "        vertical-align: middle;\n",
       "    }\n",
       "\n",
       "    .dataframe tbody tr th {\n",
       "        vertical-align: top;\n",
       "    }\n",
       "\n",
       "    .dataframe thead th {\n",
       "        text-align: right;\n",
       "    }\n",
       "</style>\n",
       "<table border=\"1\" class=\"dataframe\">\n",
       "  <thead>\n",
       "    <tr style=\"text-align: right;\">\n",
       "      <th></th>\n",
       "      <th>Male</th>\n",
       "      <th>Age</th>\n",
       "      <th>Debt</th>\n",
       "      <th>Married</th>\n",
       "      <th>BankCustomer</th>\n",
       "      <th>EducationLevel</th>\n",
       "      <th>Ethnicity</th>\n",
       "      <th>YearsEmployed</th>\n",
       "      <th>PriorDefault</th>\n",
       "      <th>Employed</th>\n",
       "      <th>CreditScore</th>\n",
       "      <th>HasDriverLicense</th>\n",
       "      <th>Citizen</th>\n",
       "      <th>ZipCode</th>\n",
       "      <th>Income</th>\n",
       "      <th>Approved</th>\n",
       "    </tr>\n",
       "  </thead>\n",
       "  <tbody>\n",
       "    <tr>\n",
       "      <th>248</th>\n",
       "      <td>NaN</td>\n",
       "      <td>24.50</td>\n",
       "      <td>12.750</td>\n",
       "      <td>u</td>\n",
       "      <td>g</td>\n",
       "      <td>c</td>\n",
       "      <td>bb</td>\n",
       "      <td>4.750</td>\n",
       "      <td>1</td>\n",
       "      <td>1</td>\n",
       "      <td>2</td>\n",
       "      <td>0</td>\n",
       "      <td>g</td>\n",
       "      <td>00073</td>\n",
       "      <td>444</td>\n",
       "      <td>1</td>\n",
       "    </tr>\n",
       "    <tr>\n",
       "      <th>327</th>\n",
       "      <td>NaN</td>\n",
       "      <td>40.83</td>\n",
       "      <td>3.500</td>\n",
       "      <td>u</td>\n",
       "      <td>g</td>\n",
       "      <td>i</td>\n",
       "      <td>bb</td>\n",
       "      <td>0.500</td>\n",
       "      <td>0</td>\n",
       "      <td>0</td>\n",
       "      <td>0</td>\n",
       "      <td>0</td>\n",
       "      <td>s</td>\n",
       "      <td>01160</td>\n",
       "      <td>0</td>\n",
       "      <td>0</td>\n",
       "    </tr>\n",
       "    <tr>\n",
       "      <th>346</th>\n",
       "      <td>NaN</td>\n",
       "      <td>32.25</td>\n",
       "      <td>1.500</td>\n",
       "      <td>u</td>\n",
       "      <td>g</td>\n",
       "      <td>c</td>\n",
       "      <td>v</td>\n",
       "      <td>0.250</td>\n",
       "      <td>0</td>\n",
       "      <td>0</td>\n",
       "      <td>0</td>\n",
       "      <td>1</td>\n",
       "      <td>g</td>\n",
       "      <td>00372</td>\n",
       "      <td>122</td>\n",
       "      <td>0</td>\n",
       "    </tr>\n",
       "    <tr>\n",
       "      <th>374</th>\n",
       "      <td>NaN</td>\n",
       "      <td>28.17</td>\n",
       "      <td>0.585</td>\n",
       "      <td>u</td>\n",
       "      <td>g</td>\n",
       "      <td>aa</td>\n",
       "      <td>v</td>\n",
       "      <td>0.040</td>\n",
       "      <td>0</td>\n",
       "      <td>0</td>\n",
       "      <td>0</td>\n",
       "      <td>0</td>\n",
       "      <td>g</td>\n",
       "      <td>00260</td>\n",
       "      <td>1004</td>\n",
       "      <td>0</td>\n",
       "    </tr>\n",
       "    <tr>\n",
       "      <th>453</th>\n",
       "      <td>NaN</td>\n",
       "      <td>29.75</td>\n",
       "      <td>0.665</td>\n",
       "      <td>u</td>\n",
       "      <td>g</td>\n",
       "      <td>w</td>\n",
       "      <td>v</td>\n",
       "      <td>0.250</td>\n",
       "      <td>0</td>\n",
       "      <td>0</td>\n",
       "      <td>0</td>\n",
       "      <td>1</td>\n",
       "      <td>g</td>\n",
       "      <td>00300</td>\n",
       "      <td>0</td>\n",
       "      <td>0</td>\n",
       "    </tr>\n",
       "    <tr>\n",
       "      <th>479</th>\n",
       "      <td>NaN</td>\n",
       "      <td>26.50</td>\n",
       "      <td>2.710</td>\n",
       "      <td>y</td>\n",
       "      <td>p</td>\n",
       "      <td>NaN</td>\n",
       "      <td>NaN</td>\n",
       "      <td>0.085</td>\n",
       "      <td>0</td>\n",
       "      <td>0</td>\n",
       "      <td>0</td>\n",
       "      <td>0</td>\n",
       "      <td>s</td>\n",
       "      <td>00080</td>\n",
       "      <td>0</td>\n",
       "      <td>0</td>\n",
       "    </tr>\n",
       "    <tr>\n",
       "      <th>489</th>\n",
       "      <td>NaN</td>\n",
       "      <td>45.33</td>\n",
       "      <td>1.000</td>\n",
       "      <td>u</td>\n",
       "      <td>g</td>\n",
       "      <td>q</td>\n",
       "      <td>v</td>\n",
       "      <td>0.125</td>\n",
       "      <td>0</td>\n",
       "      <td>0</td>\n",
       "      <td>0</td>\n",
       "      <td>1</td>\n",
       "      <td>g</td>\n",
       "      <td>00263</td>\n",
       "      <td>0</td>\n",
       "      <td>0</td>\n",
       "    </tr>\n",
       "    <tr>\n",
       "      <th>520</th>\n",
       "      <td>NaN</td>\n",
       "      <td>20.42</td>\n",
       "      <td>7.500</td>\n",
       "      <td>u</td>\n",
       "      <td>g</td>\n",
       "      <td>k</td>\n",
       "      <td>v</td>\n",
       "      <td>1.500</td>\n",
       "      <td>1</td>\n",
       "      <td>1</td>\n",
       "      <td>1</td>\n",
       "      <td>0</td>\n",
       "      <td>g</td>\n",
       "      <td>00160</td>\n",
       "      <td>234</td>\n",
       "      <td>1</td>\n",
       "    </tr>\n",
       "    <tr>\n",
       "      <th>598</th>\n",
       "      <td>NaN</td>\n",
       "      <td>20.08</td>\n",
       "      <td>0.125</td>\n",
       "      <td>u</td>\n",
       "      <td>g</td>\n",
       "      <td>q</td>\n",
       "      <td>v</td>\n",
       "      <td>1.000</td>\n",
       "      <td>0</td>\n",
       "      <td>1</td>\n",
       "      <td>1</td>\n",
       "      <td>0</td>\n",
       "      <td>g</td>\n",
       "      <td>00240</td>\n",
       "      <td>768</td>\n",
       "      <td>1</td>\n",
       "    </tr>\n",
       "    <tr>\n",
       "      <th>601</th>\n",
       "      <td>NaN</td>\n",
       "      <td>42.25</td>\n",
       "      <td>1.750</td>\n",
       "      <td>y</td>\n",
       "      <td>p</td>\n",
       "      <td>NaN</td>\n",
       "      <td>NaN</td>\n",
       "      <td>0.000</td>\n",
       "      <td>0</td>\n",
       "      <td>0</td>\n",
       "      <td>0</td>\n",
       "      <td>1</td>\n",
       "      <td>g</td>\n",
       "      <td>00150</td>\n",
       "      <td>1</td>\n",
       "      <td>0</td>\n",
       "    </tr>\n",
       "    <tr>\n",
       "      <th>641</th>\n",
       "      <td>NaN</td>\n",
       "      <td>33.17</td>\n",
       "      <td>2.250</td>\n",
       "      <td>y</td>\n",
       "      <td>p</td>\n",
       "      <td>cc</td>\n",
       "      <td>v</td>\n",
       "      <td>3.500</td>\n",
       "      <td>0</td>\n",
       "      <td>0</td>\n",
       "      <td>0</td>\n",
       "      <td>1</td>\n",
       "      <td>g</td>\n",
       "      <td>00200</td>\n",
       "      <td>141</td>\n",
       "      <td>0</td>\n",
       "    </tr>\n",
       "    <tr>\n",
       "      <th>673</th>\n",
       "      <td>NaN</td>\n",
       "      <td>29.50</td>\n",
       "      <td>2.000</td>\n",
       "      <td>y</td>\n",
       "      <td>p</td>\n",
       "      <td>e</td>\n",
       "      <td>h</td>\n",
       "      <td>2.000</td>\n",
       "      <td>0</td>\n",
       "      <td>0</td>\n",
       "      <td>0</td>\n",
       "      <td>0</td>\n",
       "      <td>g</td>\n",
       "      <td>00256</td>\n",
       "      <td>17</td>\n",
       "      <td>0</td>\n",
       "    </tr>\n",
       "  </tbody>\n",
       "</table>\n",
       "</div>"
      ],
      "text/plain": [
       "    Male    Age    Debt Married BankCustomer EducationLevel Ethnicity  \\\n",
       "248  NaN  24.50  12.750       u            g              c        bb   \n",
       "327  NaN  40.83   3.500       u            g              i        bb   \n",
       "346  NaN  32.25   1.500       u            g              c         v   \n",
       "374  NaN  28.17   0.585       u            g             aa         v   \n",
       "453  NaN  29.75   0.665       u            g              w         v   \n",
       "479  NaN  26.50   2.710       y            p            NaN       NaN   \n",
       "489  NaN  45.33   1.000       u            g              q         v   \n",
       "520  NaN  20.42   7.500       u            g              k         v   \n",
       "598  NaN  20.08   0.125       u            g              q         v   \n",
       "601  NaN  42.25   1.750       y            p            NaN       NaN   \n",
       "641  NaN  33.17   2.250       y            p             cc         v   \n",
       "673  NaN  29.50   2.000       y            p              e         h   \n",
       "\n",
       "     YearsEmployed  PriorDefault  Employed  CreditScore  HasDriverLicense  \\\n",
       "248          4.750             1         1            2                 0   \n",
       "327          0.500             0         0            0                 0   \n",
       "346          0.250             0         0            0                 1   \n",
       "374          0.040             0         0            0                 0   \n",
       "453          0.250             0         0            0                 1   \n",
       "479          0.085             0         0            0                 0   \n",
       "489          0.125             0         0            0                 1   \n",
       "520          1.500             1         1            1                 0   \n",
       "598          1.000             0         1            1                 0   \n",
       "601          0.000             0         0            0                 1   \n",
       "641          3.500             0         0            0                 1   \n",
       "673          2.000             0         0            0                 0   \n",
       "\n",
       "    Citizen ZipCode  Income  Approved  \n",
       "248       g   00073     444         1  \n",
       "327       s   01160       0         0  \n",
       "346       g   00372     122         0  \n",
       "374       g   00260    1004         0  \n",
       "453       g   00300       0         0  \n",
       "479       s   00080       0         0  \n",
       "489       g   00263       0         0  \n",
       "520       g   00160     234         1  \n",
       "598       g   00240     768         1  \n",
       "601       g   00150       1         0  \n",
       "641       g   00200     141         0  \n",
       "673       g   00256      17         0  "
      ]
     },
     "execution_count": 413,
     "metadata": {},
     "output_type": "execute_result"
    }
   ],
   "source": [
    "credit_df[credit_df['Male'].isnull()]"
   ]
  },
  {
   "cell_type": "markdown",
   "id": "b4877dcc",
   "metadata": {},
   "source": [
    "> Fill \"Male\", \"Married\", \"EducationLevel\", \"Ethnicity\", \"BankCustomer\", missing values with \"Mode\""
   ]
  },
  {
   "cell_type": "code",
   "execution_count": 414,
   "id": "b6bceb2c",
   "metadata": {},
   "outputs": [],
   "source": [
    "credit_df['Male'].fillna(credit_df['Male'].mode()[0], inplace=True)\n",
    "credit_df['Married'].fillna(credit_df['Married'].mode()[0], inplace=True)"
   ]
  },
  {
   "cell_type": "code",
   "execution_count": 415,
   "id": "9a32d899",
   "metadata": {},
   "outputs": [],
   "source": [
    "imputer = SimpleImputer(strategy='most_frequent')\n",
    "credit_df['Ethnicity'] = imputer.fit_transform(credit_df[['Ethnicity']])\n",
    "credit_df['EducationLevel'] = imputer.fit_transform(credit_df[['EducationLevel']])\n",
    "credit_df['BankCustomer'] = imputer.fit_transform(credit_df[['BankCustomer']])"
   ]
  },
  {
   "cell_type": "markdown",
   "id": "9e78e0ab",
   "metadata": {},
   "source": [
    "> Fill \"Age\" with \"Mean\""
   ]
  },
  {
   "cell_type": "code",
   "execution_count": 416,
   "id": "b49afd2b",
   "metadata": {},
   "outputs": [],
   "source": [
    "imputer = SimpleImputer(strategy='mean')\n",
    "credit_df['Age'] = imputer.fit_transform(credit_df[['Age']])"
   ]
  },
  {
   "cell_type": "code",
   "execution_count": 417,
   "id": "67a8de98",
   "metadata": {},
   "outputs": [
    {
     "data": {
      "text/plain": [
       "Male                0\n",
       "Age                 0\n",
       "Debt                0\n",
       "Married             0\n",
       "BankCustomer        0\n",
       "EducationLevel      0\n",
       "Ethnicity           0\n",
       "YearsEmployed       0\n",
       "PriorDefault        0\n",
       "Employed            0\n",
       "CreditScore         0\n",
       "HasDriverLicense    0\n",
       "Citizen             0\n",
       "ZipCode             0\n",
       "Income              0\n",
       "Approved            0\n",
       "dtype: int64"
      ]
     },
     "execution_count": 417,
     "metadata": {},
     "output_type": "execute_result"
    }
   ],
   "source": [
    "credit_df.isnull().sum()"
   ]
  },
  {
   "cell_type": "markdown",
   "id": "cec9b050",
   "metadata": {},
   "source": [
    "----------------------------------------------------------------------------------------------------------------"
   ]
  },
  {
   "cell_type": "markdown",
   "id": "459b16c1",
   "metadata": {},
   "source": [
    "#### Outliers"
   ]
  },
  {
   "cell_type": "markdown",
   "id": "ffa05e21",
   "metadata": {},
   "source": [
    "> Age"
   ]
  },
  {
   "cell_type": "code",
   "execution_count": 419,
   "id": "a8c2ac30",
   "metadata": {},
   "outputs": [
    {
     "data": {
      "image/png": "[encoded data removed]",
      "text/plain": [
       "<Figure size 576x360 with 1 Axes>"
      ]
     },
     "metadata": {},
     "output_type": "display_data"
    }
   ],
   "source": [
    "sns.boxplot(x='Age', data=credit_df)\n",
    "sns.stripplot(x='Age', data=credit_df, color=\"#474646\");"
   ]
  },
  {
   "cell_type": "code",
   "execution_count": 420,
   "id": "a1761355",
   "metadata": {},
   "outputs": [
    {
     "data": {
      "text/plain": [
       "18"
      ]
     },
     "execution_count": 420,
     "metadata": {},
     "output_type": "execute_result"
    }
   ],
   "source": [
    "age_outliers = detect_outliers(credit_df, 0, ['Age'])\n",
    "len(age_outliers)"
   ]
  },
  {
   "cell_type": "code",
   "execution_count": 421,
   "id": "22de66f9",
   "metadata": {},
   "outputs": [],
   "source": [
    "credit_df.drop(age_outliers, inplace=True)"
   ]
  },
  {
   "cell_type": "code",
   "execution_count": 422,
   "id": "9752c82b",
   "metadata": {},
   "outputs": [
    {
     "data": {
      "image/png": "[encoded data removed]",
      "text/plain": [
       "<Figure size 576x360 with 1 Axes>"
      ]
     },
     "metadata": {},
     "output_type": "display_data"
    }
   ],
   "source": [
    "sns.boxplot(x='Age', data=credit_df)\n",
    "sns.stripplot(x='Age', data=credit_df, color=\"#474646\");"
   ]
  },
  {
   "cell_type": "markdown",
   "id": "558d7308",
   "metadata": {},
   "source": [
    "> Debt"
   ]
  },
  {
   "cell_type": "code",
   "execution_count": 423,
   "id": "c760da69",
   "metadata": {},
   "outputs": [
    {
     "data": {
      "image/png": "[encoded data removed]",
      "text/plain": [
       "<Figure size 576x360 with 1 Axes>"
      ]
     },
     "metadata": {},
     "output_type": "display_data"
    }
   ],
   "source": [
    "sns.boxplot(x='Debt', data=credit_df);\n",
    "sns.stripplot(x='Debt', data=credit_df, color=\"#474646\");"
   ]
  },
  {
   "cell_type": "code",
   "execution_count": 424,
   "id": "cf37ef88",
   "metadata": {},
   "outputs": [
    {
     "data": {
      "text/plain": [
       "15"
      ]
     },
     "execution_count": 424,
     "metadata": {},
     "output_type": "execute_result"
    }
   ],
   "source": [
    "debt_outliers = detect_outliers(credit_df, 0, ['Debt'])\n",
    "len(debt_outliers)"
   ]
  },
  {
   "cell_type": "code",
   "execution_count": 425,
   "id": "3062a292",
   "metadata": {},
   "outputs": [],
   "source": [
    "credit_df.drop(debt_outliers, inplace=True)"
   ]
  },
  {
   "cell_type": "code",
   "execution_count": 426,
   "id": "b2114d8d",
   "metadata": {},
   "outputs": [
    {
     "data": {
      "image/png": "[encoded data removed]",
      "text/plain": [
       "<Figure size 576x360 with 1 Axes>"
      ]
     },
     "metadata": {},
     "output_type": "display_data"
    }
   ],
   "source": [
    "sns.boxplot(x='Debt', data=credit_df);\n",
    "sns.stripplot(x='Debt', data=credit_df, color=\"#474646\");"
   ]
  },
  {
   "cell_type": "markdown",
   "id": "af124d64",
   "metadata": {},
   "source": [
    "> YearsEmployed"
   ]
  },
  {
   "cell_type": "code",
   "execution_count": 427,
   "id": "52078651",
   "metadata": {},
   "outputs": [
    {
     "data": {
      "image/png": "[encoded data removed]",
      "text/plain": [
       "<Figure size 576x360 with 1 Axes>"
      ]
     },
     "metadata": {},
     "output_type": "display_data"
    }
   ],
   "source": [
    "sns.boxplot(x='YearsEmployed', data=credit_df)\n",
    "sns.stripplot(x='YearsEmployed', data=credit_df, color=\"#474646\");"
   ]
  },
  {
   "cell_type": "code",
   "execution_count": 428,
   "id": "85c47251",
   "metadata": {},
   "outputs": [
    {
     "data": {
      "text/plain": [
       "55"
      ]
     },
     "execution_count": 428,
     "metadata": {},
     "output_type": "execute_result"
    }
   ],
   "source": [
    "years_outliers = detect_outliers(credit_df, 0, ['YearsEmployed'])\n",
    "len(years_outliers)"
   ]
  },
  {
   "cell_type": "code",
   "execution_count": 429,
   "id": "57ea668a",
   "metadata": {},
   "outputs": [],
   "source": [
    "credit_df.loc[years_outliers, 'YearsEmployed'] = credit_df['YearsEmployed'].median()"
   ]
  },
  {
   "cell_type": "code",
   "execution_count": 430,
   "id": "18366644",
   "metadata": {},
   "outputs": [
    {
     "data": {
      "image/png": "[encoded data removed]",
      "text/plain": [
       "<Figure size 576x360 with 1 Axes>"
      ]
     },
     "metadata": {},
     "output_type": "display_data"
    }
   ],
   "source": [
    "sns.boxplot(x='YearsEmployed', data=credit_df)\n",
    "sns.stripplot(x='YearsEmployed', data=credit_df, color=\"#474646\");"
   ]
  },
  {
   "cell_type": "markdown",
   "id": "9aa01c54",
   "metadata": {},
   "source": [
    "> CreditScore"
   ]
  },
  {
   "cell_type": "code",
   "execution_count": 431,
   "id": "e9499037",
   "metadata": {},
   "outputs": [
    {
     "data": {
      "image/png": "[encoded data removed]",
      "text/plain": [
       "<Figure size 576x360 with 1 Axes>"
      ]
     },
     "metadata": {},
     "output_type": "display_data"
    }
   ],
   "source": [
    "sns.boxplot(x='CreditScore', data=credit_df)\n",
    "sns.stripplot(x='CreditScore', data=credit_df, color=\"#474646\");"
   ]
  },
  {
   "cell_type": "code",
   "execution_count": 432,
   "id": "fcc42937",
   "metadata": {},
   "outputs": [
    {
     "data": {
      "text/plain": [
       "70"
      ]
     },
     "execution_count": 432,
     "metadata": {},
     "output_type": "execute_result"
    }
   ],
   "source": [
    "credit_outliers = detect_outliers(credit_df, 0, ['CreditScore'])\n",
    "len(credit_outliers)"
   ]
  },
  {
   "cell_type": "code",
   "execution_count": 433,
   "id": "70dcaae1",
   "metadata": {},
   "outputs": [],
   "source": [
    "credit_df.loc[credit_outliers, 'CreditScore'] = credit_df['CreditScore'].median()"
   ]
  },
  {
   "cell_type": "code",
   "execution_count": 440,
   "id": "a17c3c60",
   "metadata": {},
   "outputs": [
    {
     "data": {
      "image/png": "[encoded data removed]",
      "text/plain": [
       "<Figure size 576x360 with 1 Axes>"
      ]
     },
     "metadata": {},
     "output_type": "display_data"
    }
   ],
   "source": [
    "sns.boxplot(x='CreditScore', data=credit_df)\n",
    "sns.stripplot(x='CreditScore', data=credit_df, color=\"#474646\");"
   ]
  },
  {
   "cell_type": "markdown",
   "id": "a07dd128",
   "metadata": {},
   "source": [
    "> Income"
   ]
  },
  {
   "cell_type": "code",
   "execution_count": 435,
   "id": "cc35b543",
   "metadata": {},
   "outputs": [
    {
     "data": {
      "image/png": "[encoded data removed]",
      "text/plain": [
       "<Figure size 576x360 with 1 Axes>"
      ]
     },
     "metadata": {},
     "output_type": "display_data"
    }
   ],
   "source": [
    "sns.boxplot(x='Income', data=credit_df);\n",
    "sns.stripplot(x='Income', data=credit_df, color=\"#474646\");"
   ]
  },
  {
   "cell_type": "code",
   "execution_count": 436,
   "id": "5afcef88",
   "metadata": {},
   "outputs": [
    {
     "data": {
      "text/plain": [
       "105"
      ]
     },
     "execution_count": 436,
     "metadata": {},
     "output_type": "execute_result"
    }
   ],
   "source": [
    "income_outliers = detect_outliers(credit_df, 0, ['Income'])\n",
    "len(income_outliers)"
   ]
  },
  {
   "cell_type": "code",
   "execution_count": 437,
   "id": "2d1a565d",
   "metadata": {},
   "outputs": [],
   "source": [
    "credit_df.loc[income_outliers, 'Income'] = credit_df['Income'].median()"
   ]
  },
  {
   "cell_type": "code",
   "execution_count": 438,
   "id": "5e23e28c",
   "metadata": {},
   "outputs": [
    {
     "data": {
      "image/png": "[encoded data removed]",
      "text/plain": [
       "<Figure size 576x360 with 1 Axes>"
      ]
     },
     "metadata": {},
     "output_type": "display_data"
    }
   ],
   "source": [
    "sns.boxplot(x='Income', data=credit_df);\n",
    "sns.stripplot(x='Income', data=credit_df, color=\"#474646\");"
   ]
  },
  {
   "cell_type": "code",
   "execution_count": null,
   "id": "a8bc12d6",
   "metadata": {},
   "outputs": [],
   "source": []
  }
 ],
 "metadata": {
  "kernelspec": {
   "display_name": "Python 3",
   "language": "python",
   "name": "python3"
  },
  "language_info": {
   "codemirror_mode": {
    "name": "ipython",
    "version": 3
   },
   "file_extension": ".py",
   "mimetype": "text/x-python",
   "name": "python",
   "nbconvert_exporter": "python",
   "pygments_lexer": "ipython3",
   "version": "3.8.8"
  }
 },
 "nbformat": 4,
 "nbformat_minor": 5
}
