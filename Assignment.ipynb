{
 "cells": [
  {
   "cell_type": "markdown",
   "id": "e0388c7e",
   "metadata": {},
   "source": [
    "**Q1**\n",
    "\n",
    "let's make a small culculator get the first,second number from the user also get the operator (+,-,/,*) and use if to check the operator then to do the operation required based on the operator and print out the result\n",
    "\n",
    " EX:operator=='+' then add the 2 numbers \n"
   ]
  },
  {
   "cell_type": "code",
   "execution_count": 1,
   "id": "1f40c4ef",
   "metadata": {},
   "outputs": [
    {
     "name": "stdout",
     "output_type": "stream",
     "text": [
      "Enter first number: 8\n",
      "Enter second number: 9\n",
      "Enter operator (+,-,/,*): /\n",
      "8.0/9.0 = 0.89\n"
     ]
    }
   ],
   "source": [
    "#code here\n",
    "fisrt_num = float(input(\"Enter first number: \"))\n",
    "second_num = float(input(\"Enter second number: \"))\n",
    "operator = str(input(\"Enter operator (+,-,/,*): \"))\n",
    "\n",
    "result = str(fisrt_num)+operator+str(second_num)+' = {:0.2f}'\n",
    "\n",
    "if operator == '+':\n",
    "    print(result.format(fisrt_num + second_num))\n",
    "elif operator == '-':\n",
    "    print(result.format(fisrt_num - second_num))\n",
    "elif operator == '*':\n",
    "    print(result.format(fisrt_num * second_num))\n",
    "elif operator == '/':\n",
    "    print(result.format(fisrt_num / second_num))\n",
    "else:\n",
    "    print(\"Wrong inputs\")"
   ]
  },
  {
   "cell_type": "markdown",
   "id": "0a931633",
   "metadata": {},
   "source": [
    "**Q2**\n",
    "\n",
    "get a word from the user then Use if to print out the word repeated 3 times if it starts with 's' else print the word :**"
   ]
  },
  {
   "cell_type": "code",
   "execution_count": 2,
   "id": "3e62b0fe",
   "metadata": {},
   "outputs": [
    {
     "name": "stdout",
     "output_type": "stream",
     "text": [
      "Enter word sop\n",
      "sop sop sop \n"
     ]
    }
   ],
   "source": [
    "#code here\n",
    "user_input = str(input('Enter word '))\n",
    "if user_input.startswith('s'):\n",
    "    print((user_input+' ')*3)\n",
    "else:\n",
    "    print('**')"
   ]
  },
  {
   "cell_type": "markdown",
   "id": "3db9f366",
   "metadata": {},
   "source": [
    "**Q3**\n",
    "\n",
    "1- open text file and write ' username:ds_jr' in the first line and 'password:89120&%'\n",
    "\n",
    "2-get the username and the password from the user and check if it equals the username and the password in the text file then print out 'hello ds_jr , welcome!' else print out 'not found'"
   ]
  },
  {
   "cell_type": "code",
   "execution_count": 3,
   "id": "215b400a",
   "metadata": {},
   "outputs": [],
   "source": [
    "#code here\n",
    "file=open('data.txt','w+')\n",
    "file.writelines(['username:ds_jr\\n','password:89120&%\\n'])\n",
    "file.seek(0)\n",
    "lines = file.readlines()\n",
    "username_file = lines[0].split(':')[1][:-1]\n",
    "password_file = lines[1].split(':')[1][:-1]\n",
    "file.close()"
   ]
  },
  {
   "cell_type": "code",
   "execution_count": 4,
   "id": "8762e011",
   "metadata": {},
   "outputs": [
    {
     "name": "stdout",
     "output_type": "stream",
     "text": [
      "Enter username: test\n",
      "Enter password: 123\n",
      "not found\n"
     ]
    }
   ],
   "source": [
    "username_input = str(input('Enter username: '))\n",
    "password_input = str(input('Enter password: '))\n",
    "\n",
    "if username_file == username_input and password_file == password_input:\n",
    "    print('hello ds_jr , welcome!')\n",
    "else:\n",
    "    print('not found')"
   ]
  },
  {
   "cell_type": "markdown",
   "id": "07cde1e0",
   "metadata": {},
   "source": [
    "**Q4**\n",
    "\n",
    "edit the code above to add a counter in the text file 'counter:0' that its value will increase every time the user try to log in   ( every check )    'counter:1' -->'counter:2' and so on."
   ]
  },
  {
   "cell_type": "code",
   "execution_count": 5,
   "id": "991f6f7a",
   "metadata": {},
   "outputs": [],
   "source": [
    "#code here\n",
    "file=open('data.txt','a+')\n",
    "file.write('counter:0\\n')\n",
    "file.seek(0)\n",
    "lines = file.readlines()\n",
    "counter_file = int(lines[2].split(':')[1][:-1])\n",
    "file.close()"
   ]
  },
  {
   "cell_type": "code",
   "execution_count": 10,
   "id": "e8669b98",
   "metadata": {},
   "outputs": [
    {
     "name": "stdout",
     "output_type": "stream",
     "text": [
      "Enter username: test5\n",
      "Enter password: 123\n",
      "not found\n",
      "['username:ds_jr\\n', 'password:89120&%\\n', 'counter:5\\n']\n"
     ]
    }
   ],
   "source": [
    "username_input = str(input('Enter username: '))\n",
    "password_input = str(input('Enter password: '))\n",
    "\n",
    "if username_file == username_input and password_file == password_input:\n",
    "    print('hello ds_jr , welcome!')\n",
    "else:\n",
    "    print('not found')\n",
    "    \n",
    "file=open('data.txt','w+')    \n",
    "counter_file+=1\n",
    "lines[2] = 'counter:'+str(counter_file)+'\\n'\n",
    "file.writelines(lines)\n",
    "file.seek(0)\n",
    "print(file.readlines())\n",
    "file.close()"
   ]
  },
  {
   "cell_type": "markdown",
   "id": "06ab8731",
   "metadata": {},
   "source": [
    "**Q5**\n",
    "search for a function that could remove the whitespace from the beginning and the end of the strings\n",
    "EX: '  Hello  ' ==>'Hello'\n",
    "and use it to update all the string values below\n",
    "\n"
   ]
  },
  {
   "cell_type": "code",
   "execution_count": 11,
   "id": "c4b95bfa",
   "metadata": {},
   "outputs": [
    {
     "name": "stdout",
     "output_type": "stream",
     "text": [
      "\n",
      " heeeeeey! \n",
      " okay \n",
      " nice to meet u\n",
      "['moh', 'nada', 'jo']\n",
      "{'k1': 'nomoro', 'k2': 'mmm  mmm'}\n"
     ]
    }
   ],
   "source": [
    "w='  heeeeeey! '\n",
    "w1='okay '\n",
    "w2='   nice to meet u    '\n",
    "l=['moh  ','  nada ',' jo ']\n",
    "d={'k1':'  nomoro  ','k2':' mmm  mmm   '}\n",
    "\n",
    "#code here\n",
    "w = w.strip()\n",
    "w1 = w1.strip()\n",
    "w2 = w2.strip()\n",
    "\n",
    "#l = [i.strip() for i in l]\n",
    "l = [(l[0]).strip(),(l[1]).strip(),(l[2]).strip()]\n",
    "\n",
    "#d = {k.strip(): d[k].strip() for k in d}\n",
    "d_items = list(d.items())\n",
    "d = {d_items[0][0].strip(): d_items[0][1].strip(), d_items[1][0].strip(): d_items[1][1].strip()}\n",
    "\n",
    "print('\\n',w,'\\n',w1,'\\n',w2)\n",
    "print(l)\n",
    "print(d)"
   ]
  },
  {
   "cell_type": "code",
   "execution_count": null,
   "id": "70fe2953",
   "metadata": {},
   "outputs": [],
   "source": []
  }
 ],
 "metadata": {
  "kernelspec": {
   "display_name": "Python 3",
   "language": "python",
   "name": "python3"
  },
  "language_info": {
   "codemirror_mode": {
    "name": "ipython",
    "version": 3
   },
   "file_extension": ".py",
   "mimetype": "text/x-python",
   "name": "python",
   "nbconvert_exporter": "python",
   "pygments_lexer": "ipython3",
   "version": "3.8.8"
  }
 },
 "nbformat": 4,
 "nbformat_minor": 5
}
