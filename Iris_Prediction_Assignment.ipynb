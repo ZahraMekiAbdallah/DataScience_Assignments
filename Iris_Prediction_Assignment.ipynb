{
 "cells": [
  {
   "cell_type": "code",
   "execution_count": 1,
   "id": "3393c978",
   "metadata": {},
   "outputs": [],
   "source": [
    "import pandas as pd\n",
    "import numpy as np\n",
    "from sklearn import preprocessing\n",
    "import matplotlib.pyplot as plt\n",
    "import seaborn as sns\n",
    "from sklearn.model_selection import train_test_split, cross_val_score\n",
    "from sklearn.impute import SimpleImputer\n",
    "from sklearn.metrics import confusion_matrix, accuracy_score, classification_report\n",
    "from sklearn.ensemble import RandomForestClassifier\n",
    "from sklearn.datasets import load_iris\n",
    "from sklearn.utils import shuffle"
   ]
  },
  {
   "cell_type": "markdown",
   "id": "121c2c3d",
   "metadata": {},
   "source": [
    "### Spliting Data"
   ]
  },
  {
   "cell_type": "code",
   "execution_count": 2,
   "id": "3cf53cfe",
   "metadata": {},
   "outputs": [],
   "source": [
    "# === Loading Data ===\n",
    "iris = load_iris()\n",
    "iris_X = iris.data\n",
    "iris_y = iris.target\n",
    "\n",
    "iris_X, iris_y = shuffle(iris_X, iris_y, random_state=134)\n",
    "\n",
    "X_train, X_test, y_train, y_test = train_test_split(iris_X, iris_y, test_size=0.3, random_state=42)"
   ]
  },
  {
   "cell_type": "markdown",
   "id": "955a7fcc",
   "metadata": {},
   "source": [
    "### Building Models "
   ]
  },
  {
   "cell_type": "code",
   "execution_count": 3,
   "id": "1e569538",
   "metadata": {},
   "outputs": [],
   "source": [
    "def display_plt(clf, y_pred):\n",
    "    fig, axes = plt.subplots(figsize=(15, 5)) \n",
    "    matrix_confusion = confusion_matrix(y_test, y_pred)\n",
    "    sns.heatmap(matrix_confusion, square=True, annot=True, cmap='Blues', fmt='d')\n",
    "    plt.show()"
   ]
  },
  {
   "cell_type": "code",
   "execution_count": 4,
   "id": "36d0ce33",
   "metadata": {},
   "outputs": [],
   "source": [
    "rf_clf = RandomForestClassifier(random_state=42)\n",
    "rf_clf = rf_clf.fit(X_train, y_train)\n",
    "y_pred = rf_clf.predict(X_test)"
   ]
  },
  {
   "cell_type": "code",
   "execution_count": 5,
   "id": "7be274c0",
   "metadata": {},
   "outputs": [
    {
     "data": {
      "image/png": "[encoded data removed]",
      "text/plain": [
       "<Figure size 1080x360 with 2 Axes>"
      ]
     },
     "metadata": {
      "needs_background": "light"
     },
     "output_type": "display_data"
    },
    {
     "name": "stdout",
     "output_type": "stream",
     "text": [
      "              precision    recall  f1-score   support\n",
      "\n",
      "           0       1.00      1.00      1.00        13\n",
      "           1       1.00      0.93      0.97        15\n",
      "           2       0.94      1.00      0.97        17\n",
      "\n",
      "    accuracy                           0.98        45\n",
      "   macro avg       0.98      0.98      0.98        45\n",
      "weighted avg       0.98      0.98      0.98        45\n",
      "\n"
     ]
    }
   ],
   "source": [
    "display_plt(rf_clf, y_pred)\n",
    "print(classification_report(y_test, y_pred))"
   ]
  },
  {
   "cell_type": "markdown",
   "id": "a85c5845",
   "metadata": {},
   "source": [
    "### Feature Importance "
   ]
  },
  {
   "cell_type": "code",
   "execution_count": 6,
   "id": "7f4c9ce4",
   "metadata": {},
   "outputs": [
    {
     "data": {
      "text/plain": [
       "array([0.11001804, 0.02804557, 0.43543954, 0.42649685])"
      ]
     },
     "execution_count": 6,
     "metadata": {},
     "output_type": "execute_result"
    }
   ],
   "source": [
    "rf_clf.feature_importances_"
   ]
  },
  {
   "cell_type": "code",
   "execution_count": 7,
   "id": "a21e8f60",
   "metadata": {},
   "outputs": [
    {
     "data": {
      "image/png": "[encoded data removed]",
      "text/plain": [
       "<Figure size 720x504 with 1 Axes>"
      ]
     },
     "metadata": {},
     "output_type": "display_data"
    }
   ],
   "source": [
    "sns.set(rc={'figure.figsize': [10, 7]}, font_scale=1.2)\n",
    "df = pd.DataFrame({'RF': rf_clf.feature_importances_}, index=iris.feature_names)\n",
    "ax = df.plot.barh()"
   ]
  },
  {
   "cell_type": "code",
   "execution_count": 8,
   "id": "4b9ddefe",
   "metadata": {},
   "outputs": [
    {
     "data": {
      "text/plain": [
       "array([[4.6, 1.4, 0.3],\n",
       "       [4.9, 1.4, 0.2],\n",
       "       [6.3, 4.4, 1.3],\n",
       "       [5.4, 1.5, 0.2],\n",
       "       [5. , 1.5, 0.2],\n",
       "       [4.9, 1.4, 0.1],\n",
       "       [5.2, 1.4, 0.2],\n",
       "       [5.7, 1.7, 0.3],\n",
       "       [6.7, 4.4, 1.4],\n",
       "       [6.3, 5.6, 2.4],\n",
       "       [5.8, 4. , 1.2],\n",
       "       [5.6, 4.1, 1.3],\n",
       "       [6.7, 5.7, 2.5],\n",
       "       [6.4, 5.3, 1.9],\n",
       "       [5.6, 3.6, 1.3],\n",
       "       [5.1, 1.9, 0.4],\n",
       "       [5. , 1.4, 0.2],\n",
       "       [6.9, 5.1, 2.3],\n",
       "       [5.8, 3.9, 1.2],\n",
       "       [4.3, 1.1, 0.1],\n",
       "       [6.8, 5.9, 2.3],\n",
       "       [4.9, 1.5, 0.2],\n",
       "       [5.6, 4.9, 2. ],\n",
       "       [5.4, 1.7, 0.4],\n",
       "       [6.5, 5.1, 2. ],\n",
       "       [6.2, 4.5, 1.5],\n",
       "       [6. , 4. , 1. ],\n",
       "       [5.7, 4.5, 1.3],\n",
       "       [6. , 4.5, 1.6],\n",
       "       [6.4, 5.6, 2.2],\n",
       "       [5.2, 3.9, 1.4],\n",
       "       [6.9, 5.7, 2.3],\n",
       "       [6.7, 5.8, 1.8],\n",
       "       [6.7, 4.7, 1.5],\n",
       "       [6.9, 4.9, 1.5],\n",
       "       [5.1, 1.5, 0.3],\n",
       "       [6.4, 5.5, 1.8],\n",
       "       [7.9, 6.4, 2. ],\n",
       "       [7.4, 6.1, 1.9],\n",
       "       [4.8, 1.6, 0.2],\n",
       "       [5.4, 4.5, 1.5],\n",
       "       [6.1, 5.6, 1.4],\n",
       "       [4.8, 1.4, 0.3],\n",
       "       [5.1, 1.4, 0.2],\n",
       "       [6.6, 4.4, 1.4],\n",
       "       [5.9, 4.8, 1.8],\n",
       "       [5.5, 1.4, 0.2],\n",
       "       [6. , 4.8, 1.8],\n",
       "       [4.6, 1.5, 0.2],\n",
       "       [6.5, 4.6, 1.5],\n",
       "       [5.8, 4.1, 1. ],\n",
       "       [6. , 5.1, 1.6],\n",
       "       [4.8, 1.6, 0.2],\n",
       "       [5. , 1.6, 0.4],\n",
       "       [6.3, 4.9, 1.8],\n",
       "       [5.8, 5.1, 1.9],\n",
       "       [5.1, 1.5, 0.4],\n",
       "       [5. , 3.5, 1. ],\n",
       "       [5. , 1.4, 0.2],\n",
       "       [6.5, 5.8, 2.2],\n",
       "       [4.7, 1.3, 0.2],\n",
       "       [7.2, 6. , 1.8],\n",
       "       [5.5, 4. , 1.3],\n",
       "       [5.7, 4.1, 1.3],\n",
       "       [4.6, 1. , 0.2],\n",
       "       [5.2, 1.5, 0.1],\n",
       "       [6.7, 5.6, 2.4],\n",
       "       [5.7, 5. , 2. ],\n",
       "       [5.4, 1.5, 0.4],\n",
       "       [6.2, 4.8, 1.8],\n",
       "       [5.2, 1.5, 0.2],\n",
       "       [5.5, 1.3, 0.2],\n",
       "       [6. , 5. , 1.5],\n",
       "       [4.5, 1.3, 0.3],\n",
       "       [6.1, 4.7, 1.2],\n",
       "       [6.1, 4.6, 1.4],\n",
       "       [6.1, 4.9, 1.8],\n",
       "       [5.6, 3.9, 1.1],\n",
       "       [6.1, 4.7, 1.4],\n",
       "       [6.8, 5.5, 2.1],\n",
       "       [5.6, 4.2, 1.3],\n",
       "       [6.3, 4.7, 1.6],\n",
       "       [5.7, 4.2, 1.2],\n",
       "       [4.9, 4.5, 1.7],\n",
       "       [5.7, 4.2, 1.3],\n",
       "       [6.3, 5.1, 1.5],\n",
       "       [6.4, 5.3, 2.3],\n",
       "       [5.4, 1.7, 0.2],\n",
       "       [5.8, 1.2, 0.2],\n",
       "       [5.1, 1.6, 0.2],\n",
       "       [6.4, 5.6, 2.1],\n",
       "       [5.5, 4.4, 1.2],\n",
       "       [5.5, 3.7, 1. ],\n",
       "       [4.9, 3.3, 1. ],\n",
       "       [4.8, 1.9, 0.2],\n",
       "       [5. , 1.6, 0.6],\n",
       "       [7.7, 6.9, 2.3],\n",
       "       [6.3, 4.9, 1.5],\n",
       "       [4.4, 1.3, 0.2],\n",
       "       [5.9, 5.1, 1.8],\n",
       "       [6.1, 4. , 1.3],\n",
       "       [6.5, 5.5, 1.8],\n",
       "       [7.7, 6.1, 2.3],\n",
       "       [4.4, 1.3, 0.2],\n",
       "       [5.3, 1.5, 0.2]])"
      ]
     },
     "execution_count": 8,
     "metadata": {},
     "output_type": "execute_result"
    }
   ],
   "source": [
    "# === Removing the least importanat feature === \n",
    "# === Removing index (1) \"sepal width (cm)\", which has the lowest score \"0.02804557\"\n",
    "np.delete(X_train, 1, axis=1)"
   ]
  },
  {
   "cell_type": "code",
   "execution_count": 9,
   "id": "0e88de89",
   "metadata": {},
   "outputs": [],
   "source": [
    "rf_clf = RandomForestClassifier(random_state=42)\n",
    "rf_clf = rf_clf.fit(X_train, y_train)\n",
    "y_pred = rf_clf.predict(X_test)"
   ]
  },
  {
   "cell_type": "code",
   "execution_count": 10,
   "id": "8f48564b",
   "metadata": {},
   "outputs": [
    {
     "data": {
      "image/png": "[encoded data removed]",
      "text/plain": [
       "<Figure size 1080x360 with 2 Axes>"
      ]
     },
     "metadata": {},
     "output_type": "display_data"
    },
    {
     "name": "stdout",
     "output_type": "stream",
     "text": [
      "              precision    recall  f1-score   support\n",
      "\n",
      "           0       1.00      1.00      1.00        13\n",
      "           1       1.00      0.93      0.97        15\n",
      "           2       0.94      1.00      0.97        17\n",
      "\n",
      "    accuracy                           0.98        45\n",
      "   macro avg       0.98      0.98      0.98        45\n",
      "weighted avg       0.98      0.98      0.98        45\n",
      "\n"
     ]
    }
   ],
   "source": [
    "display_plt(rf_clf, y_pred)\n",
    "print(classification_report(y_test, y_pred))"
   ]
  },
  {
   "cell_type": "markdown",
   "id": "590c6427",
   "metadata": {},
   "source": [
    "- Same accuracy score \"0.98\" before and after removing the lowest importance feature"
   ]
  },
  {
   "cell_type": "code",
   "execution_count": null,
   "id": "d9383bac",
   "metadata": {},
   "outputs": [],
   "source": []
  }
 ],
 "metadata": {
  "kernelspec": {
   "display_name": "Python 3",
   "language": "python",
   "name": "python3"
  },
  "language_info": {
   "codemirror_mode": {
    "name": "ipython",
    "version": 3
   },
   "file_extension": ".py",
   "mimetype": "text/x-python",
   "name": "python",
   "nbconvert_exporter": "python",
   "pygments_lexer": "ipython3",
   "version": "3.8.8"
  }
 },
 "nbformat": 4,
 "nbformat_minor": 5
}
